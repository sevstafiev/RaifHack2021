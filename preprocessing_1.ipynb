{
 "cells": [
  {
   "cell_type": "code",
   "execution_count": null,
   "id": "c7bae4bd-923a-48d2-ab6d-5e822af394ad",
   "metadata": {},
   "outputs": [],
   "source": [
    "import numpy as np\n",
    "import pandas as pd\n",
    "import matplotlib.pyplot as plt\n",
    "import seaborn as sns\n",
    "import optuna\n",
    "from catboost import Pool\n",
    "\n",
    "import featuretools as ft\n",
    "from featuretools import selection\n",
    "\n",
    "from sklearn.metrics import mean_absolute_error, make_scorer, mean_squared_error, r2_score\n",
    "from sklearn.pipeline import Pipeline, FeatureUnion, make_pipeline, _fit_transform_one, _transform_one, make_union\n",
    "from sklearn.compose import ColumnTransformer\n",
    "from sklearn.preprocessing import FunctionTransformer\n",
    "\n",
    "from sklearn.preprocessing import StandardScaler, MinMaxScaler\n",
    "from sklearn.impute import SimpleImputer\n",
    "from sklearn.model_selection import KFold \n",
    "from sklearn.model_selection import train_test_split\n",
    "from sklearn.model_selection import cross_val_score\n",
    "from sklearn.base import BaseEstimator, TransformerMixin\n",
    "from sklearn.linear_model import Ridge\n",
    "\n",
    "from sklearn.feature_selection import VarianceThreshold\n",
    "from sklearn.feature_selection import SelectKBest, SelectPercentile\n",
    "from sklearn.feature_selection import chi2, mutual_info_classif\n",
    "\n",
    "\n",
    "from sklearn.preprocessing import FunctionTransformer, StandardScaler, OneHotEncoder\n",
    "from category_encoders import BackwardDifferenceEncoder, HelmertEncoder, BinaryEncoder\n",
    "from category_encoders import CountEncoder\n",
    "from category_encoders import LeaveOneOutEncoder, TargetEncoder, JamesSteinEncoder, MEstimateEncoder, WOEEncoder, CatBoostEncoder\n",
    "from category_encoders.wrapper import NestedCVWrapper\n",
    "\n",
    "from catboost import CatBoostRegressor\n",
    "\n",
    "import warnings\n",
    "from sklearn.exceptions import DataConversionWarning\n",
    "warnings.filterwarnings(action='ignore')\n",
    "\n",
    "np.random.seed(42)\n",
    "import os\n",
    "import typing\n",
    "from autogluon.tabular import TabularDataset, TabularPredictor\n",
    "import re\n",
    "import joblib\n",
    "\n",
    "from sklearn.experimental import enable_iterative_imputer\n",
    "from sklearn.impute import IterativeImputer"
   ]
  },
  {
   "cell_type": "code",
   "execution_count": 17,
   "id": "44dd2835-26f5-4ef4-9e77-e8a523e68a30",
   "metadata": {},
   "outputs": [],
   "source": [
    "data = pd.read_csv('/app/full_data.csv')"
   ]
  },
  {
   "cell_type": "code",
   "execution_count": 18,
   "id": "4fa916ef-988d-4b6c-9029-c97ec519b15d",
   "metadata": {},
   "outputs": [],
   "source": [
    "train = data[~data.per_square_meter_price.isna()]\n",
    "test = data[data.per_square_meter_price.isna()]"
   ]
  },
  {
   "cell_type": "code",
   "execution_count": 19,
   "id": "5e100b18-6ca3-4ead-b732-98307283e047",
   "metadata": {},
   "outputs": [],
   "source": [
    "train.per_square_meter_price = np.log(train.per_square_meter_price)"
   ]
  },
  {
   "cell_type": "code",
   "execution_count": 21,
   "id": "b4fd95ca-b72e-44aa-af82-3ed7e3738671",
   "metadata": {},
   "outputs": [],
   "source": [
    "target = 'per_square_meter_price'\n",
    "# признаки (или набор признаков), для которых применяем smoothed target encoding\n",
    "ste_cat_features = ['region', 'city', 'realty_type', 'month', 'year', 'day',\n",
    "                    'street','floor', 'osm_city_nearest_name']\n",
    "\n",
    "# признаки, для которых применяем one hot encoding\n",
    "ohe_cat_features = []\n",
    "\n",
    "# численные признаки\n",
    "num_features = ['lat', 'lng', 'osm_amenity_points_in_0.001',\n",
    "       'osm_amenity_points_in_0.005', 'osm_amenity_points_in_0.0075',\n",
    "       'osm_amenity_points_in_0.01', 'osm_building_points_in_0.001',\n",
    "       'osm_building_points_in_0.005', 'osm_building_points_in_0.0075',\n",
    "       'osm_building_points_in_0.01', 'osm_catering_points_in_0.001',\n",
    "       'osm_catering_points_in_0.005', 'osm_catering_points_in_0.0075',\n",
    "       'osm_catering_points_in_0.01', 'osm_city_closest_dist',\n",
    "      'osm_city_nearest_population',\n",
    "       'osm_crossing_closest_dist', 'osm_crossing_points_in_0.001',\n",
    "       'osm_crossing_points_in_0.005', 'osm_crossing_points_in_0.0075',\n",
    "       'osm_crossing_points_in_0.01', 'osm_culture_points_in_0.001',\n",
    "       'osm_culture_points_in_0.005', 'osm_culture_points_in_0.0075',\n",
    "       'osm_culture_points_in_0.01', 'osm_finance_points_in_0.001',\n",
    "       'osm_finance_points_in_0.005', 'osm_finance_points_in_0.0075',\n",
    "       'osm_finance_points_in_0.01', 'osm_healthcare_points_in_0.005',\n",
    "       'osm_healthcare_points_in_0.0075', 'osm_healthcare_points_in_0.01',\n",
    "       'osm_historic_points_in_0.005', 'osm_historic_points_in_0.0075',\n",
    "       'osm_historic_points_in_0.01', 'osm_hotels_points_in_0.005',\n",
    "       'osm_hotels_points_in_0.0075', 'osm_hotels_points_in_0.01',\n",
    "       'osm_leisure_points_in_0.005', 'osm_leisure_points_in_0.0075',\n",
    "       'osm_leisure_points_in_0.01', 'osm_offices_points_in_0.001',\n",
    "       'osm_offices_points_in_0.005', 'osm_offices_points_in_0.0075',\n",
    "       'osm_offices_points_in_0.01', 'osm_shops_points_in_0.001',\n",
    "       'osm_shops_points_in_0.005', 'osm_shops_points_in_0.0075',\n",
    "       'osm_shops_points_in_0.01', 'osm_subway_closest_dist',\n",
    "       'osm_train_stop_closest_dist', 'osm_train_stop_points_in_0.005',\n",
    "       'osm_train_stop_points_in_0.0075', 'osm_train_stop_points_in_0.01',\n",
    "       'osm_transport_stop_closest_dist', 'osm_transport_stop_points_in_0.005',\n",
    "       'osm_transport_stop_points_in_0.0075',\n",
    "       'osm_transport_stop_points_in_0.01',\n",
    "       'reform_count_of_houses_1000', 'reform_count_of_houses_500',\n",
    "       'reform_house_population_1000', 'reform_house_population_500',\n",
    "       'reform_mean_floor_count_1000', 'reform_mean_floor_count_500',\n",
    "       'reform_mean_year_building_1000', 'reform_mean_year_building_500',\n",
    "        'total_square','nn_100m_price', 'nn_300m_price', 'nn_1000m_price', \n",
    "        'mmvb_lag1', 'mmvb_lag2', 'number_of_supply1', 'number_of_supply2', \n",
    "        'price_dynamic1', 'price_dynamic2', 'mean_sqm_price1', \n",
    "        'mean_sqm_price2', 'exp_time', 'ipc_all_month', 'ipc_all_year', \n",
    "        'ipc_goods_month', 'ipc_goods_year', 'ipc_build_month', \n",
    "        'ipc_build_year', 'miacr', 'ipc_base', 'ipc_chain', 'interest_rate',\n",
    "        'inc_per_capita', 'invest_residue', 'debts']\n",
    "\n",
    "na_features = train[train.columns[train.isnull().any()]].columns"
   ]
  },
  {
   "cell_type": "code",
   "execution_count": 22,
   "id": "ed03c3bc-bb63-4d62-b636-dd66d83b07a6",
   "metadata": {},
   "outputs": [],
   "source": [
    "def floor(df2):\n",
    "    df = df2.copy()\n",
    "    a = pd.DataFrame(df.loc[df.floor.notnull(), 'floor'].unique(), columns = ['floor'])\n",
    "    for i in a.floor:\n",
    "        try:\n",
    "            a.loc[a.floor == i, 'normal'] = np.float64(i)\n",
    "        except ValueError:\n",
    "            a.loc[a.floor == i, 'normal'] ='broken'\n",
    "    a.loc[a.floor.str.contains('одва') == True, 'normal'] = -1\n",
    "    a.loc[a.floor == '3 этаж', 'normal'] = 3\n",
    "    a.loc[a.floor == '4 этаж', 'normal'] = 4\n",
    "    a.loc[a.floor == '5 этаж', 'normal'] = 5\n",
    "    a.loc[a.normal == 'broken', 'normal'] = np.nan\n",
    "    for j in a.floor:\n",
    "        df.loc[df.floor == j, 'floor'] = a.loc[a.floor == j, 'normal'].values[0]\n",
    "    df.floor\n",
    "    return df"
   ]
  },
  {
   "cell_type": "code",
   "execution_count": 23,
   "id": "4621c0e4-9795-497c-973f-740e3365aa57",
   "metadata": {},
   "outputs": [],
   "source": [
    "train = floor(train)"
   ]
  },
  {
   "cell_type": "code",
   "execution_count": 24,
   "id": "5d706c01-2181-4a60-a3a7-f94ddaaf9e6e",
   "metadata": {},
   "outputs": [],
   "source": [
    "train[train.floor>30].floor = 'mnogo'"
   ]
  },
  {
   "cell_type": "code",
   "execution_count": 25,
   "id": "2c970cd4-aff2-457c-a927-5fb62e92fe20",
   "metadata": {},
   "outputs": [],
   "source": [
    "encoder = TargetEncoder()\n",
    "imputer = IterativeImputer(random_state=42)\n",
    "scaler = StandardScaler()"
   ]
  },
  {
   "cell_type": "code",
   "execution_count": 26,
   "id": "db5a4465-e2c0-473d-a860-edba0c92db78",
   "metadata": {},
   "outputs": [],
   "source": [
    "train[ste_cat_features] = encoder.fit_transform(train[ste_cat_features],\n",
    "                              train.per_square_meter_price)\n",
    "train[na_features] = pd.DataFrame(imputer.fit_transform(train[na_features]), columns = na_features)\n",
    "train[num_features] = pd.DataFrame(scaler.fit_transform(train[num_features]), columns = num_features)"
   ]
  },
  {
   "cell_type": "code",
   "execution_count": 27,
   "id": "cd61f1d0-6d79-43d3-b83f-f34588d2e6ce",
   "metadata": {},
   "outputs": [],
   "source": [
    "train = train.drop(['Unnamed: 0','id','date','data_type'],1)"
   ]
  },
  {
   "cell_type": "code",
   "execution_count": 31,
   "id": "42f89569-2aa8-4daf-89e3-4024959362ca",
   "metadata": {},
   "outputs": [],
   "source": [
    "test = test.drop(['Unnamed: 0','id','date','data_type'],1)"
   ]
  },
  {
   "cell_type": "code",
   "execution_count": 33,
   "id": "09d9e049-dc54-446a-90f2-050225877f6b",
   "metadata": {},
   "outputs": [],
   "source": [
    "test = floor(test)"
   ]
  },
  {
   "cell_type": "code",
   "execution_count": 34,
   "id": "bad3c98e-269e-4d53-b4f7-3a673cd83ee0",
   "metadata": {},
   "outputs": [],
   "source": [
    "test[test.floor>30].floor = 'mnogo'"
   ]
  },
  {
   "cell_type": "code",
   "execution_count": 35,
   "id": "0559adda-af92-48d7-be30-9c580753f211",
   "metadata": {
    "tags": []
   },
   "outputs": [],
   "source": [
    "test[ste_cat_features] = encoder.transform(test[ste_cat_features])\n",
    "test[na_features] = pd.DataFrame(imputer.transform(test[na_features]), columns = na_features).values\n",
    "test[num_features] = pd.DataFrame(scaler.transform(test[num_features]), columns = num_features).values"
   ]
  },
  {
   "cell_type": "code",
   "execution_count": null,
   "id": "1ae9b65a-a430-4847-9ace-c4640e958dff",
   "metadata": {},
   "outputs": [],
   "source": []
  },
  {
   "cell_type": "code",
   "execution_count": 41,
   "id": "a573ce6a-7e7f-4fa8-ba78-7b522ba2743f",
   "metadata": {},
   "outputs": [
    {
     "data": {
      "text/plain": [
       "['test_data1337.jbl']"
      ]
     },
     "execution_count": 41,
     "metadata": {},
     "output_type": "execute_result"
    }
   ],
   "source": [
    "# joblib.dump(test,'test_data1337.jbl', compress=9)"
   ]
  },
  {
   "cell_type": "code",
   "execution_count": 42,
   "id": "d3218338-a2e2-4568-807b-451c9f4fcf6f",
   "metadata": {},
   "outputs": [
    {
     "data": {
      "text/plain": [
       "['train_data1337.jbl']"
      ]
     },
     "execution_count": 42,
     "metadata": {},
     "output_type": "execute_result"
    }
   ],
   "source": [
    "# joblib.dump(train,'train_data1337.jbl', compress=9)"
   ]
  },
  {
   "cell_type": "code",
   "execution_count": null,
   "id": "4ef52209-eac8-4202-95b2-5063ff1784e2",
   "metadata": {},
   "outputs": [],
   "source": []
  },
  {
   "cell_type": "code",
   "execution_count": null,
   "id": "4d63723a-5082-440c-9dbe-e25dd0bb4372",
   "metadata": {},
   "outputs": [],
   "source": []
  }
 ],
 "metadata": {
  "kernelspec": {
   "display_name": "Python 3",
   "language": "python",
   "name": "python3"
  },
  "language_info": {
   "codemirror_mode": {
    "name": "ipython",
    "version": 3
   },
   "file_extension": ".py",
   "mimetype": "text/x-python",
   "name": "python",
   "nbconvert_exporter": "python",
   "pygments_lexer": "ipython3",
   "version": "3.6.9"
  }
 },
 "nbformat": 4,
 "nbformat_minor": 5
}
