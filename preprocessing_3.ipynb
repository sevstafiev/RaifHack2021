{
 "cells": [
  {
   "cell_type": "code",
   "execution_count": 1,
   "id": "becc9ccb-2edd-4fb2-9ec3-f7698df05346",
   "metadata": {},
   "outputs": [
    {
     "name": "stderr",
     "output_type": "stream",
     "text": [
      "/usr/local/lib/python3.6/dist-packages/featuretools/__init__.py:60: FutureWarning:\n",
      "\n",
      "The next non-bugfix release of Featuretools will not support Python 3.6\n",
      "\n"
     ]
    }
   ],
   "source": [
    "import numpy as np\n",
    "import pandas as pd\n",
    "import matplotlib.pyplot as plt\n",
    "import seaborn as sns\n",
    "import optuna\n",
    "from catboost import Pool\n",
    "\n",
    "import featuretools as ft\n",
    "from featuretools import selection\n",
    "\n",
    "from sklearn.metrics import mean_absolute_error, make_scorer, mean_squared_error, r2_score\n",
    "from sklearn.pipeline import Pipeline, FeatureUnion, make_pipeline, _fit_transform_one, _transform_one, make_union\n",
    "from sklearn.compose import ColumnTransformer\n",
    "from sklearn.preprocessing import FunctionTransformer\n",
    "\n",
    "from sklearn.preprocessing import StandardScaler, MinMaxScaler\n",
    "from sklearn.impute import SimpleImputer\n",
    "from sklearn.model_selection import KFold \n",
    "from sklearn.model_selection import train_test_split\n",
    "from sklearn.model_selection import cross_val_score\n",
    "from sklearn.base import BaseEstimator, TransformerMixin\n",
    "from sklearn.linear_model import Ridge\n",
    "\n",
    "from sklearn.feature_selection import VarianceThreshold\n",
    "from sklearn.feature_selection import SelectKBest, SelectPercentile\n",
    "from sklearn.feature_selection import chi2, mutual_info_classif\n",
    "\n",
    "\n",
    "from sklearn.preprocessing import FunctionTransformer, StandardScaler, OneHotEncoder\n",
    "from category_encoders import BackwardDifferenceEncoder, HelmertEncoder, BinaryEncoder\n",
    "from category_encoders import CountEncoder\n",
    "from category_encoders import LeaveOneOutEncoder, TargetEncoder, JamesSteinEncoder, MEstimateEncoder, WOEEncoder, CatBoostEncoder\n",
    "from category_encoders.wrapper import NestedCVWrapper\n",
    "\n",
    "from catboost import CatBoostRegressor\n",
    "\n",
    "import warnings\n",
    "from sklearn.exceptions import DataConversionWarning\n",
    "warnings.filterwarnings(action='ignore')\n",
    "\n",
    "np.random.seed(42)\n",
    "import os\n",
    "import typing\n",
    "from autogluon.tabular import TabularDataset, TabularPredictor\n",
    "import re\n",
    "import joblib\n",
    "\n",
    "from sklearn.experimental import enable_iterative_imputer\n",
    "from sklearn.impute import IterativeImputer"
   ]
  },
  {
   "cell_type": "markdown",
   "id": "02217c25-b4d8-4359-9290-9644f9c3e0df",
   "metadata": {},
   "source": [
    "# Теперь добавим генерацию фичей"
   ]
  },
  {
   "cell_type": "code",
   "execution_count": 2,
   "id": "8a73a1f9-001d-4877-84bb-f0bb04627732",
   "metadata": {},
   "outputs": [],
   "source": [
    "data = pd.read_csv('/app/full_data.csv')"
   ]
  },
  {
   "cell_type": "code",
   "execution_count": 3,
   "id": "59ef14c0-ac7f-45f2-8445-2b2b9864d39a",
   "metadata": {},
   "outputs": [],
   "source": [
    "train = data[~data.per_square_meter_price.isna()]\n",
    "test = data[data.per_square_meter_price.isna()]"
   ]
  },
  {
   "cell_type": "code",
   "execution_count": 4,
   "id": "2461677f-1655-4fa7-bfe0-44ceee45720e",
   "metadata": {},
   "outputs": [],
   "source": [
    "from baseline.raif_hack.data_transformers import SmoothedTargetEncoding"
   ]
  },
  {
   "cell_type": "code",
   "execution_count": 5,
   "id": "a9686801-1c85-4f07-b9b0-32a381552499",
   "metadata": {},
   "outputs": [],
   "source": [
    "target = 'per_square_meter_price'\n",
    "# признаки (или набор признаков), для которых применяем smoothed target encoding\n",
    "ste_cat_features = ['region', 'city', 'realty_type', 'month', 'year', 'day',\n",
    "                    'street','floor', 'osm_city_nearest_name']\n",
    "\n",
    "# признаки, для которых применяем one hot encoding\n",
    "ohe_cat_features = []\n",
    "\n",
    "# численные признаки\n",
    "num_features = ['lat', 'lng', 'osm_amenity_points_in_0.001',\n",
    "       'osm_amenity_points_in_0.005', 'osm_amenity_points_in_0.0075',\n",
    "       'osm_amenity_points_in_0.01', 'osm_building_points_in_0.001',\n",
    "       'osm_building_points_in_0.005', 'osm_building_points_in_0.0075',\n",
    "       'osm_building_points_in_0.01', 'osm_catering_points_in_0.001',\n",
    "       'osm_catering_points_in_0.005', 'osm_catering_points_in_0.0075',\n",
    "       'osm_catering_points_in_0.01', 'osm_city_closest_dist',\n",
    "      'osm_city_nearest_population',\n",
    "       'osm_crossing_closest_dist', 'osm_crossing_points_in_0.001',\n",
    "       'osm_crossing_points_in_0.005', 'osm_crossing_points_in_0.0075',\n",
    "       'osm_crossing_points_in_0.01', 'osm_culture_points_in_0.001',\n",
    "       'osm_culture_points_in_0.005', 'osm_culture_points_in_0.0075',\n",
    "       'osm_culture_points_in_0.01', 'osm_finance_points_in_0.001',\n",
    "       'osm_finance_points_in_0.005', 'osm_finance_points_in_0.0075',\n",
    "       'osm_finance_points_in_0.01', 'osm_healthcare_points_in_0.005',\n",
    "       'osm_healthcare_points_in_0.0075', 'osm_healthcare_points_in_0.01',\n",
    "       'osm_historic_points_in_0.005', 'osm_historic_points_in_0.0075',\n",
    "       'osm_historic_points_in_0.01', 'osm_hotels_points_in_0.005',\n",
    "       'osm_hotels_points_in_0.0075', 'osm_hotels_points_in_0.01',\n",
    "       'osm_leisure_points_in_0.005', 'osm_leisure_points_in_0.0075',\n",
    "       'osm_leisure_points_in_0.01', 'osm_offices_points_in_0.001',\n",
    "       'osm_offices_points_in_0.005', 'osm_offices_points_in_0.0075',\n",
    "       'osm_offices_points_in_0.01', 'osm_shops_points_in_0.001',\n",
    "       'osm_shops_points_in_0.005', 'osm_shops_points_in_0.0075',\n",
    "       'osm_shops_points_in_0.01', 'osm_subway_closest_dist',\n",
    "       'osm_train_stop_closest_dist', 'osm_train_stop_points_in_0.005',\n",
    "       'osm_train_stop_points_in_0.0075', 'osm_train_stop_points_in_0.01',\n",
    "       'osm_transport_stop_closest_dist', 'osm_transport_stop_points_in_0.005',\n",
    "       'osm_transport_stop_points_in_0.0075',\n",
    "       'osm_transport_stop_points_in_0.01',\n",
    "       'reform_count_of_houses_1000', 'reform_count_of_houses_500',\n",
    "       'reform_house_population_1000', 'reform_house_population_500',\n",
    "       'reform_mean_floor_count_1000', 'reform_mean_floor_count_500',\n",
    "       'reform_mean_year_building_1000', 'reform_mean_year_building_500',\n",
    "        'total_square','nn_100m_price', 'nn_300m_price', 'nn_1000m_price', \n",
    "        'mmvb_lag1', 'mmvb_lag2', 'number_of_supply1', 'number_of_supply2', \n",
    "        'price_dynamic1', 'price_dynamic2', 'mean_sqm_price1', \n",
    "        'mean_sqm_price2', 'exp_time', 'ipc_all_month', 'ipc_all_year', \n",
    "        'ipc_goods_month', 'ipc_goods_year', 'ipc_build_month', \n",
    "        'ipc_build_year', 'miacr', 'ipc_base', 'ipc_chain', 'interest_rate',\n",
    "        'inc_per_capita', 'invest_residue', 'debts']\n",
    "\n",
    "na_features = train[train.columns[train.isnull().any()]].columns"
   ]
  },
  {
   "cell_type": "code",
   "execution_count": 6,
   "id": "65bed241-28b5-4cc5-b619-090d0c262792",
   "metadata": {},
   "outputs": [],
   "source": [
    "def floor(df2):\n",
    "    df = df2.copy()\n",
    "    a = pd.DataFrame(df.loc[df.floor.notnull(), 'floor'].unique(), columns = ['floor'])\n",
    "    for i in a.floor:\n",
    "        try:\n",
    "            a.loc[a.floor == i, 'normal'] = np.float64(i)\n",
    "        except ValueError:\n",
    "            a.loc[a.floor == i, 'normal'] ='broken'\n",
    "    a.loc[a.floor.str.contains('одва') == True, 'normal'] = -1\n",
    "    a.loc[a.floor == '3 этаж', 'normal'] = 3\n",
    "    a.loc[a.floor == '4 этаж', 'normal'] = 4\n",
    "    a.loc[a.floor == '5 этаж', 'normal'] = 5\n",
    "    a.loc[a.normal == 'broken', 'normal'] = np.nan\n",
    "    for j in a.floor:\n",
    "        df.loc[df.floor == j, 'floor'] = a.loc[a.floor == j, 'normal'].values[0]\n",
    "    df.floor\n",
    "    return df"
   ]
  },
  {
   "cell_type": "code",
   "execution_count": 7,
   "id": "136f1c3b-a146-4798-9e8a-7a0c6f164c16",
   "metadata": {},
   "outputs": [],
   "source": [
    "test = floor(test)\n",
    "train = floor(train)"
   ]
  },
  {
   "cell_type": "code",
   "execution_count": 8,
   "id": "e7f8b9a0-05e7-4e14-9ce0-30b18583f8d4",
   "metadata": {},
   "outputs": [],
   "source": [
    "train[train.floor>30].floor = 'mnogo'\n",
    "test[test.floor>30].floor = 'mnogo'"
   ]
  },
  {
   "cell_type": "code",
   "execution_count": 9,
   "id": "5e112947-5ab4-4cf5-940c-0b48553b7f90",
   "metadata": {},
   "outputs": [],
   "source": [
    "# Merge application data\n",
    "train['Test'] = False\n",
    "test['Test'] = True\n",
    "test['TARGET'] = np.nan\n",
    "train.rename(columns={'per_square_meter_price':'TARGET'}, inplace=True)\n",
    "app = train.append(test, ignore_index=True, sort=False).reset_index()"
   ]
  },
  {
   "cell_type": "code",
   "execution_count": 10,
   "id": "1e09f5c8-88c4-4e7c-8741-465b3265cd7c",
   "metadata": {},
   "outputs": [],
   "source": [
    "# Create an entity set\n",
    "es = ft.EntitySet(id='raif')"
   ]
  },
  {
   "cell_type": "code",
   "execution_count": 11,
   "id": "88f4d407-eeec-45ff-a867-6d95d2fe9158",
   "metadata": {},
   "outputs": [],
   "source": [
    "# Add dataframe to entityset\n",
    "es = es.entity_from_dataframe(\n",
    "    entity_id='raif',\n",
    "    dataframe=app,\n",
    "    index='index'\n",
    ")"
   ]
  },
  {
   "cell_type": "code",
   "execution_count": 12,
   "id": "891bac92-6ada-463a-9d35-9504dc5baa39",
   "metadata": {},
   "outputs": [],
   "source": [
    "# Manually define datatypes in app dataframe\n",
    "\n",
    "variable_types = {\n",
    "    'city': ft.variable_types.Categorical,\n",
    "    'osm_city_nearest_name': ft.variable_types.Categorical,\n",
    "    'region': ft.variable_types.Categorical,\n",
    "    'realty_type': ft.variable_types.Categorical,\n",
    "    'month': ft.variable_types.Categorical,\n",
    "    'year': ft.variable_types.Categorical,\n",
    "    'day': ft.variable_types.Categorical,\n",
    "    'street': ft.variable_types.Categorical,\n",
    "    'floor': ft.variable_types.Categorical,\n",
    "    'date': ft.variable_types.Datetime\n",
    "}\n",
    "\n",
    "# Add dataframe to entityset, using manual datatypes\n",
    "es = es.entity_from_dataframe(\n",
    "    entity_id='raif',\n",
    "    dataframe=app,\n",
    "    index='index',\n",
    "    variable_types=variable_types\n",
    ")"
   ]
  },
  {
   "cell_type": "code",
   "execution_count": 13,
   "id": "39febac9-2a2c-41b7-8856-08faeeeb5c98",
   "metadata": {},
   "outputs": [
    {
     "name": "stdout",
     "output_type": "stream",
     "text": [
      "Built 301 features\n",
      "Fewer chunks (57), than workers (64) consider reducing the chunk size\n",
      "EntitySet scattered to 64 workers in 26 seconds\n",
      "Elapsed: 00:15 | Progress: 100%|██████████\n"
     ]
    }
   ],
   "source": [
    "agg_primitives =  ['count', 'mean', 'num_unique', 'entropy','n_most_common']\n",
    "trans_primitives = ['cum_sum','is_weekend','percentile']\n",
    "dfs_feat, dfs_defs = ft.dfs(\n",
    "    entityset=es,\n",
    "    target_entity='raif',\n",
    "    trans_primitives=trans_primitives,\n",
    "    agg_primitives=agg_primitives, \n",
    "    max_features=1000,\n",
    "    chunk_size=5000,\n",
    "    verbose=True,                            \n",
    "    max_depth=2,\n",
    "    n_jobs=-1\n",
    ")"
   ]
  },
  {
   "cell_type": "code",
   "execution_count": 14,
   "id": "dd6bce34-8b3b-4620-a380-fd588303ca9b",
   "metadata": {},
   "outputs": [],
   "source": [
    "filtered = selection.remove_low_information_features(dfs_feat)"
   ]
  },
  {
   "cell_type": "code",
   "execution_count": 15,
   "id": "55adf0c2-9504-4f04-b289-0b6993f501ed",
   "metadata": {},
   "outputs": [],
   "source": [
    "# Split data back into test + train\n",
    "train = dfs_feat.loc[~app['Test'].values, :].copy()\n",
    "test = dfs_feat.loc[app['Test'].values, :].copy()\n",
    "\n",
    "test.drop('TARGET',1,inplace=True)"
   ]
  },
  {
   "cell_type": "code",
   "execution_count": 16,
   "id": "71dba32a-bb6f-48db-8ec9-80e58e0bf91d",
   "metadata": {
    "tags": []
   },
   "outputs": [],
   "source": [
    "train = train.drop(['Unnamed: 0','id','data_type','Test'],1)\n",
    "test = test.drop(['Unnamed: 0','id','data_type','Test'],1)"
   ]
  },
  {
   "cell_type": "code",
   "execution_count": 17,
   "id": "d4083f12-36d7-41b1-b1f6-0a8d391da6ef",
   "metadata": {},
   "outputs": [],
   "source": [
    "encoder = TargetEncoder()\n",
    "# imputer = SimpleImputer(strategy='median', missing_values=np.nan)\n",
    "scaler = StandardScaler()"
   ]
  },
  {
   "cell_type": "code",
   "execution_count": 18,
   "id": "368218a9-9b40-40c5-9030-09bdf3d964ee",
   "metadata": {},
   "outputs": [],
   "source": [
    "na_features = train[train.columns[train.isnull().any()]].columns"
   ]
  },
  {
   "cell_type": "code",
   "execution_count": 19,
   "id": "78eb966c-5a9f-4292-9d80-6718ae16ebbc",
   "metadata": {},
   "outputs": [],
   "source": [
    "train[ste_cat_features] = encoder.fit_transform(train[ste_cat_features], train.TARGET)\n",
    "train = train.fillna(train.median())\n",
    "train[num_features] = pd.DataFrame(scaler.fit_transform(train[num_features]), columns = num_features)"
   ]
  },
  {
   "cell_type": "code",
   "execution_count": 20,
   "id": "e8a38042-a683-46fb-96ce-1b3195256f54",
   "metadata": {},
   "outputs": [],
   "source": [
    "test[ste_cat_features] = encoder.transform(test[ste_cat_features])\n",
    "test[num_features] = pd.DataFrame(scaler.transform(test[num_features]), columns = num_features)"
   ]
  },
  {
   "cell_type": "code",
   "execution_count": 21,
   "id": "b8e956f2-0454-4752-9f3d-5c51d819a7e0",
   "metadata": {},
   "outputs": [],
   "source": [
    "train = train[train.price_type==1]"
   ]
  },
  {
   "cell_type": "code",
   "execution_count": 22,
   "id": "e09282ff-d0f6-4126-9169-54525a484772",
   "metadata": {},
   "outputs": [],
   "source": [
    "train.drop(['price_type'],1,inplace=True)\n",
    "test.drop(['price_type'],1,inplace=True)"
   ]
  },
  {
   "cell_type": "code",
   "execution_count": 23,
   "id": "7c87f39a-2c4a-45b7-8a26-3ab64359c245",
   "metadata": {},
   "outputs": [],
   "source": [
    "train.drop('PERCENTILE(TARGET)',1,inplace=True)\n",
    "test.drop('PERCENTILE(TARGET)',1,inplace=True)"
   ]
  },
  {
   "cell_type": "code",
   "execution_count": 24,
   "id": "5a659953-2be8-4d08-b01e-9720ff0b0000",
   "metadata": {},
   "outputs": [],
   "source": [
    "train = train.fillna(train.median()).dropna(axis=1)\n",
    "test = test.fillna(train.median()).dropna(axis=1)"
   ]
  },
  {
   "cell_type": "code",
   "execution_count": null,
   "id": "751cb9ad-70ff-4b03-994e-0d2dc5503c6e",
   "metadata": {},
   "outputs": [],
   "source": []
  },
  {
   "cell_type": "code",
   "execution_count": 27,
   "id": "b4c66321-02ec-4703-b659-0d4154eac136",
   "metadata": {},
   "outputs": [
    {
     "data": {
      "text/plain": [
       "['train_data_huge3.jbl']"
      ]
     },
     "execution_count": 27,
     "metadata": {},
     "output_type": "execute_result"
    }
   ],
   "source": [
    "joblib.dump(train, 'train_data_huge3.jbl', compress=9)"
   ]
  },
  {
   "cell_type": "code",
   "execution_count": 28,
   "id": "a3836a28-d197-404a-ae2a-00ef0e2719eb",
   "metadata": {},
   "outputs": [
    {
     "data": {
      "text/plain": [
       "['test_data_huge3.jbl']"
      ]
     },
     "execution_count": 28,
     "metadata": {},
     "output_type": "execute_result"
    }
   ],
   "source": [
    "joblib.dump(test, 'test_data_huge3.jbl', compress=9)"
   ]
  }
 ],
 "metadata": {
  "kernelspec": {
   "display_name": "Python 3",
   "language": "python",
   "name": "python3"
  },
  "language_info": {
   "codemirror_mode": {
    "name": "ipython",
    "version": 3
   },
   "file_extension": ".py",
   "mimetype": "text/x-python",
   "name": "python",
   "nbconvert_exporter": "python",
   "pygments_lexer": "ipython3",
   "version": "3.6.9"
  }
 },
 "nbformat": 4,
 "nbformat_minor": 5
}
