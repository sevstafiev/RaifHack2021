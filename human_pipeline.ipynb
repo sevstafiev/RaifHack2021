{
 "cells": [
  {
   "cell_type": "markdown",
   "id": "98c608de-5562-4764-b829-8bbc63e23967",
   "metadata": {},
   "source": [
    "# Каким образом будем генерить фичи"
   ]
  },
  {
   "cell_type": "code",
   "execution_count": null,
   "id": "74baed97-719c-4463-a0a9-071ec70a4739",
   "metadata": {},
   "outputs": [],
   "source": [
    "class DataRaif:\n",
    "    def __init__(self, df):\n",
    "        self.df = df\n",
    "        \n",
    "    def Kolyan1(self):\n",
    "        t = self.df.iloc[:,0] + self.df.iloc[:,1]\n",
    "        self.df['feature_name'] = t\n",
    "    #    return self.df\n",
    "    \n",
    "    ## и т.д.\n",
    "    \n",
    "    @property\n",
    "    def get_data(self):\n",
    "        return self.df"
   ]
  },
  {
   "cell_type": "code",
   "execution_count": null,
   "id": "af3c6067-d1fc-4956-bf3a-0ecc0ff8eb26",
   "metadata": {},
   "outputs": [],
   "source": [
    "df = DataRaif(result)"
   ]
  },
  {
   "cell_type": "code",
   "execution_count": null,
   "id": "1107b851-c80e-4b7a-8fc4-e6212b4571e5",
   "metadata": {},
   "outputs": [],
   "source": [
    "df.Kolyan1()"
   ]
  },
  {
   "cell_type": "code",
   "execution_count": null,
   "id": "d9436356-e3e5-4be8-bbfd-ab41b0be6ec7",
   "metadata": {},
   "outputs": [],
   "source": [
    "df.get_data"
   ]
  },
  {
   "cell_type": "code",
   "execution_count": null,
   "id": "8e6ece70-b996-4556-8a2b-36a96f2f7e4b",
   "metadata": {},
   "outputs": [],
   "source": []
  },
  {
   "cell_type": "markdown",
   "id": "fd81b342-9c74-4905-9033-5cf95d7a1fdb",
   "metadata": {},
   "source": [
    "# Normal Pipeline"
   ]
  },
  {
   "cell_type": "markdown",
   "id": "e1655881-c5a9-4c43-a4b0-a6d9f11bebc4",
   "metadata": {},
   "source": [
    "Pipeline позволяет обернуть сразу несколько этапов обработки данных в один объект\n",
    "\n",
    "- **FunctionTransformer**: преобразует функцию в трансформер\n",
    "- **FeatureUnion**: объединяет результаты нескольких трансформеров в один датасет\n",
    "- **ColumnTransformer**: выбирает определенные колонки"
   ]
  },
  {
   "cell_type": "code",
   "execution_count": 2,
   "id": "79de0c2d-4d53-42d4-8cb7-f6f15b6762b2",
   "metadata": {},
   "outputs": [],
   "source": [
    "import random\n",
    "import numpy as np\n",
    "import os\n",
    "\n",
    "def fix_all_seeds(seed):\n",
    "    np.random.seed(seed)\n",
    "    random.seed(seed)\n",
    "    os.environ['PYTHONHASHSEED'] = str(seed)\n",
    "    \n",
    "fix_all_seeds(42)"
   ]
  },
  {
   "cell_type": "code",
   "execution_count": null,
   "id": "fe53a98d-70c9-4fa8-8255-9d4e4d00b103",
   "metadata": {},
   "outputs": [],
   "source": [
    "numerical = ['']\n",
    "dummies = ['']\n",
    "categorical = [col for col in data.columns if col not in numerical+target+dummies]"
   ]
  },
  {
   "cell_type": "code",
   "execution_count": null,
   "id": "09b3c8c2-ccfe-41e6-b8e0-7814f3154e6c",
   "metadata": {},
   "outputs": [],
   "source": [
    "class StandardScalerDf(StandardScaler): \n",
    "    \"\"\"\n",
    "    Позволяет не терять названия колонок при нормализации.\n",
    "    \n",
    "    \"\"\"\n",
    "    def __init__(self, copy=True, with_mean=True, with_std=True):\n",
    "        super(StandardScalerDf, self).__init__(copy=copy,\n",
    "                                               with_mean=with_mean,\n",
    "                                               with_std=with_std)\n",
    "        self.feature_names = None\n",
    "\n",
    "    def transform(self, X, y=None):\n",
    "        self.feature_names = X.columns\n",
    "        z = super(StandardScalerDf, self).transform(X.values)\n",
    "        return pd.DataFrame(z, index=X.index, columns=self.feature_names)\n",
    "    \n",
    "    def get_feature_names(self):\n",
    "        return self.feature_names"
   ]
  },
  {
   "cell_type": "code",
   "execution_count": 41,
   "id": "f5ec88a5-5100-4da2-b0ca-10b7c8fdada5",
   "metadata": {},
   "outputs": [],
   "source": [
    "scaler_df = StandardScalerDf()"
   ]
  },
  {
   "cell_type": "code",
   "execution_count": null,
   "id": "8bf74727-1ee0-41c1-a235-4d1d0fb3334a",
   "metadata": {},
   "outputs": [],
   "source": [
    "numerical_selector = FunctionTransformer(lambda df: df[numerical], validate=False)"
   ]
  },
  {
   "cell_type": "code",
   "execution_count": null,
   "id": "567c70b7-0e9a-4cfa-9143-066f8edda4bd",
   "metadata": {},
   "outputs": [],
   "source": [
    "numerical_preprocessor = Pipeline([\n",
    "    (\"numerical_selector\", numerical_selector),\n",
    "    (\"scaling\", scaler_df)\n",
    "])"
   ]
  },
  {
   "cell_type": "code",
   "execution_count": null,
   "id": "0f58b9b7-3699-406c-9d08-3c32a82dbf47",
   "metadata": {},
   "outputs": [],
   "source": []
  },
  {
   "cell_type": "code",
   "execution_count": null,
   "id": "5d337c9f-3e2d-4711-846a-8f9ae9e9620e",
   "metadata": {},
   "outputs": [],
   "source": []
  },
  {
   "cell_type": "code",
   "execution_count": null,
   "id": "472118ba-c58f-4d6f-ac23-47cd74e9b563",
   "metadata": {},
   "outputs": [],
   "source": [
    "dummy_selector = FunctionTransformer(lambda data: data[dummies], validate=False)"
   ]
  },
  {
   "cell_type": "code",
   "execution_count": null,
   "id": "563735ea-628b-4f5a-9289-576584d52252",
   "metadata": {},
   "outputs": [],
   "source": [
    "class OneHotEncodingDf(OneHotEncoder):\n",
    "    \"\"\"DataFrame Wrapper around OneHotEncoding\"\"\"\n",
    "    def __init__(self, drop=None, sparse=False, handle_unknown='ignore'):\n",
    "        super(OneHotEncodingDf, self).__init__(drop=drop,\n",
    "                                               sparse=sparse,\n",
    "                                               handle_unknown=handle_unknown\n",
    "                                              )\n",
    "\n",
    "    def transform(self, X, y=None):\n",
    "        z = super(OneHotEncodingDf, self).transform(X.values)\n",
    "        return pd.DataFrame(z, index=X.index, columns=self.get_feature_names())"
   ]
  },
  {
   "cell_type": "code",
   "execution_count": null,
   "id": "afd5fb3d-113e-4531-b41f-790113db1567",
   "metadata": {},
   "outputs": [],
   "source": [
    "ohe_df = OneHotEncodingDf()"
   ]
  },
  {
   "cell_type": "code",
   "execution_count": null,
   "id": "72e6537e-88fd-43d6-af24-ae75d6f1f715",
   "metadata": {},
   "outputs": [],
   "source": [
    "dummy_preprocessor = Pipeline([\n",
    "    (\"dummy_selector\", dummy_selector),\n",
    "    (\"ohe\", ohe_df)\n",
    "])"
   ]
  },
  {
   "cell_type": "code",
   "execution_count": null,
   "id": "e0b0f47f-3ae6-4b8b-906a-0e0e953632c9",
   "metadata": {},
   "outputs": [],
   "source": []
  },
  {
   "cell_type": "code",
   "execution_count": null,
   "id": "0aba6e9c-c6fd-495f-933f-d7afed623fcf",
   "metadata": {},
   "outputs": [],
   "source": []
  },
  {
   "cell_type": "code",
   "execution_count": null,
   "id": "b2326f95-357d-4d85-8746-032bd0509140",
   "metadata": {},
   "outputs": [],
   "source": [
    "categorical_selector = FunctionTransformer(lambda data: data[categorical], validate=False)"
   ]
  },
  {
   "cell_type": "code",
   "execution_count": null,
   "id": "71251aea-024b-444f-b885-03544e919d95",
   "metadata": {},
   "outputs": [],
   "source": [
    "categorical_preprocessor = Pipeline([\n",
    "    (\"categorical_selector\", categorical_selector),\n",
    "    (\"ohe\", IterativeImputer)\n",
    "])"
   ]
  },
  {
   "cell_type": "code",
   "execution_count": null,
   "id": "d4cb8dd6-00a0-469f-9a86-6eadc63ec261",
   "metadata": {},
   "outputs": [],
   "source": []
  },
  {
   "cell_type": "markdown",
   "id": "dc161486-cc31-4a0c-968c-4102070c2b47",
   "metadata": {},
   "source": [
    "# Feature Union"
   ]
  },
  {
   "cell_type": "code",
   "execution_count": null,
   "id": "80adf520-aa37-42d8-9068-8edfb21761f7",
   "metadata": {},
   "outputs": [],
   "source": [
    "class PandasFeatureUnion(FeatureUnion):\n",
    "    def fit_transform(self, X, y=None, **fit_params):\n",
    "        self._validate_transformers()\n",
    "        result = Parallel(n_jobs=self.n_jobs)(\n",
    "            delayed(_fit_transform_one)(\n",
    "                transformer=trans,\n",
    "                X=X,\n",
    "                y=y,\n",
    "                weight=weight,\n",
    "                **fit_params)\n",
    "            for name, trans, weight in self._iter())\n",
    "\n",
    "        if not result:\n",
    "            # All transformers are None\n",
    "            return np.zeros((X.shape[0], 0))\n",
    "        Xs, transformers = zip(*result)\n",
    "        self._update_transformer_list(transformers)\n",
    "        if any(sparse.issparse(f) for f in Xs):\n",
    "            Xs = sparse.hstack(Xs).tocsr()\n",
    "        else:\n",
    "            Xs = self.merge_dataframes_by_column(Xs)\n",
    "        return Xs\n",
    "\n",
    "    def merge_dataframes_by_column(self, Xs):\n",
    "        return pd.concat(Xs, axis=\"columns\", copy=False)\n",
    "\n",
    "    def transform(self, X):\n",
    "        Xs = Parallel(n_jobs=self.n_jobs)(\n",
    "            delayed(_transform_one)(\n",
    "                transformer=trans,\n",
    "                X=X,\n",
    "                y=None,\n",
    "                weight=weight)\n",
    "            for name, trans, weight in self._iter())\n",
    "        if not Xs:\n",
    "            # All transformers are None\n",
    "            return np.zeros((X.shape[0], 0))\n",
    "        if any(sparse.issparse(f) for f in Xs):\n",
    "            Xs = sparse.hstack(Xs).tocsr()\n",
    "        else:\n",
    "            Xs = self.merge_dataframes_by_column(Xs)\n",
    "        return Xs"
   ]
  },
  {
   "cell_type": "code",
   "execution_count": null,
   "id": "dc20dc23-be6f-445f-a70f-59477a9b35a9",
   "metadata": {},
   "outputs": [],
   "source": [
    "feature_union = PandasFeatureUnion([\n",
    "    (\"numerical_preprocessor\", numerical_preprocessor),\n",
    "    (\"dummy_preprocessor\", dummy_preprocessor),\n",
    "    (\"categorical_preprocessor\", categorical_selector)\n",
    "])"
   ]
  },
  {
   "cell_type": "code",
   "execution_count": null,
   "id": "34ea99ee-78ae-4bd6-8971-21c9ebdd491c",
   "metadata": {},
   "outputs": [],
   "source": []
  },
  {
   "cell_type": "markdown",
   "id": "49ea3562-e8c4-45bd-b645-7a8fc59ff0d0",
   "metadata": {},
   "source": [
    "# Column Transformer (если хочется предопработку фичей закинуть в один пайп)"
   ]
  },
  {
   "cell_type": "code",
   "execution_count": null,
   "id": "472113d8-055a-4a34-a04c-7b28d48a2bbb",
   "metadata": {},
   "outputs": [],
   "source": [
    "cols_preprocessor = ColumnTransformer(transformers=[\n",
    "    ('num', StandardScalerDf(), numerical),\n",
    "    ('cat', OneHotEncoder(sparse=False, handle_unknown='ignore'), dummies),\n",
    "    ('ordinal', 'passthrough', categorical)\n",
    "], remainder='drop', n_jobs=-1)\n"
   ]
  },
  {
   "cell_type": "code",
   "execution_count": null,
   "id": "f677cbff-46b6-40b5-b122-942e50eab61b",
   "metadata": {},
   "outputs": [],
   "source": [
    "pipeline = Pipeline([\n",
    "#     (\"preprocessing\", feature_union),\n",
    "    (\"preprocessing\", cols_preprocessor),\n",
    "    (\"modelling\", LogisticRegression())\n",
    "])"
   ]
  },
  {
   "cell_type": "code",
   "execution_count": null,
   "id": "7790466f-b68e-43ee-aa5a-e36f12d68227",
   "metadata": {},
   "outputs": [],
   "source": []
  },
  {
   "cell_type": "code",
   "execution_count": null,
   "id": "5c1e665f-8f56-44fb-9c73-f3e3cff48075",
   "metadata": {},
   "outputs": [],
   "source": [
    "make_column_selector('^((?!Happiness).)*$', dtype_exclude=[\"object\"])(data)"
   ]
  },
  {
   "cell_type": "code",
   "execution_count": null,
   "id": "d9ae41e3-d05e-4970-af8d-2fce07349987",
   "metadata": {},
   "outputs": [],
   "source": [
    "make_column_selector(dtype_include=\"float64\")(data)"
   ]
  },
  {
   "cell_type": "code",
   "execution_count": null,
   "id": "4403cc6d-b940-465c-a41d-94f0e6b4e8d7",
   "metadata": {},
   "outputs": [],
   "source": [
    "preprocessor = ColumnTransformer(transformers=[\n",
    "    ('num', StandardScalerDf(), make_column_selector(r'^((?!Happiness).)*$', dtype_exclude=[\"object\"])),\n",
    "    ('cat', OneHotEncoder(sparse=False, handle_unknown='ignore'), make_column_selector(dtype_include=\"object\"))\n",
    "], remainder='passthrough')"
   ]
  },
  {
   "cell_type": "code",
   "execution_count": null,
   "id": "2e0ec36b-c599-451a-b129-819cb98cb257",
   "metadata": {},
   "outputs": [],
   "source": [
    "preprocessor = ColumnTransformer(transformers=[\n",
    "    ('num', StandardScalerDf(), numerical),\n",
    "    ('cat', OneHotEncoder(sparse=False, handle_unknown='ignore'), to_dummies),\n",
    "    ('ordinal', 'passthrough', categorical)\n",
    "], remainder='drop', n_jobs=-1)\n"
   ]
  },
  {
   "cell_type": "code",
   "execution_count": null,
   "id": "1770ef4c-e7c4-4159-80da-8994690d870e",
   "metadata": {},
   "outputs": [],
   "source": [
    "# remainer принимает 2 значения: 'drop' и 'passthrough'\n",
    "# drop дропает такие фичи, либо дропает не заданные в ColumnTransformer\n",
    "# passthrough ничего с фичами не делает, оставляет в датасете как есть "
   ]
  },
  {
   "cell_type": "code",
   "execution_count": null,
   "id": "8b6d466c-552a-4570-a1a2-9ee46ac35f17",
   "metadata": {},
   "outputs": [],
   "source": []
  },
  {
   "cell_type": "markdown",
   "id": "cfb46581-c051-4998-8b3e-5b2b58891b45",
   "metadata": {},
   "source": [
    "# Импутеры разные почекать"
   ]
  },
  {
   "cell_type": "code",
   "execution_count": null,
   "id": "ce4229eb-9e04-43c5-91ea-fa270ff45c61",
   "metadata": {},
   "outputs": [],
   "source": [
    "import numpy as np\n",
    "from sklearn.experimental import enable_iterative_imputer\n",
    "from sklearn.impute import IterativeImputer\n",
    "imp_mean = IterativeImputer(random_state=0)\n",
    "imp_mean.fit([[7, 2, 3], [4, np.nan, 6], [10, 5, 9]])\n",
    "\n",
    "X = [[np.nan, 2, 3], [4, np.nan, 6], [10, np.nan, 9]]\n",
    "imp_mean.transform(X)"
   ]
  },
  {
   "cell_type": "code",
   "execution_count": null,
   "id": "50fdf751-b29f-4684-b156-9514c9186771",
   "metadata": {},
   "outputs": [],
   "source": []
  },
  {
   "cell_type": "code",
   "execution_count": null,
   "id": "fd2d26ca-af30-48a6-93fb-f2e50c2bb917",
   "metadata": {},
   "outputs": [],
   "source": [
    "import numpy as np\n",
    "from sklearn.impute import KNNImputer\n",
    "X = [[1, 2, np.nan], [3, 4, 3], [np.nan, 6, 5], [8, 8, 7]]\n",
    "imputer = KNNImputer(n_neighbors=2)\n",
    "imputer.fit_transform(X)\n",
    "\n",
    "weights{‘uniform’, ‘distance’}"
   ]
  },
  {
   "cell_type": "code",
   "execution_count": null,
   "id": "f95f1728-49da-48bd-a103-09940428d1a4",
   "metadata": {},
   "outputs": [],
   "source": []
  },
  {
   "cell_type": "code",
   "execution_count": null,
   "id": "cb95f906-5bd6-4c82-adaf-c0640e90d872",
   "metadata": {},
   "outputs": [],
   "source": []
  },
  {
   "cell_type": "code",
   "execution_count": null,
   "id": "e071af0a-f234-4f26-920e-eeb88072de96",
   "metadata": {},
   "outputs": [],
   "source": [
    "sklearn.set_config(display='diagram') #Подключим визуал"
   ]
  },
  {
   "cell_type": "markdown",
   "id": "88b1a778-b683-4126-a464-2d3200ab13c8",
   "metadata": {},
   "source": [
    "# Если нужно задебажить или залезть в какой-то слой"
   ]
  },
  {
   "cell_type": "code",
   "execution_count": null,
   "id": "e31c2971-94b0-49d4-b3be-a43741ad43b4",
   "metadata": {},
   "outputs": [],
   "source": [
    "cols_preprocessor.named_steps['modelling']"
   ]
  },
  {
   "cell_type": "code",
   "execution_count": null,
   "id": "db43b07c-4e05-41ac-b845-64965e725f10",
   "metadata": {},
   "outputs": [],
   "source": [
    "make_column_selector('^((?!per_square_meter_price).)*$', dtype_exclude=[\"object\"])(data)"
   ]
  },
  {
   "cell_type": "code",
   "execution_count": null,
   "id": "312179d0-4db6-4887-aafe-4ce95d0d1d59",
   "metadata": {},
   "outputs": [],
   "source": [
    "make_column_selector(dtype_include=\"float64\")(data)"
   ]
  },
  {
   "cell_type": "code",
   "execution_count": null,
   "id": "f52b5382-93dd-4262-b73e-914a7498eb90",
   "metadata": {},
   "outputs": [],
   "source": []
  },
  {
   "cell_type": "markdown",
   "id": "208d0035-6066-4fad-b0a9-5923c082e496",
   "metadata": {},
   "source": [
    "# Чутка кластеризации"
   ]
  },
  {
   "cell_type": "code",
   "execution_count": null,
   "id": "32d3f0e5-526b-4269-9c56-d47dc9ae6027",
   "metadata": {},
   "outputs": [],
   "source": [
    "import os\n",
    "from sklearn.manifold import TSNE\n",
    "\n",
    "from sklearn.cluster import KMeans\n",
    "from sklearn.metrics import silhouette_samples, silhouette_score\n",
    "from sklearn import preprocessing\n",
    "\n",
    "pd.options.display.max_rows = 20\n",
    "%matplotlib inline\n",
    "\n",
    "pd.set_option('display.max_rows', 500)\n",
    "pd.set_option('display.max_columns', 500)\n",
    "pd.set_option('display.width', 1000)\n",
    "pd.set_option('display.max_colwidth', 500)\n",
    "\n",
    "from IPython.core.interactiveshell import InteractiveShell\n",
    "InteractiveShell.ast_node_interactivity = \"all\"\n",
    "\n",
    "import glob\n",
    "from IPython.display import display, HTML"
   ]
  },
  {
   "cell_type": "code",
   "execution_count": null,
   "id": "0d06ce97-3945-4cc3-9678-57cd0ced1989",
   "metadata": {},
   "outputs": [],
   "source": []
  },
  {
   "cell_type": "code",
   "execution_count": null,
   "id": "f72faf38-9bea-4a12-abf1-104cbc836e77",
   "metadata": {},
   "outputs": [],
   "source": [
    "from sklearn.manifold import TSNE\n",
    "from sklearn.metrics import pairwise_distances\n",
    "\n",
    "distance_matrix_doc = pairwise_distances(train_clustring, train_clustring, metric='cosine', n_jobs=-1)\n",
    "tsne_doc = TSNE(metric=\"precomputed\", n_components=2, verbose=1, perplexity=30, n_iter=1000, random_state = 42)\n",
    "tsne_results_doc = tsne_doc.fit_transform(distance_matrix_doc)"
   ]
  },
  {
   "cell_type": "code",
   "execution_count": null,
   "id": "5d66c657-4bca-4e75-84ac-4ad231548b63",
   "metadata": {},
   "outputs": [],
   "source": [
    "tsne_doc_features = pd.DataFrame({'user_id':train_clustring.index.values})\n",
    "tsne_doc_features['tsne-2d-one'] = tsne_results_doc[:,0]\n",
    "tsne_doc_features['tsne-2d-two'] = tsne_results_doc[:,1]"
   ]
  },
  {
   "cell_type": "code",
   "execution_count": null,
   "id": "769677ee-01a6-4467-8654-787daf17b2e6",
   "metadata": {},
   "outputs": [],
   "source": [
    "plt.figure(figsize=(16, 16))\n",
    "sns.scatterplot(\n",
    "    x=\"tsne-2d-one\", y=\"tsne-2d-two\",\n",
    "    data=tsne_doc_features,\n",
    "    legend=\"full\",\n",
    "    alpha=0.3\n",
    ")\n",
    "plt.show()"
   ]
  },
  {
   "cell_type": "code",
   "execution_count": null,
   "id": "1a057f96-467a-44d5-a385-27162f6d4a13",
   "metadata": {},
   "outputs": [],
   "source": []
  },
  {
   "cell_type": "code",
   "execution_count": null,
   "id": "a7e54fda-92aa-4e25-9c27-47b2922cd09c",
   "metadata": {},
   "outputs": [],
   "source": [
    "# Computing silhouette scores for different clustering option\n",
    "from tqdm.auto import tqdm\n",
    "silhouette_list = []\n",
    "for k in tqdm(range(2, 20, 2)):\n",
    "    clusters = KMeans(n_clusters=k).fit(train_clustring).labels_.astype(float)\n",
    "    silhouette_avg = silhouette_score(train_clustring, clusters, metric=\"euclidean\")\n",
    "    silhouette_list.append(silhouette_avg)\n",
    "    print(f'Silhouette score for {k} clusters is : {silhouette_avg:.4}')"
   ]
  },
  {
   "cell_type": "code",
   "execution_count": null,
   "id": "2c31b4e1-1bb2-4660-9c83-54c505b20d90",
   "metadata": {},
   "outputs": [],
   "source": [
    "plt.figure(figsize=(10, 6))\n",
    "plt.plot(range(2, 20, 2), silhouette_list)"
   ]
  },
  {
   "cell_type": "code",
   "execution_count": null,
   "id": "9030a3c5-142f-4ec8-a844-45b650286c77",
   "metadata": {},
   "outputs": [],
   "source": []
  },
  {
   "cell_type": "markdown",
   "id": "a7f79268-229e-4c71-a780-55ff520b06af",
   "metadata": {},
   "source": [
    "# Сделаем n кластеров"
   ]
  },
  {
   "cell_type": "code",
   "execution_count": null,
   "id": "0c5ffdf9-8f4a-49be-b747-c1cfc68cd4d6",
   "metadata": {},
   "outputs": [],
   "source": [
    "n = 228\n",
    "clusters = KMeans(n_clusters=n).fit(train_clustring).labels_.astype(float)"
   ]
  },
  {
   "cell_type": "code",
   "execution_count": null,
   "id": "58046de4-37cb-4988-9ad2-e4c45657db79",
   "metadata": {},
   "outputs": [],
   "source": [
    "tsne_doc_features['cluster'] = clusters"
   ]
  },
  {
   "cell_type": "code",
   "execution_count": null,
   "id": "99a6cbda-9664-4f38-b50a-3556886da567",
   "metadata": {},
   "outputs": [],
   "source": [
    "plt.figure(figsize=(16, 16))\n",
    "sns.scatterplot(\n",
    "    x=\"tsne-2d-one\", y=\"tsne-2d-two\",\n",
    "    data=tsne_doc_features,\n",
    "    legend=\"full\",\n",
    "    alpha=0.3,\n",
    "    hue='cluster',\n",
    "    palette='Set1'\n",
    ")\n",
    "plt.show()"
   ]
  },
  {
   "cell_type": "code",
   "execution_count": null,
   "id": "6d46be1d-1db0-4ff5-bf68-0001849d4fd1",
   "metadata": {},
   "outputs": [],
   "source": []
  },
  {
   "cell_type": "code",
   "execution_count": null,
   "id": "7163b5d3-cf21-4348-b095-ef7b00f743ef",
   "metadata": {},
   "outputs": [],
   "source": []
  },
  {
   "cell_type": "markdown",
   "id": "45b5ae9e-136d-439a-be4c-37f347b42e05",
   "metadata": {},
   "source": [
    "# Stacking"
   ]
  },
  {
   "cell_type": "code",
   "execution_count": null,
   "id": "89bdadfa-1988-4803-ae63-9ca80d397b29",
   "metadata": {},
   "outputs": [],
   "source": [
    "from sklearn.base import BaseEstimator, ClassifierMixin\n",
    "from sklearn.model_selection import train_test_split\n",
    "from sklearn.model_selection import cross_val_predict\n",
    "\n",
    "class DjStacking(BaseEstimator, ClassifierMixin):  \n",
    "    \"\"\"Стэкинг моделей scikit-learn\"\"\"\n",
    "\n",
    "    def __init__(self, models, ens_model):\n",
    "        \"\"\"\n",
    "        Инициализация\n",
    "        models - базовые модели для стекинга\n",
    "        ens_model - мета-модель\n",
    "        \"\"\"\n",
    "        self.models = models\n",
    "        self.ens_model = ens_model\n",
    "        self.n = len(models)\n",
    "        self.valid = None\n",
    "        \n",
    "    def fit(self, X, y=None, p=0.25, cv=3, err=0.001, random_state=None):\n",
    "        \"\"\"\n",
    "        Обучение стекинга\n",
    "        p - в каком отношении делить на обучение / тест\n",
    "            если p = 0 - используем всё обучение!\n",
    "        cv  (при p=0) - сколько фолдов использовать\n",
    "        err (при p=0) - величина случайной добавки к метапризнакам\n",
    "        random_state - инициализация генератора\n",
    "            \n",
    "        \"\"\"\n",
    "        if (p > 0): # делим на обучение и тест\n",
    "            # разбиение на обучение моделей и метамодели\n",
    "            train, valid, y_train, y_valid = train_test_split(X, y, test_size=p, random_state=random_state)\n",
    "            \n",
    "            # заполнение матрицы для обучения метамодели\n",
    "            self.valid = np.zeros((valid.shape[0], self.n))\n",
    "            for t, clf in enumerate(self.models):\n",
    "                clf.fit(train, y_train)\n",
    "                self.valid[:, t] = clf.predict(valid)\n",
    "                \n",
    "            # обучение метамодели\n",
    "            self.ens_model.fit(self.valid, y_valid)\n",
    "            \n",
    "        else: # используем всё обучение\n",
    "            \n",
    "            # для регуляризации - берём случайные добавки\n",
    "            self.valid = err*np.random.randn(X.shape[0], self.n)\n",
    "            \n",
    "            for t, clf in enumerate(self.models):\n",
    "                # это oob-ответы алгоритмов\n",
    "                self.valid[:, t] += cross_val_predict(clf, X, y, cv=cv, n_jobs=-1, method='predict')\n",
    "                # но сам алгоритм надо настроить\n",
    "                clf.fit(X, y)\n",
    "            \n",
    "            # обучение метамодели\n",
    "            self.ens_model.fit(self.valid, y)  \n",
    "            \n",
    "\n",
    "        return self\n",
    "    \n",
    "\n",
    "\n",
    "    def predict(self, X, y=None):\n",
    "        \"\"\"\n",
    "        Работа стэкинга\n",
    "        \"\"\"\n",
    "        # заполение матрицы для мета-классификатора\n",
    "        X_meta = np.zeros((X.shape[0], self.n))\n",
    "        \n",
    "        for t, clf in enumerate(self.models):\n",
    "            X_meta[:, t] = clf.predict(X)\n",
    "        \n",
    "        a = self.ens_model.predict(X_meta)\n",
    "        \n",
    "        return (a)"
   ]
  },
  {
   "cell_type": "code",
   "execution_count": null,
   "id": "09336add-2132-4415-9ca7-174d74078dca",
   "metadata": {},
   "outputs": [],
   "source": []
  },
  {
   "cell_type": "code",
   "execution_count": null,
   "id": "e3506e62-cfb7-4d9a-8765-c2e446ac6f7e",
   "metadata": {},
   "outputs": [],
   "source": [
    "X_train, X_test, y_train, y_test = train_test_split(X, y, test_size=0.25, random_state=42)"
   ]
  },
  {
   "cell_type": "markdown",
   "id": "b342ca39-1287-4d89-9ca8-a5bf261aaf19",
   "metadata": {},
   "source": [
    "# Базовые алгоритмы для стекинга"
   ]
  },
  {
   "cell_type": "markdown",
   "id": "033444ef-6262-472e-8790-f3352d5bcceb",
   "metadata": {},
   "source": [
    "### Подбор k для KNN"
   ]
  },
  {
   "cell_type": "code",
   "execution_count": null,
   "id": "8f16d1a8-cda1-4f38-9dca-847629fae65f",
   "metadata": {},
   "outputs": [],
   "source": [
    "error_rate = []\n",
    "\n",
    "for i in range(1,50):\n",
    "    knn = KNeighborsClassifier(n_neighbors=i)\n",
    "    knn.fit(X_train, y_train)\n",
    "    pred = knn.predict(X_test)\n",
    "    error_rate.append(np.mean(pred != y_test))\n",
    "\n",
    "plt.figure(figsize=(15,10))\n",
    "plt.plot(range(1,50),error_rate, marker='o', markersize=9)"
   ]
  },
  {
   "cell_type": "code",
   "execution_count": null,
   "id": "296cf353-18a5-455c-992b-1c8a74e9ff64",
   "metadata": {},
   "outputs": [],
   "source": []
  },
  {
   "cell_type": "markdown",
   "id": "c8dea8f4-48df-4c58-bfb0-48b6e2960fd5",
   "metadata": {},
   "source": [
    "# Сделать подбор параметров для алгоритмов через оптюн"
   ]
  },
  {
   "cell_type": "code",
   "execution_count": null,
   "id": "444c4549-e0b7-4c30-892d-90f0b49bcbfe",
   "metadata": {},
   "outputs": [],
   "source": [
    "..."
   ]
  },
  {
   "cell_type": "code",
   "execution_count": null,
   "id": "577a709d-8d2a-41fc-9274-0d2e2f37084a",
   "metadata": {},
   "outputs": [],
   "source": [
    "..."
   ]
  },
  {
   "cell_type": "code",
   "execution_count": null,
   "id": "ed4140c9-bebe-407f-94e1-2539f2e65c46",
   "metadata": {},
   "outputs": [],
   "source": []
  },
  {
   "cell_type": "code",
   "execution_count": null,
   "id": "7e8fb6fa-241d-4278-9c5a-84ba241fc28e",
   "metadata": {},
   "outputs": [],
   "source": [
    "import lightgbm as lgb\n",
    "from sklearn.metrics import roc_auc_score\n",
    "from sklearn.neighbors import KNeighborsRegressor\n",
    "from sklearn.linear_model import Ridge\n",
    "from sklearn.ensemble import RandomForestRegressor\n",
    "\n",
    "knn1 = KNeighborsRegressor(n_neighbors=3)\n",
    "knn1.fit(X_train, y_train)\n",
    "run_and_plot(knn1, X_test, y_test, '3NN')\n",
    "\n",
    "knn2 = KNeighborsRegressor(n_neighbors=10)\n",
    "knn2.fit(X_train, y_train)\n",
    "run_and_plot(knn2, X_test, y_test, '10NN')\n",
    "\n",
    "\n",
    "rg0 = Ridge(alpha=0.01)\n",
    "rg0.fit(X_train, y_train)\n",
    "run_and_plot(rg0, X_test, y_test, 'ridge-0.01')\n",
    "\n",
    "rg1 = Ridge(alpha=1.1)\n",
    "rg1.fit(X_train, y_train)\n",
    "run_and_plot(rg1, X_test, y_test, 'ridge-1.1')\n",
    "\n",
    "rg2 = Ridge(alpha=100.1)\n",
    "rg2.fit(X_train, y_train)\n",
    "run_and_plot(rg2, X_test, y_test, 'ridge-100.1')\n",
    "\n",
    "\n",
    "rf1 = RandomForestRegressor(n_estimators=100, max_depth=1)\n",
    "rf1.fit(X_train, y_train)\n",
    "run_and_plot(rf1, X_test, y_test, 'rf-d1')\n",
    "\n",
    "rf2 = RandomForestRegressor(n_estimators=100, max_depth=5)\n",
    "rf2.fit(X_train, y_train)\n",
    "run_and_plot(rf2, X_test, y_test, 'rf-d5')\n",
    "\n",
    "\n",
    "gbm1 = lgb.LGBMRegressor(boosting_type='gbdt', learning_rate=0.05, max_depth=2, n_estimators=200, nthread=-1, objective='regression')    \n",
    "gbm1.fit(X_train, y_train)\n",
    "run_and_plot(gbm1, X_test, y_test, 'gbm-d2')\n",
    "\n",
    "gbm2 = lgb.LGBMRegressor(boosting_type='gbdt', learning_rate=0.05, max_depth=5, n_estimators=200, nthread=-1, objective='regression')    \n",
    "gbm2.fit(X_train, y_train)\n",
    "run_and_plot(gbm2, X_test, y_test, 'gbm-d5')"
   ]
  },
  {
   "cell_type": "markdown",
   "id": "709685cb-f8b2-430f-9f1d-09aace20f30c",
   "metadata": {},
   "source": [
    "# Запуск"
   ]
  },
  {
   "cell_type": "code",
   "execution_count": null,
   "id": "5f43a8b9-4744-4ec4-b3d3-fd5a8f6d230f",
   "metadata": {},
   "outputs": [],
   "source": [
    "models = [knn1, knn2,rg1, rg2, rf1, rf2, gbm1, gbm2] # , rf3\n",
    "ens_model = Ridge()\n",
    "s1 = DjStacking(models, ens_model)\n",
    "s1.fit(train_X, train_y)\n",
    "run_and_plot(s1, test_X, test_y, '1-stacking')\n",
    "\n",
    "\n",
    "s2 = DjStacking(models, ens_model)\n",
    "s2.fit(train_X, train_y, p=-1)\n",
    "run_and_plot(s1, test_X, test_y, '2-stacking')"
   ]
  },
  {
   "cell_type": "markdown",
   "id": "76bf1ca6-70eb-46ca-8bce-975972537e7d",
   "metadata": {},
   "source": [
    "# Несколько блендингов подряд"
   ]
  },
  {
   "cell_type": "code",
   "execution_count": null,
   "id": "4ec043eb-81f0-47a0-9d0e-28db65868c2d",
   "metadata": {},
   "outputs": [],
   "source": [
    "# models = [knn3, knn5, knn10, rg0, rg1, rg2, rf1, rf2, rf3]\n",
    "ens_model = Ridge(0.001)\n",
    "s1 = DjStacking(models, ens_model)\n",
    "a = 0\n",
    "e = []\n",
    "for t in range(10):\n",
    "    s1.fit(train_X, train_y, p=0.4)\n",
    "    a += s1.predict(test_X, train_y)\n",
    "    \n",
    "    auc = roc_auc_score(test_y, a)\n",
    "    print (auc)\n",
    "    e.append(auc)"
   ]
  },
  {
   "cell_type": "markdown",
   "id": "c9437cc1-a27a-4b1f-a48f-d68da71d9ac8",
   "metadata": {},
   "source": [
    "# Варьируем число фолдов"
   ]
  },
  {
   "cell_type": "code",
   "execution_count": null,
   "id": "dc96d6fd-8075-4f9a-8441-5f965416c9c5",
   "metadata": {},
   "outputs": [],
   "source": [
    "# models = [knn3, knn5, knn10, rg0, rg1, rg2, rf1, rf2, rf3]\n",
    "ens_model = Ridge(0.001)\n",
    "\n",
    "s1 = DjStacking(models, ens_model)\n",
    "a = 0\n",
    "e = []\n",
    "for t in range(2, 11):\n",
    "    s1.fit(train_X, train_y, p=-1, cv=t, err=0.00)\n",
    "    a = s1.predict(test_X, train_y)\n",
    "    auc = roc_auc_score(test_y, a)\n",
    "    print (auc)\n",
    "    e.append(auc)"
   ]
  },
  {
   "cell_type": "code",
   "execution_count": null,
   "id": "032e625d-f4df-45ef-b3ea-c6ba1f98991d",
   "metadata": {},
   "outputs": [],
   "source": []
  },
  {
   "cell_type": "code",
   "execution_count": null,
   "id": "d08ec205-a965-4a71-8fd6-7ba4d178b161",
   "metadata": {},
   "outputs": [],
   "source": []
  },
  {
   "cell_type": "markdown",
   "id": "6c11c3d4-e4bc-4aa6-9a68-0ee3abc84fc1",
   "metadata": {},
   "source": [
    "# Если хочется перебирать параметры прям в пайплайне"
   ]
  },
  {
   "cell_type": "code",
   "execution_count": null,
   "id": "0bb8dfe3-2f03-4ff5-947f-a8c861de636a",
   "metadata": {},
   "outputs": [],
   "source": [
    "param_grid = {\n",
    "    'modelling__C': np.logspace(-5, 2, 20),\n",
    "    'modelling__penalty': ['l1', 'l2'],\n",
    "    'modelling__class_weight':['balanced', None],\n",
    "    'preprocessing__num__with_mean':[True, False]\n",
    "}\n",
    "\n",
    "\n",
    "search = RandomizedSearchCV(pipeline, param_grid, n_jobs=-1, cv=5)\n",
    "\n",
    "search.fit(data_train.drop(target, axis=1), data_train[target])\n",
    "search.best_params_"
   ]
  },
  {
   "cell_type": "code",
   "execution_count": null,
   "id": "ad371364-a432-40ca-bd65-2ad3a6e1f2fc",
   "metadata": {},
   "outputs": [],
   "source": [
    "f1 = make_scorer(f1_score, average='macro')\n",
    "\n",
    "param_grid = {\n",
    "    'modelling__C': np.logspace(-5, 2, 20),\n",
    "    'modelling__penalty': ['l1', 'l2'],\n",
    "    'modelling__class_weight':['balanced', None],\n",
    "    'preprocessing__num__with_mean':[True, False]\n",
    "}\n",
    "search = RandomizedSearchCV(pipeline, param_grid, n_jobs=-1, cv=5, scoring=f1)\n",
    "\n",
    "search.fit(data_train.drop(target, axis=1), data_train[target])\n",
    "search.best_params_"
   ]
  },
  {
   "cell_type": "code",
   "execution_count": null,
   "id": "0b03c7dd-643d-41b7-9698-c62ab88cd2b2",
   "metadata": {},
   "outputs": [],
   "source": []
  },
  {
   "cell_type": "markdown",
   "id": "8beb6dcd-0155-4682-8ba1-be1db136aee8",
   "metadata": {},
   "source": [
    "# Save the pipeline"
   ]
  },
  {
   "cell_type": "code",
   "execution_count": null,
   "id": "49e8d561-7625-4543-b412-6dee5eb21b66",
   "metadata": {},
   "outputs": [],
   "source": [
    "with open(\"pipeline.pkl\", \"wb\") as f:\n",
    "    pickle.dump(search.best_estimator_, f)"
   ]
  },
  {
   "cell_type": "markdown",
   "id": "57568395-b6f9-406b-8c7c-9cc19c41ab59",
   "metadata": {},
   "source": [
    "# Load and predict"
   ]
  },
  {
   "cell_type": "code",
   "execution_count": null,
   "id": "4eb117e7-219d-428c-bf1e-ad6563db0813",
   "metadata": {},
   "outputs": [],
   "source": [
    "with open(\"pipeline.pkl\", 'rb') as f:\n",
    "    pipeline_from_saved = pickle.load(f)"
   ]
  },
  {
   "cell_type": "code",
   "execution_count": null,
   "id": "15754109-156d-4835-8c7d-9f6e8fef2937",
   "metadata": {},
   "outputs": [],
   "source": [
    "pipeline_from_saved"
   ]
  },
  {
   "cell_type": "code",
   "execution_count": null,
   "id": "591df91c-eb07-4504-911e-84e6aa63abfa",
   "metadata": {},
   "outputs": [],
   "source": [
    "data_test.iloc[0]"
   ]
  },
  {
   "cell_type": "code",
   "execution_count": null,
   "id": "4a45cd05-53ac-4433-84fd-3e269079230d",
   "metadata": {},
   "outputs": [],
   "source": [
    "pipeline_from_saved.named_steps['preprocessing'].transform(data_test.iloc[:1])"
   ]
  },
  {
   "cell_type": "code",
   "execution_count": null,
   "id": "4a6993ea-4631-431c-b454-f27b7c8a5c74",
   "metadata": {},
   "outputs": [],
   "source": [
    "preds = pipeline_from_saved.predict(data_test)\n",
    "print(classification_report(data_test[target], preds))"
   ]
  },
  {
   "cell_type": "code",
   "execution_count": null,
   "id": "61ca3eae-23d6-4464-a43e-249dab8c44bd",
   "metadata": {},
   "outputs": [],
   "source": []
  }
 ],
 "metadata": {
  "kernelspec": {
   "display_name": "Python 3",
   "language": "python",
   "name": "python3"
  },
  "language_info": {
   "codemirror_mode": {
    "name": "ipython",
    "version": 3
   },
   "file_extension": ".py",
   "mimetype": "text/x-python",
   "name": "python",
   "nbconvert_exporter": "python",
   "pygments_lexer": "ipython3",
   "version": "3.6.9"
  }
 },
 "nbformat": 4,
 "nbformat_minor": 5
}
