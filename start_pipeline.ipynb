{
 "cells": [
  {
   "cell_type": "code",
   "execution_count": 1,
   "id": "ec61ead6-d743-4bea-a794-b81a00b97846",
   "metadata": {
    "collapsed": true,
    "jupyter": {
     "outputs_hidden": true
    },
    "tags": []
   },
   "outputs": [
    {
     "name": "stderr",
     "output_type": "stream",
     "text": [
      "/usr/local/lib/python3.6/dist-packages/featuretools/__init__.py:60: FutureWarning:\n",
      "\n",
      "The next non-bugfix release of Featuretools will not support Python 3.6\n",
      "\n"
     ]
    }
   ],
   "source": [
    "import numpy as np\n",
    "import pandas as pd\n",
    "import matplotlib.pyplot as plt\n",
    "import seaborn as sns\n",
    "import optuna\n",
    "from catboost import Pool\n",
    "\n",
    "import featuretools as ft\n",
    "from featuretools import selection\n",
    "\n",
    "from sklearn.metrics import mean_absolute_error, make_scorer, mean_squared_error, r2_score\n",
    "from sklearn.pipeline import Pipeline\n",
    "from sklearn.pipeline import make_union\n",
    "from sklearn.preprocessing import FunctionTransformer\n",
    "\n",
    "from sklearn.preprocessing import StandardScaler, MinMaxScaler\n",
    "from sklearn.impute import SimpleImputer\n",
    "from sklearn.model_selection import KFold \n",
    "from sklearn.model_selection import train_test_split\n",
    "from sklearn.model_selection import cross_val_score\n",
    "from sklearn.base import BaseEstimator, TransformerMixin\n",
    "from sklearn.linear_model import Ridge\n",
    "\n",
    "from sklearn.feature_selection import VarianceThreshold\n",
    "from sklearn.feature_selection import SelectKBest, SelectPercentile\n",
    "from sklearn.feature_selection import chi2, mutual_info_classif\n",
    "\n",
    "\n",
    "from category_encoders import OrdinalEncoder, OneHotEncoder\n",
    "from category_encoders import BackwardDifferenceEncoder, HelmertEncoder, BinaryEncoder\n",
    "from category_encoders import CountEncoder\n",
    "from category_encoders import LeaveOneOutEncoder, TargetEncoder, JamesSteinEncoder, MEstimateEncoder, WOEEncoder, CatBoostEncoder\n",
    "from category_encoders.wrapper import NestedCVWrapper\n",
    "\n",
    "from catboost import CatBoostRegressor\n",
    "\n",
    "import warnings\n",
    "from sklearn.exceptions import DataConversionWarning\n",
    "warnings.filterwarnings(action='ignore')\n",
    "\n",
    "np.random.seed(42)"
   ]
  },
  {
   "cell_type": "code",
   "execution_count": 2,
   "id": "eed371eb-6358-4f51-8d62-b9272daa3a04",
   "metadata": {},
   "outputs": [],
   "source": [
    "sample_subm = pd.read_csv('sample_submission.csv')\n",
    "train = pd.read_csv('train.csv')\n",
    "test = pd.read_csv('test.csv')"
   ]
  },
  {
   "cell_type": "code",
   "execution_count": null,
   "id": "2f0055c0-f21a-42ec-ba3f-b99e31b44c88",
   "metadata": {},
   "outputs": [],
   "source": []
  },
  {
   "cell_type": "code",
   "execution_count": 103,
   "id": "dba2df72-8143-4e98-9cf8-cfd7d6ef5329",
   "metadata": {},
   "outputs": [
    {
     "data": {
      "text/plain": [
       "<AxesSubplot:>"
      ]
     },
     "execution_count": 103,
     "metadata": {},
     "output_type": "execute_result"
    },
    {
     "data": {
      "image/png": "[encoded data removed]",
      "text/plain": [
       "<Figure size 432x288 with 1 Axes>"
      ]
     },
     "metadata": {
      "needs_background": "light"
     },
     "output_type": "display_data"
    }
   ],
   "source": [
    "train.y.hist(bins=100)"
   ]
  },
  {
   "cell_type": "markdown",
   "id": "ae818e35-d0b6-4178-95e3-c932cb9f8b58",
   "metadata": {},
   "source": [
    "# Возможно стоит логарифмировать таргет"
   ]
  },
  {
   "cell_type": "code",
   "execution_count": 4,
   "id": "1931b9fa-e6f6-4b0b-a454-ba916f1cc549",
   "metadata": {},
   "outputs": [],
   "source": [
    "X_train, y_train = train.drop('y',1), train.y \n",
    "X_test = test"
   ]
  },
  {
   "cell_type": "code",
   "execution_count": 5,
   "id": "3537d54c-d20c-4eed-8d0e-af0c1602f72b",
   "metadata": {
    "tags": []
   },
   "outputs": [],
   "source": [
    "te = TargetEncoder()\n",
    "X_target_encoded = te.fit_transform(X_train, y_train)"
   ]
  },
  {
   "cell_type": "code",
   "execution_count": 6,
   "id": "19ddcbec-eb90-4a96-bb78-44c70a607f1e",
   "metadata": {},
   "outputs": [],
   "source": [
    "model = CatBoostRegressor(max_depth=8,\n",
    "                         thread_count=60,\n",
    "                         n_estimators=300,\n",
    "                         verbose=False, \n",
    "                        early_stopping_rounds=5)"
   ]
  },
  {
   "cell_type": "code",
   "execution_count": 7,
   "id": "cf21a5aa-712d-4bc5-8528-5b4156f91663",
   "metadata": {
    "colab": {
     "base_uri": "https://localhost:8080/"
    },
    "id": "u4Nibf2SW061",
    "outputId": "d2b4b581-e1df-4c8f-d32b-dea55d0b493d"
   },
   "outputs": [
    {
     "name": "stdout",
     "output_type": "stream",
     "text": [
      "Cross-validated R2: 0.458 +/- 0.129\n"
     ]
    }
   ],
   "source": [
    "# Regression model\n",
    "model_le = Pipeline([\n",
    "    ('encoder', TargetEncoder()),\n",
    "    ('imputer', SimpleImputer(strategy='most_frequent')),\n",
    "    ('scaler', StandardScaler()),\n",
    "    ('constant_remover', VarianceThreshold(0.0)),\n",
    "    ('regressor', model)\n",
    "])\n",
    "\n",
    "# Cross-validated R2\n",
    "r2_scorer = make_scorer(r2_score)\n",
    "mse_scorer = make_scorer(mean_squared_error)\n",
    "scores = cross_val_score(model_le, X_train, y_train, \n",
    "                         cv=5, scoring=r2_scorer)\n",
    "print('Cross-validated R2: %0.3f +/- %0.3f'\n",
    "      % (scores.mean(), scores.std()))"
   ]
  },
  {
   "cell_type": "code",
   "execution_count": null,
   "id": "2671d90c-eea9-4d8e-977f-c8cb0655184f",
   "metadata": {},
   "outputs": [],
   "source": []
  },
  {
   "cell_type": "markdown",
   "id": "8a10db52-dfc6-41a0-8b2f-f067e1e2d9e0",
   "metadata": {},
   "source": [
    "# На случай если понадобится кастомная метрика"
   ]
  },
  {
   "cell_type": "code",
   "execution_count": 8,
   "id": "0c2efab1-b3b5-42e0-8d5c-1cafd8c6d5f9",
   "metadata": {},
   "outputs": [],
   "source": [
    "# my_scorer = make_scorer(adjusted_rsquare, greater_is_better=True)\n",
    "# def adjusted_rsquare(y_true, y_pred, **kwargs):"
   ]
  },
  {
   "cell_type": "code",
   "execution_count": null,
   "id": "d9ed8bbb-655b-48b6-a354-592d4c38de3d",
   "metadata": {},
   "outputs": [],
   "source": []
  },
  {
   "cell_type": "markdown",
   "id": "5abe5945-aabe-4fdc-9340-6b7b45434931",
   "metadata": {},
   "source": [
    "# Теперь добавим генерацию фичей"
   ]
  },
  {
   "cell_type": "code",
   "execution_count": 9,
   "id": "bb90627f-6c4d-4de1-b435-2b2928b7c716",
   "metadata": {},
   "outputs": [],
   "source": [
    "# Merge application data\n",
    "train['Test'] = False\n",
    "test['Test'] = True\n",
    "test['TARGET'] = np.nan\n",
    "train.rename(columns={'y':'TARGET'}, inplace=True)\n",
    "app = train.append(test, ignore_index=True, sort=False).drop('ID',1).reset_index()"
   ]
  },
  {
   "cell_type": "code",
   "execution_count": 10,
   "id": "a8ec42da-439f-4055-8a41-0e55bd04bbdf",
   "metadata": {},
   "outputs": [],
   "source": [
    "# Create an entity set\n",
    "es = ft.EntitySet(id='mercedes')"
   ]
  },
  {
   "cell_type": "code",
   "execution_count": 11,
   "id": "9ac6ef2d-5c5b-482b-9070-1c12949507e8",
   "metadata": {},
   "outputs": [],
   "source": [
    "# Add dataframe to entityset\n",
    "es = es.entity_from_dataframe(\n",
    "    entity_id='mercedes',\n",
    "    dataframe=app,\n",
    "    index='index'\n",
    ")"
   ]
  },
  {
   "cell_type": "code",
   "execution_count": 12,
   "id": "08a87bba-b3be-421a-87fc-07b288cf7bf2",
   "metadata": {},
   "outputs": [],
   "source": [
    "# Manually define datatypes in app dataframe\n",
    "variable_types = {\n",
    "    'X0': ft.variable_types.Categorical\n",
    "}\n",
    "\n",
    "# Add dataframe to entityset, using manual datatypes\n",
    "es = es.entity_from_dataframe(\n",
    "    entity_id='mercedes',\n",
    "    dataframe=app,\n",
    "    index='index',\n",
    "    variable_types=variable_types\n",
    ")"
   ]
  },
  {
   "cell_type": "code",
   "execution_count": 13,
   "id": "9a7474c4-1509-433f-b5ea-72340f1fce3d",
   "metadata": {},
   "outputs": [
    {
     "name": "stdout",
     "output_type": "stream",
     "text": [
      "Built 747 features\n",
      "Fewer chunks (5), than workers (64) consider reducing the chunk size\n",
      "EntitySet scattered to 64 workers in 11 seconds\n",
      "Elapsed: 00:02 | Progress: 100%|██████████\n"
     ]
    }
   ],
   "source": [
    "agg_primitives =  ['count', 'mean', 'num_unique']\n",
    "trans_primitives = ['cum_sum']\n",
    "dfs_feat, dfs_defs = ft.dfs(\n",
    "    entityset=es,\n",
    "    target_entity='mercedes',\n",
    "    trans_primitives=trans_primitives,\n",
    "    agg_primitives=agg_primitives, \n",
    "    max_features=1000,\n",
    "    chunk_size=2000,\n",
    "    verbose=True,                            \n",
    "    max_depth=2,\n",
    "    n_jobs=-1\n",
    ")"
   ]
  },
  {
   "cell_type": "code",
   "execution_count": 14,
   "id": "6721c2cc-4cf6-4b3c-8f25-549e70be00cc",
   "metadata": {},
   "outputs": [
    {
     "data": {
      "text/html": [
       "<div>\n",
       "<style scoped>\n",
       "    .dataframe tbody tr th:only-of-type {\n",
       "        vertical-align: middle;\n",
       "    }\n",
       "\n",
       "    .dataframe tbody tr th {\n",
       "        vertical-align: top;\n",
       "    }\n",
       "\n",
       "    .dataframe thead th {\n",
       "        text-align: right;\n",
       "    }\n",
       "</style>\n",
       "<table border=\"1\" class=\"dataframe\">\n",
       "  <thead>\n",
       "    <tr style=\"text-align: right;\">\n",
       "      <th></th>\n",
       "      <th>TARGET</th>\n",
       "      <th>X1</th>\n",
       "      <th>X2</th>\n",
       "      <th>X3</th>\n",
       "      <th>X4</th>\n",
       "      <th>X5</th>\n",
       "      <th>X6</th>\n",
       "      <th>X8</th>\n",
       "      <th>X10</th>\n",
       "      <th>X11</th>\n",
       "      <th>...</th>\n",
       "      <th>CUM_SUM(X90)</th>\n",
       "      <th>CUM_SUM(X91)</th>\n",
       "      <th>CUM_SUM(X92)</th>\n",
       "      <th>CUM_SUM(X93)</th>\n",
       "      <th>CUM_SUM(X94)</th>\n",
       "      <th>CUM_SUM(X95)</th>\n",
       "      <th>CUM_SUM(X96)</th>\n",
       "      <th>CUM_SUM(X97)</th>\n",
       "      <th>CUM_SUM(X98)</th>\n",
       "      <th>CUM_SUM(X99)</th>\n",
       "    </tr>\n",
       "    <tr>\n",
       "      <th>index</th>\n",
       "      <th></th>\n",
       "      <th></th>\n",
       "      <th></th>\n",
       "      <th></th>\n",
       "      <th></th>\n",
       "      <th></th>\n",
       "      <th></th>\n",
       "      <th></th>\n",
       "      <th></th>\n",
       "      <th></th>\n",
       "      <th></th>\n",
       "      <th></th>\n",
       "      <th></th>\n",
       "      <th></th>\n",
       "      <th></th>\n",
       "      <th></th>\n",
       "      <th></th>\n",
       "      <th></th>\n",
       "      <th></th>\n",
       "      <th></th>\n",
       "      <th></th>\n",
       "    </tr>\n",
       "  </thead>\n",
       "  <tbody>\n",
       "    <tr>\n",
       "      <th>0</th>\n",
       "      <td>130.81</td>\n",
       "      <td>v</td>\n",
       "      <td>at</td>\n",
       "      <td>a</td>\n",
       "      <td>d</td>\n",
       "      <td>u</td>\n",
       "      <td>j</td>\n",
       "      <td>o</td>\n",
       "      <td>0</td>\n",
       "      <td>0</td>\n",
       "      <td>...</td>\n",
       "      <td>0</td>\n",
       "      <td>0</td>\n",
       "      <td>0</td>\n",
       "      <td>0</td>\n",
       "      <td>0</td>\n",
       "      <td>0</td>\n",
       "      <td>0</td>\n",
       "      <td>0</td>\n",
       "      <td>0</td>\n",
       "      <td>0</td>\n",
       "    </tr>\n",
       "    <tr>\n",
       "      <th>1</th>\n",
       "      <td>88.53</td>\n",
       "      <td>t</td>\n",
       "      <td>av</td>\n",
       "      <td>e</td>\n",
       "      <td>d</td>\n",
       "      <td>y</td>\n",
       "      <td>l</td>\n",
       "      <td>o</td>\n",
       "      <td>0</td>\n",
       "      <td>0</td>\n",
       "      <td>...</td>\n",
       "      <td>0</td>\n",
       "      <td>0</td>\n",
       "      <td>0</td>\n",
       "      <td>0</td>\n",
       "      <td>0</td>\n",
       "      <td>0</td>\n",
       "      <td>1</td>\n",
       "      <td>0</td>\n",
       "      <td>1</td>\n",
       "      <td>0</td>\n",
       "    </tr>\n",
       "    <tr>\n",
       "      <th>2</th>\n",
       "      <td>76.26</td>\n",
       "      <td>w</td>\n",
       "      <td>n</td>\n",
       "      <td>c</td>\n",
       "      <td>d</td>\n",
       "      <td>x</td>\n",
       "      <td>j</td>\n",
       "      <td>x</td>\n",
       "      <td>0</td>\n",
       "      <td>0</td>\n",
       "      <td>...</td>\n",
       "      <td>0</td>\n",
       "      <td>0</td>\n",
       "      <td>0</td>\n",
       "      <td>0</td>\n",
       "      <td>0</td>\n",
       "      <td>0</td>\n",
       "      <td>2</td>\n",
       "      <td>0</td>\n",
       "      <td>2</td>\n",
       "      <td>0</td>\n",
       "    </tr>\n",
       "    <tr>\n",
       "      <th>3</th>\n",
       "      <td>80.62</td>\n",
       "      <td>t</td>\n",
       "      <td>n</td>\n",
       "      <td>f</td>\n",
       "      <td>d</td>\n",
       "      <td>x</td>\n",
       "      <td>l</td>\n",
       "      <td>e</td>\n",
       "      <td>0</td>\n",
       "      <td>0</td>\n",
       "      <td>...</td>\n",
       "      <td>0</td>\n",
       "      <td>0</td>\n",
       "      <td>0</td>\n",
       "      <td>0</td>\n",
       "      <td>0</td>\n",
       "      <td>0</td>\n",
       "      <td>3</td>\n",
       "      <td>0</td>\n",
       "      <td>3</td>\n",
       "      <td>0</td>\n",
       "    </tr>\n",
       "    <tr>\n",
       "      <th>4</th>\n",
       "      <td>78.02</td>\n",
       "      <td>v</td>\n",
       "      <td>n</td>\n",
       "      <td>f</td>\n",
       "      <td>d</td>\n",
       "      <td>h</td>\n",
       "      <td>d</td>\n",
       "      <td>n</td>\n",
       "      <td>0</td>\n",
       "      <td>0</td>\n",
       "      <td>...</td>\n",
       "      <td>0</td>\n",
       "      <td>0</td>\n",
       "      <td>0</td>\n",
       "      <td>0</td>\n",
       "      <td>0</td>\n",
       "      <td>0</td>\n",
       "      <td>4</td>\n",
       "      <td>0</td>\n",
       "      <td>4</td>\n",
       "      <td>0</td>\n",
       "    </tr>\n",
       "    <tr>\n",
       "      <th>...</th>\n",
       "      <td>...</td>\n",
       "      <td>...</td>\n",
       "      <td>...</td>\n",
       "      <td>...</td>\n",
       "      <td>...</td>\n",
       "      <td>...</td>\n",
       "      <td>...</td>\n",
       "      <td>...</td>\n",
       "      <td>...</td>\n",
       "      <td>...</td>\n",
       "      <td>...</td>\n",
       "      <td>...</td>\n",
       "      <td>...</td>\n",
       "      <td>...</td>\n",
       "      <td>...</td>\n",
       "      <td>...</td>\n",
       "      <td>...</td>\n",
       "      <td>...</td>\n",
       "      <td>...</td>\n",
       "      <td>...</td>\n",
       "      <td>...</td>\n",
       "    </tr>\n",
       "    <tr>\n",
       "      <th>8413</th>\n",
       "      <td>NaN</td>\n",
       "      <td>h</td>\n",
       "      <td>as</td>\n",
       "      <td>f</td>\n",
       "      <td>d</td>\n",
       "      <td>aa</td>\n",
       "      <td>j</td>\n",
       "      <td>e</td>\n",
       "      <td>0</td>\n",
       "      <td>0</td>\n",
       "      <td>...</td>\n",
       "      <td>66</td>\n",
       "      <td>18</td>\n",
       "      <td>14</td>\n",
       "      <td>2</td>\n",
       "      <td>64</td>\n",
       "      <td>4</td>\n",
       "      <td>6335</td>\n",
       "      <td>24</td>\n",
       "      <td>7931</td>\n",
       "      <td>78</td>\n",
       "    </tr>\n",
       "    <tr>\n",
       "      <th>8414</th>\n",
       "      <td>NaN</td>\n",
       "      <td>aa</td>\n",
       "      <td>ai</td>\n",
       "      <td>d</td>\n",
       "      <td>d</td>\n",
       "      <td>aa</td>\n",
       "      <td>j</td>\n",
       "      <td>y</td>\n",
       "      <td>0</td>\n",
       "      <td>0</td>\n",
       "      <td>...</td>\n",
       "      <td>66</td>\n",
       "      <td>18</td>\n",
       "      <td>14</td>\n",
       "      <td>2</td>\n",
       "      <td>64</td>\n",
       "      <td>4</td>\n",
       "      <td>6336</td>\n",
       "      <td>24</td>\n",
       "      <td>7932</td>\n",
       "      <td>78</td>\n",
       "    </tr>\n",
       "    <tr>\n",
       "      <th>8415</th>\n",
       "      <td>NaN</td>\n",
       "      <td>v</td>\n",
       "      <td>as</td>\n",
       "      <td>f</td>\n",
       "      <td>d</td>\n",
       "      <td>aa</td>\n",
       "      <td>d</td>\n",
       "      <td>w</td>\n",
       "      <td>0</td>\n",
       "      <td>0</td>\n",
       "      <td>...</td>\n",
       "      <td>66</td>\n",
       "      <td>18</td>\n",
       "      <td>14</td>\n",
       "      <td>2</td>\n",
       "      <td>64</td>\n",
       "      <td>4</td>\n",
       "      <td>6337</td>\n",
       "      <td>24</td>\n",
       "      <td>7933</td>\n",
       "      <td>78</td>\n",
       "    </tr>\n",
       "    <tr>\n",
       "      <th>8416</th>\n",
       "      <td>NaN</td>\n",
       "      <td>v</td>\n",
       "      <td>as</td>\n",
       "      <td>a</td>\n",
       "      <td>d</td>\n",
       "      <td>aa</td>\n",
       "      <td>c</td>\n",
       "      <td>q</td>\n",
       "      <td>0</td>\n",
       "      <td>0</td>\n",
       "      <td>...</td>\n",
       "      <td>66</td>\n",
       "      <td>18</td>\n",
       "      <td>14</td>\n",
       "      <td>2</td>\n",
       "      <td>64</td>\n",
       "      <td>4</td>\n",
       "      <td>6338</td>\n",
       "      <td>24</td>\n",
       "      <td>7934</td>\n",
       "      <td>78</td>\n",
       "    </tr>\n",
       "    <tr>\n",
       "      <th>8417</th>\n",
       "      <td>NaN</td>\n",
       "      <td>aa</td>\n",
       "      <td>ai</td>\n",
       "      <td>c</td>\n",
       "      <td>d</td>\n",
       "      <td>aa</td>\n",
       "      <td>g</td>\n",
       "      <td>r</td>\n",
       "      <td>0</td>\n",
       "      <td>0</td>\n",
       "      <td>...</td>\n",
       "      <td>66</td>\n",
       "      <td>18</td>\n",
       "      <td>14</td>\n",
       "      <td>2</td>\n",
       "      <td>64</td>\n",
       "      <td>4</td>\n",
       "      <td>6338</td>\n",
       "      <td>24</td>\n",
       "      <td>7935</td>\n",
       "      <td>78</td>\n",
       "    </tr>\n",
       "  </tbody>\n",
       "</table>\n",
       "<p>8418 rows × 747 columns</p>\n",
       "</div>"
      ],
      "text/plain": [
       "       TARGET  X1  X2 X3 X4  X5 X6 X8  X10  X11  ...  CUM_SUM(X90)  \\\n",
       "index                                            ...                 \n",
       "0      130.81   v  at  a  d   u  j  o    0    0  ...             0   \n",
       "1       88.53   t  av  e  d   y  l  o    0    0  ...             0   \n",
       "2       76.26   w   n  c  d   x  j  x    0    0  ...             0   \n",
       "3       80.62   t   n  f  d   x  l  e    0    0  ...             0   \n",
       "4       78.02   v   n  f  d   h  d  n    0    0  ...             0   \n",
       "...       ...  ..  .. .. ..  .. .. ..  ...  ...  ...           ...   \n",
       "8413      NaN   h  as  f  d  aa  j  e    0    0  ...            66   \n",
       "8414      NaN  aa  ai  d  d  aa  j  y    0    0  ...            66   \n",
       "8415      NaN   v  as  f  d  aa  d  w    0    0  ...            66   \n",
       "8416      NaN   v  as  a  d  aa  c  q    0    0  ...            66   \n",
       "8417      NaN  aa  ai  c  d  aa  g  r    0    0  ...            66   \n",
       "\n",
       "       CUM_SUM(X91)  CUM_SUM(X92)  CUM_SUM(X93)  CUM_SUM(X94)  CUM_SUM(X95)  \\\n",
       "index                                                                         \n",
       "0                 0             0             0             0             0   \n",
       "1                 0             0             0             0             0   \n",
       "2                 0             0             0             0             0   \n",
       "3                 0             0             0             0             0   \n",
       "4                 0             0             0             0             0   \n",
       "...             ...           ...           ...           ...           ...   \n",
       "8413             18            14             2            64             4   \n",
       "8414             18            14             2            64             4   \n",
       "8415             18            14             2            64             4   \n",
       "8416             18            14             2            64             4   \n",
       "8417             18            14             2            64             4   \n",
       "\n",
       "       CUM_SUM(X96)  CUM_SUM(X97)  CUM_SUM(X98)  CUM_SUM(X99)  \n",
       "index                                                          \n",
       "0                 0             0             0             0  \n",
       "1                 1             0             1             0  \n",
       "2                 2             0             2             0  \n",
       "3                 3             0             3             0  \n",
       "4                 4             0             4             0  \n",
       "...             ...           ...           ...           ...  \n",
       "8413           6335            24          7931            78  \n",
       "8414           6336            24          7932            78  \n",
       "8415           6337            24          7933            78  \n",
       "8416           6338            24          7934            78  \n",
       "8417           6338            24          7935            78  \n",
       "\n",
       "[8418 rows x 747 columns]"
      ]
     },
     "execution_count": 14,
     "metadata": {},
     "output_type": "execute_result"
    }
   ],
   "source": [
    "dfs_feat"
   ]
  },
  {
   "cell_type": "code",
   "execution_count": 15,
   "id": "dcc2a0e2-28d7-4f90-958b-f2d5206268d3",
   "metadata": {},
   "outputs": [],
   "source": [
    "filtered = selection.remove_low_information_features(dfs_feat)"
   ]
  },
  {
   "cell_type": "code",
   "execution_count": 16,
   "id": "bb936884-511c-4a95-b26c-0f53e2f0d59e",
   "metadata": {},
   "outputs": [],
   "source": [
    "# Split data back into test + train\n",
    "train = dfs_feat.loc[~app['Test'].values, :].copy()\n",
    "test = dfs_feat.loc[app['Test'].values, :].copy()\n",
    "\n",
    "test.drop('TARGET',1,inplace=True)"
   ]
  },
  {
   "cell_type": "code",
   "execution_count": 17,
   "id": "42c94f90-7c9d-43eb-a084-23f59125fc84",
   "metadata": {},
   "outputs": [],
   "source": [
    "X_train, y_train = train.drop('TARGET',1), train.TARGET \n",
    "X_test = test"
   ]
  },
  {
   "cell_type": "code",
   "execution_count": 18,
   "id": "da85899b-ed6b-4d02-974f-3013382ee83a",
   "metadata": {
    "tags": []
   },
   "outputs": [],
   "source": [
    "te = TargetEncoder()\n",
    "X_target_encoded = te.fit_transform(X_train, y_train)"
   ]
  },
  {
   "cell_type": "code",
   "execution_count": 19,
   "id": "fb9d68db-4c5b-4711-bf62-0e0139b251f8",
   "metadata": {},
   "outputs": [
    {
     "name": "stdout",
     "output_type": "stream",
     "text": [
      "Cross-validated R2: 0.416 +/- 0.142\n"
     ]
    }
   ],
   "source": [
    "model_le = Pipeline([\n",
    "    ('encoder', TargetEncoder()),\n",
    "    ('imputer', SimpleImputer(strategy='most_frequent')),\n",
    "    ('scaler', StandardScaler()),\n",
    "    ('constant_remover', VarianceThreshold(0.0)),\n",
    "    ('regressor', model)\n",
    "])\n",
    "\n",
    "# Cross-validated R2\n",
    "r2_scorer = make_scorer(r2_score)\n",
    "mse_scorer = make_scorer(mean_squared_error)\n",
    "scores = cross_val_score(model_le, X_train, y_train, \n",
    "                         cv=5, scoring=r2_scorer)\n",
    "print('Cross-validated R2: %0.3f +/- %0.3f'\n",
    "      % (scores.mean(), scores.std()))"
   ]
  },
  {
   "cell_type": "markdown",
   "id": "a3b54087-94e6-4865-9471-367d8df1b199",
   "metadata": {},
   "source": [
    "# На это датасете результат ухудшился"
   ]
  },
  {
   "cell_type": "code",
   "execution_count": null,
   "id": "4c019112-141a-4d68-a66d-67b72db7ca36",
   "metadata": {},
   "outputs": [],
   "source": []
  },
  {
   "cell_type": "code",
   "execution_count": null,
   "id": "0e917840-f612-4c24-8710-c62b79dab47f",
   "metadata": {},
   "outputs": [],
   "source": []
  },
  {
   "cell_type": "markdown",
   "id": "20b80f0a-1dcd-436c-856e-ccac8928e36f",
   "metadata": {},
   "source": [
    "# Shap"
   ]
  },
  {
   "cell_type": "code",
   "execution_count": 20,
   "id": "7ccb0203-bfc1-427e-9388-8762f3096306",
   "metadata": {},
   "outputs": [],
   "source": [
    "sample_subm = pd.read_csv('sample_submission.csv')\n",
    "train = pd.read_csv('train.csv')\n",
    "test = pd.read_csv('test.csv')"
   ]
  },
  {
   "cell_type": "code",
   "execution_count": 21,
   "id": "794cb4b1-cc66-4502-a60f-1740b496fe07",
   "metadata": {},
   "outputs": [],
   "source": [
    "# Добавление шумовой фичи\n",
    "train['noise'] = np.random.normal(size=train.shape[0])"
   ]
  },
  {
   "cell_type": "code",
   "execution_count": 22,
   "id": "492ebb72-4d15-4827-be91-78f2e65143de",
   "metadata": {},
   "outputs": [],
   "source": [
    "X_train, X_test, y_train, y_test = train_test_split(train.drop('y',1), train.y, test_size=0.25, random_state=42)"
   ]
  },
  {
   "cell_type": "code",
   "execution_count": 23,
   "id": "72f81898-610b-4dac-b295-822823d1e76b",
   "metadata": {},
   "outputs": [],
   "source": [
    "X_train = X_train[['X0','X118','X5','X127','noise']]\n",
    "X_test = X_test[['X0','X118','X5','X127','noise']]"
   ]
  },
  {
   "cell_type": "code",
   "execution_count": 24,
   "id": "fc23aa8f-87ab-46a3-8958-fdf5940e911b",
   "metadata": {},
   "outputs": [],
   "source": [
    "y_train = np.log(y_train)\n",
    "te = TargetEncoder()\n",
    "X_target_encoded = te.fit_transform(X_train, y_train)"
   ]
  },
  {
   "cell_type": "code",
   "execution_count": 25,
   "id": "93154048-ae26-4801-8b6c-d93b6da7b9ad",
   "metadata": {},
   "outputs": [],
   "source": [
    "model = CatBoostRegressor(max_depth=8,\n",
    "                         thread_count=60,\n",
    "                         n_estimators=300,\n",
    "                         verbose=False, \n",
    "                        early_stopping_rounds=5)"
   ]
  },
  {
   "cell_type": "code",
   "execution_count": 26,
   "id": "46b6e5ff-7453-491f-84d7-8e425041d291",
   "metadata": {},
   "outputs": [
    {
     "data": {
      "text/plain": [
       "<catboost.core.CatBoostRegressor at 0x7fafabba8a90>"
      ]
     },
     "execution_count": 26,
     "metadata": {},
     "output_type": "execute_result"
    }
   ],
   "source": [
    "model.fit(X_target_encoded, y_train)"
   ]
  },
  {
   "cell_type": "code",
   "execution_count": 27,
   "id": "6e4c8939-4d94-4842-8f89-e6a28e0c216c",
   "metadata": {},
   "outputs": [],
   "source": [
    "X_test = te.transform(X_test[['X0','X118','X5','X127','noise']])"
   ]
  },
  {
   "cell_type": "code",
   "execution_count": 28,
   "id": "f5914231-2d35-4408-908f-e95535d2d33a",
   "metadata": {},
   "outputs": [],
   "source": [
    "import shap\n",
    "\n",
    "y_predict = model.predict(X_test)\n",
    "explainer = shap.TreeExplainer(model)\n",
    "y_predict = pd.Series(y_predict.reshape(-1))\n",
    "shap_values = explainer(X_test)\n",
    "# shap_values = shap_values.values[:,:,0]\n",
    "expl_dataset = pd.DataFrame(shap_values.values, columns = X_test.columns)\n",
    "expl_dataset = expl_dataset[[c for c\n",
    "        in list(expl_dataset)\n",
    "        if len(expl_dataset[c].unique()) > 1]]"
   ]
  },
  {
   "cell_type": "code",
   "execution_count": 29,
   "id": "5ce347f5-13b5-42aa-980d-6d9ba141e896",
   "metadata": {},
   "outputs": [
    {
     "data": {
      "image/png": "[encoded data removed]",
      "text/plain": [
       "<Figure size 576x252 with 1 Axes>"
      ]
     },
     "metadata": {
      "needs_background": "light"
     },
     "output_type": "display_data"
    }
   ],
   "source": [
    "shap.summary_plot(shap_values, X_train, plot_type=\"bar\")"
   ]
  },
  {
   "cell_type": "code",
   "execution_count": 30,
   "id": "026cc3d5-5518-4e0d-a554-7d4415f69bfe",
   "metadata": {},
   "outputs": [
    {
     "data": {
      "text/html": [
       "<div>\n",
       "<style scoped>\n",
       "    .dataframe tbody tr th:only-of-type {\n",
       "        vertical-align: middle;\n",
       "    }\n",
       "\n",
       "    .dataframe tbody tr th {\n",
       "        vertical-align: top;\n",
       "    }\n",
       "\n",
       "    .dataframe thead th {\n",
       "        text-align: right;\n",
       "    }\n",
       "</style>\n",
       "<table border=\"1\" class=\"dataframe\">\n",
       "  <thead>\n",
       "    <tr style=\"text-align: right;\">\n",
       "      <th></th>\n",
       "      <th>col_name</th>\n",
       "      <th>feature_importance_vals</th>\n",
       "    </tr>\n",
       "  </thead>\n",
       "  <tbody>\n",
       "    <tr>\n",
       "      <th>0</th>\n",
       "      <td>X0</td>\n",
       "      <td>0.054442</td>\n",
       "    </tr>\n",
       "    <tr>\n",
       "      <th>3</th>\n",
       "      <td>X127</td>\n",
       "      <td>0.026102</td>\n",
       "    </tr>\n",
       "    <tr>\n",
       "      <th>1</th>\n",
       "      <td>X118</td>\n",
       "      <td>0.016685</td>\n",
       "    </tr>\n",
       "    <tr>\n",
       "      <th>2</th>\n",
       "      <td>X5</td>\n",
       "      <td>0.008367</td>\n",
       "    </tr>\n",
       "    <tr>\n",
       "      <th>4</th>\n",
       "      <td>noise</td>\n",
       "      <td>0.007410</td>\n",
       "    </tr>\n",
       "  </tbody>\n",
       "</table>\n",
       "</div>"
      ],
      "text/plain": [
       "  col_name  feature_importance_vals\n",
       "0       X0                 0.054442\n",
       "3     X127                 0.026102\n",
       "1     X118                 0.016685\n",
       "2       X5                 0.008367\n",
       "4    noise                 0.007410"
      ]
     },
     "execution_count": 30,
     "metadata": {},
     "output_type": "execute_result"
    }
   ],
   "source": [
    "vals  = np.abs(shap_values.values).mean(0)\n",
    "feature_names = X_train.columns\n",
    "feature_importance = pd.DataFrame(list(zip(feature_names, vals)),\n",
    "                               columns=['col_name','feature_importance_vals'])\n",
    "feature_importance.sort_values(by='feature_importance_vals', ascending=False, inplace=True)\n",
    "feature_importance"
   ]
  },
  {
   "cell_type": "markdown",
   "id": "3185906b-1c63-4321-804f-14c0a20311ef",
   "metadata": {},
   "source": [
    "# Возьмем для обучения только те признаки, значимость которых выше шума"
   ]
  },
  {
   "cell_type": "code",
   "execution_count": null,
   "id": "93426104-17c1-413e-8c60-7e0e57bc4031",
   "metadata": {},
   "outputs": [],
   "source": []
  },
  {
   "cell_type": "code",
   "execution_count": 31,
   "id": "8357fcc5-e73a-4468-a2cf-ba7a0c9aa4ab",
   "metadata": {},
   "outputs": [],
   "source": [
    "sample_subm = pd.read_csv('sample_submission.csv')\n",
    "train = pd.read_csv('train.csv')\n",
    "test = pd.read_csv('test.csv')"
   ]
  },
  {
   "cell_type": "code",
   "execution_count": 32,
   "id": "bb3c0fa1-aed4-48e8-9f75-852904120519",
   "metadata": {},
   "outputs": [],
   "source": [
    "X_train, y_train = train.drop('y',1), train.y \n",
    "X_test = test"
   ]
  },
  {
   "cell_type": "code",
   "execution_count": 33,
   "id": "3077c428-5f26-4ad0-b03b-9fba4468a2f7",
   "metadata": {},
   "outputs": [],
   "source": [
    "# y_train = np.log(y_train)"
   ]
  },
  {
   "cell_type": "code",
   "execution_count": 34,
   "id": "7f31d6c4-9ff8-49a8-9e7b-cf4325399fd7",
   "metadata": {},
   "outputs": [],
   "source": [
    "X_train = X_train[['X0','X118','X5','X127']]\n",
    "X_test = X_test[['X0','X118','X5','X127']]"
   ]
  },
  {
   "cell_type": "code",
   "execution_count": 35,
   "id": "d52bd55f-08f5-4188-9ade-f9a6048e3ab6",
   "metadata": {},
   "outputs": [
    {
     "name": "stdout",
     "output_type": "stream",
     "text": [
      "Cross-validated R2: 0.522 +/- 0.057\n"
     ]
    }
   ],
   "source": [
    "# Regression model\n",
    "model_le = Pipeline([\n",
    "    ('encoder', TargetEncoder()),\n",
    "    ('imputer', SimpleImputer(strategy='most_frequent')),\n",
    "    ('scaler', StandardScaler()),\n",
    "    ('constant_remover', VarianceThreshold(0.0)),\n",
    "    ('regressor', model)\n",
    "])\n",
    "\n",
    "# Cross-validated R2\n",
    "r2_scorer = make_scorer(r2_score)\n",
    "mse_scorer = make_scorer(mean_squared_error)\n",
    "scores = cross_val_score(model_le, X_train, y_train, \n",
    "                         cv=5, scoring=r2_scorer)\n",
    "print('Cross-validated R2: %0.3f +/- %0.3f'\n",
    "      % (scores.mean(), scores.std()))"
   ]
  },
  {
   "cell_type": "markdown",
   "id": "01f68a2c-428e-4d3e-a96d-507136600bda",
   "metadata": {},
   "source": [
    "# Optuna"
   ]
  },
  {
   "cell_type": "code",
   "execution_count": 36,
   "id": "75be43ff-be43-4c3c-82e3-e8664d595b74",
   "metadata": {},
   "outputs": [],
   "source": [
    "X_train = X_train[['X0','X118','X5','X127']]\n",
    "X_test = X_test[['X0','X118','X5','X127']]"
   ]
  },
  {
   "cell_type": "code",
   "execution_count": 37,
   "id": "4d4a3015-562d-454e-87f5-17c4fd414071",
   "metadata": {},
   "outputs": [],
   "source": [
    "import warnings\n",
    "warnings.filterwarnings('ignore')"
   ]
  },
  {
   "cell_type": "code",
   "execution_count": 38,
   "id": "d408c09f-449e-4d1d-988f-0594a165d9bb",
   "metadata": {
    "tags": []
   },
   "outputs": [
    {
     "name": "stdout",
     "output_type": "stream",
     "text": [
      "CPU times: user 8 µs, sys: 0 ns, total: 8 µs\n",
      "Wall time: 16.5 µs\n"
     ]
    }
   ],
   "source": [
    "%%time\n",
    "def objective(trial):\n",
    "    \n",
    "    import warnings\n",
    "    warnings.filterwarnings('ignore')\n",
    "    \n",
    "    # Parameters\n",
    "    params = {\n",
    "        'iterations' : trial.suggest_int('iterations', 100, 2000),                         \n",
    "        'depth' : trial.suggest_int('depth', 6, 10),                                       \n",
    "        'learning_rate' : trial.suggest_loguniform('learning_rate', 0.01, 0.3),               \n",
    "        'random_strength' :trial.suggest_int('random_strength', 0, 100),                       \n",
    "        'bagging_temperature' :trial.suggest_loguniform('bagging_temperature', 0.01, 100.00),\n",
    "        'od_type': trial.suggest_categorical('od_type', ['IncToDec', 'Iter']),\n",
    "        'l2_leaf_reg': trial.suggest_int('l2_leaf_reg', 0, 100),\n",
    "    }\n",
    "    \n",
    "    model = CatBoostRegressor(\n",
    "                         thread_count=60,\n",
    "                         verbose=False, \n",
    "                        early_stopping_rounds=7,\n",
    "                        eval_metric=\"R2\",\n",
    "                        **params)\n",
    "    \n",
    "    model_cross = Pipeline([\n",
    "    ('encoder', TargetEncoder()),\n",
    "    ('imputer', SimpleImputer(strategy='most_frequent')),\n",
    "    ('scaler', StandardScaler()),\n",
    "    ('constant_remover', VarianceThreshold(0.0)),\n",
    "    ('regressor', model)\n",
    "])\n",
    "\n",
    "    # Cross-validated R2\n",
    "    r2_scorer = make_scorer(r2_score)\n",
    "    mse_scorer = make_scorer(mean_squared_error)\n",
    "    scores = cross_val_score(model_cross, X_train, y_train, \n",
    "                             cv=5, scoring=r2_scorer)    \n",
    "    return scores.mean()"
   ]
  },
  {
   "cell_type": "code",
   "execution_count": 39,
   "id": "51196b2b-3ac4-4a35-bac1-c05cfd11e763",
   "metadata": {
    "collapsed": true,
    "jupyter": {
     "outputs_hidden": true
    },
    "tags": []
   },
   "outputs": [
    {
     "name": "stderr",
     "output_type": "stream",
     "text": [
      "\u001b[32m[I 2021-09-22 15:09:11,437]\u001b[0m A new study created in memory with name: no-name-5b3fc0e4-cd2e-4b28-a60b-35679677b248\u001b[0m\n",
      "\u001b[32m[I 2021-09-22 15:09:56,991]\u001b[0m Trial 10 finished with value: 0.5626481908636675 and parameters: {'iterations': 205, 'depth': 6, 'learning_rate': 0.03097513947310748, 'random_strength': 35, 'bagging_temperature': 0.012755806075948672, 'od_type': 'IncToDec', 'l2_leaf_reg': 14}. Best is trial 10 with value: 0.5626481908636675.\u001b[0m\n",
      "\u001b[32m[I 2021-09-22 15:10:02,219]\u001b[0m Trial 7 finished with value: 0.47690161069594217 and parameters: {'iterations': 303, 'depth': 7, 'learning_rate': 0.07483140143301954, 'random_strength': 14, 'bagging_temperature': 0.05062932749715424, 'od_type': 'Iter', 'l2_leaf_reg': 0}. Best is trial 10 with value: 0.5626481908636675.\u001b[0m\n",
      "\u001b[32m[I 2021-09-22 15:10:02,930]\u001b[0m Trial 30 finished with value: 0.5637497369081615 and parameters: {'iterations': 376, 'depth': 7, 'learning_rate': 0.025191402093630556, 'random_strength': 94, 'bagging_temperature': 0.3129719646744834, 'od_type': 'Iter', 'l2_leaf_reg': 69}. Best is trial 30 with value: 0.5637497369081615.\u001b[0m\n",
      "\u001b[32m[I 2021-09-22 15:10:02,933]\u001b[0m Trial 50 finished with value: 0.5613883446791098 and parameters: {'iterations': 307, 'depth': 10, 'learning_rate': 0.014136160494768667, 'random_strength': 84, 'bagging_temperature': 7.991724358582774, 'od_type': 'Iter', 'l2_leaf_reg': 25}. Best is trial 30 with value: 0.5637497369081615.\u001b[0m\n",
      "\u001b[32m[I 2021-09-22 15:10:19,033]\u001b[0m Trial 3 finished with value: 0.5410650402590641 and parameters: {'iterations': 441, 'depth': 6, 'learning_rate': 0.13224403006675886, 'random_strength': 14, 'bagging_temperature': 13.434621978143158, 'od_type': 'IncToDec', 'l2_leaf_reg': 54}. Best is trial 30 with value: 0.5637497369081615.\u001b[0m\n",
      "\u001b[32m[I 2021-09-22 15:10:23,764]\u001b[0m Trial 49 finished with value: 0.5106412614538723 and parameters: {'iterations': 487, 'depth': 7, 'learning_rate': 0.2799662507003799, 'random_strength': 33, 'bagging_temperature': 35.142444449512936, 'od_type': 'IncToDec', 'l2_leaf_reg': 19}. Best is trial 30 with value: 0.5637497369081615.\u001b[0m\n",
      "\u001b[32m[I 2021-09-22 15:10:23,902]\u001b[0m Trial 35 finished with value: 0.5189080739852722 and parameters: {'iterations': 463, 'depth': 8, 'learning_rate': 0.12058041785004585, 'random_strength': 92, 'bagging_temperature': 0.04755571260094922, 'od_type': 'IncToDec', 'l2_leaf_reg': 5}. Best is trial 30 with value: 0.5637497369081615.\u001b[0m\n",
      "\u001b[32m[I 2021-09-22 15:10:25,157]\u001b[0m Trial 63 finished with value: 0.564233063962574 and parameters: {'iterations': 592, 'depth': 7, 'learning_rate': 0.020900756931988184, 'random_strength': 52, 'bagging_temperature': 0.9908959750570865, 'od_type': 'Iter', 'l2_leaf_reg': 89}. Best is trial 63 with value: 0.564233063962574.\u001b[0m\n",
      "\u001b[32m[I 2021-09-22 15:10:25,371]\u001b[0m Trial 14 finished with value: 0.5642046494289022 and parameters: {'iterations': 598, 'depth': 7, 'learning_rate': 0.015516292849129781, 'random_strength': 48, 'bagging_temperature': 1.3774825894531366, 'od_type': 'IncToDec', 'l2_leaf_reg': 52}. Best is trial 63 with value: 0.564233063962574.\u001b[0m\n",
      "\u001b[32m[I 2021-09-22 15:10:25,972]\u001b[0m Trial 42 finished with value: 0.518575337840284 and parameters: {'iterations': 641, 'depth': 7, 'learning_rate': 0.04122089421977937, 'random_strength': 7, 'bagging_temperature': 0.20676702730081145, 'od_type': 'Iter', 'l2_leaf_reg': 13}. Best is trial 63 with value: 0.564233063962574.\u001b[0m\n",
      "\u001b[32m[I 2021-09-22 15:10:34,015]\u001b[0m Trial 29 finished with value: 0.5442446156789719 and parameters: {'iterations': 452, 'depth': 10, 'learning_rate': 0.1450113505345183, 'random_strength': 36, 'bagging_temperature': 10.424026159300702, 'od_type': 'IncToDec', 'l2_leaf_reg': 45}. Best is trial 63 with value: 0.564233063962574.\u001b[0m\n",
      "\u001b[32m[I 2021-09-22 15:10:34,030]\u001b[0m Trial 66 finished with value: 0.5640797710485285 and parameters: {'iterations': 179, 'depth': 10, 'learning_rate': 0.06142843120059752, 'random_strength': 80, 'bagging_temperature': 0.05268283544878642, 'od_type': 'Iter', 'l2_leaf_reg': 39}. Best is trial 63 with value: 0.564233063962574.\u001b[0m\n",
      "\u001b[32m[I 2021-09-22 15:10:34,275]\u001b[0m Trial 65 finished with value: 0.5482465288736688 and parameters: {'iterations': 201, 'depth': 8, 'learning_rate': 0.23267394379931286, 'random_strength': 29, 'bagging_temperature': 7.270090137696527, 'od_type': 'Iter', 'l2_leaf_reg': 56}. Best is trial 63 with value: 0.564233063962574.\u001b[0m\n",
      "\u001b[32m[I 2021-09-22 15:10:37,122]\u001b[0m Trial 31 finished with value: 0.5590514693529296 and parameters: {'iterations': 641, 'depth': 8, 'learning_rate': 0.058336995680896515, 'random_strength': 96, 'bagging_temperature': 2.4503385613624347, 'od_type': 'IncToDec', 'l2_leaf_reg': 78}. Best is trial 63 with value: 0.564233063962574.\u001b[0m\n",
      "\u001b[32m[I 2021-09-22 15:10:38,440]\u001b[0m Trial 56 finished with value: 0.56371971962624 and parameters: {'iterations': 597, 'depth': 9, 'learning_rate': 0.01680333983381297, 'random_strength': 35, 'bagging_temperature': 3.1619804644095924, 'od_type': 'Iter', 'l2_leaf_reg': 75}. Best is trial 63 with value: 0.564233063962574.\u001b[0m\n",
      "\u001b[32m[I 2021-09-22 15:10:38,638]\u001b[0m Trial 4 finished with value: 0.5624722809463705 and parameters: {'iterations': 676, 'depth': 7, 'learning_rate': 0.038232497179577454, 'random_strength': 18, 'bagging_temperature': 0.12938041812203338, 'od_type': 'Iter', 'l2_leaf_reg': 44}. Best is trial 63 with value: 0.564233063962574.\u001b[0m\n",
      "\u001b[32m[I 2021-09-22 15:10:40,150]\u001b[0m Trial 60 finished with value: 0.5142755825550396 and parameters: {'iterations': 688, 'depth': 6, 'learning_rate': 0.04346100932033484, 'random_strength': 56, 'bagging_temperature': 0.2425950103350945, 'od_type': 'Iter', 'l2_leaf_reg': 3}. Best is trial 63 with value: 0.564233063962574.\u001b[0m\n",
      "\u001b[32m[I 2021-09-22 15:10:40,833]\u001b[0m Trial 46 finished with value: 0.5179148275882015 and parameters: {'iterations': 659, 'depth': 7, 'learning_rate': 0.24290108785192296, 'random_strength': 92, 'bagging_temperature': 0.01660444111196804, 'od_type': 'IncToDec', 'l2_leaf_reg': 43}. Best is trial 63 with value: 0.564233063962574.\u001b[0m\n",
      "\u001b[32m[I 2021-09-22 15:10:40,903]\u001b[0m Trial 16 finished with value: 0.5617706016848285 and parameters: {'iterations': 682, 'depth': 10, 'learning_rate': 0.034633234539109825, 'random_strength': 69, 'bagging_temperature': 0.02480183619194225, 'od_type': 'Iter', 'l2_leaf_reg': 68}. Best is trial 63 with value: 0.564233063962574.\u001b[0m\n",
      "\u001b[32m[I 2021-09-22 15:10:44,198]\u001b[0m Trial 54 finished with value: 0.5533995311226696 and parameters: {'iterations': 1003, 'depth': 6, 'learning_rate': 0.05013789341539944, 'random_strength': 53, 'bagging_temperature': 2.1068379523848573, 'od_type': 'IncToDec', 'l2_leaf_reg': 68}. Best is trial 63 with value: 0.564233063962574.\u001b[0m\n",
      "\u001b[32m[I 2021-09-22 15:10:55,141]\u001b[0m Trial 17 finished with value: 0.5192245330852746 and parameters: {'iterations': 792, 'depth': 7, 'learning_rate': 0.08430880327498637, 'random_strength': 1, 'bagging_temperature': 0.0833824041048819, 'od_type': 'IncToDec', 'l2_leaf_reg': 49}. Best is trial 63 with value: 0.564233063962574.\u001b[0m\n",
      "\u001b[32m[I 2021-09-22 15:10:57,658]\u001b[0m Trial 23 finished with value: 0.535769921172213 and parameters: {'iterations': 673, 'depth': 9, 'learning_rate': 0.10674607322643362, 'random_strength': 89, 'bagging_temperature': 19.79984136572337, 'od_type': 'IncToDec', 'l2_leaf_reg': 53}. Best is trial 63 with value: 0.564233063962574.\u001b[0m\n",
      "\u001b[32m[I 2021-09-22 15:11:02,182]\u001b[0m Trial 70 finished with value: 0.5640813064390331 and parameters: {'iterations': 416, 'depth': 7, 'learning_rate': 0.026201727605092137, 'random_strength': 33, 'bagging_temperature': 0.20200152096589438, 'od_type': 'Iter', 'l2_leaf_reg': 83}. Best is trial 63 with value: 0.564233063962574.\u001b[0m\n",
      "\u001b[32m[I 2021-09-22 15:11:06,238]\u001b[0m Trial 5 finished with value: 0.5638625709676203 and parameters: {'iterations': 926, 'depth': 9, 'learning_rate': 0.02061518170246741, 'random_strength': 52, 'bagging_temperature': 5.992654186703117, 'od_type': 'Iter', 'l2_leaf_reg': 80}. Best is trial 63 with value: 0.564233063962574.\u001b[0m\n",
      "\u001b[32m[I 2021-09-22 15:11:06,443]\u001b[0m Trial 43 finished with value: 0.5632426516572081 and parameters: {'iterations': 870, 'depth': 8, 'learning_rate': 0.018892066225010416, 'random_strength': 86, 'bagging_temperature': 13.265926826684526, 'od_type': 'Iter', 'l2_leaf_reg': 100}. Best is trial 63 with value: 0.564233063962574.\u001b[0m\n",
      "\u001b[32m[I 2021-09-22 15:11:06,474]\u001b[0m Trial 36 finished with value: 0.5643643370226622 and parameters: {'iterations': 870, 'depth': 7, 'learning_rate': 0.012036452086661785, 'random_strength': 24, 'bagging_temperature': 0.019274004786952133, 'od_type': 'IncToDec', 'l2_leaf_reg': 18}. Best is trial 36 with value: 0.5643643370226622.\u001b[0m\n",
      "\u001b[32m[I 2021-09-22 15:11:06,670]\u001b[0m Trial 58 finished with value: 0.5618522452213387 and parameters: {'iterations': 970, 'depth': 7, 'learning_rate': 0.024675385095522986, 'random_strength': 49, 'bagging_temperature': 0.3241687408583432, 'od_type': 'IncToDec', 'l2_leaf_reg': 41}. Best is trial 36 with value: 0.5643643370226622.\u001b[0m\n",
      "\u001b[32m[I 2021-09-22 15:11:06,692]\u001b[0m Trial 13 finished with value: 0.548888614010068 and parameters: {'iterations': 917, 'depth': 8, 'learning_rate': 0.07094727623690249, 'random_strength': 80, 'bagging_temperature': 0.013500145186637467, 'od_type': 'Iter', 'l2_leaf_reg': 81}. Best is trial 36 with value: 0.5643643370226622.\u001b[0m\n",
      "\u001b[32m[I 2021-09-22 15:11:07,050]\u001b[0m Trial 45 finished with value: 0.532865927778813 and parameters: {'iterations': 866, 'depth': 7, 'learning_rate': 0.01905156297631542, 'random_strength': 8, 'bagging_temperature': 18.16526142300455, 'od_type': 'IncToDec', 'l2_leaf_reg': 6}. Best is trial 36 with value: 0.5643643370226622.\u001b[0m\n",
      "\u001b[32m[I 2021-09-22 15:11:07,174]\u001b[0m Trial 28 finished with value: 0.5601500888849544 and parameters: {'iterations': 1162, 'depth': 6, 'learning_rate': 0.022803919572382488, 'random_strength': 41, 'bagging_temperature': 18.312285455063876, 'od_type': 'Iter', 'l2_leaf_reg': 54}. Best is trial 36 with value: 0.5643643370226622.\u001b[0m\n",
      "\u001b[32m[I 2021-09-22 15:11:07,179]\u001b[0m Trial 51 finished with value: 0.520877393507747 and parameters: {'iterations': 1010, 'depth': 6, 'learning_rate': 0.20866456630268898, 'random_strength': 78, 'bagging_temperature': 1.315700645199354, 'od_type': 'IncToDec', 'l2_leaf_reg': 80}. Best is trial 36 with value: 0.5643643370226622.\u001b[0m\n",
      "\u001b[32m[I 2021-09-22 15:11:08,202]\u001b[0m Trial 67 finished with value: 0.5304221190979481 and parameters: {'iterations': 567, 'depth': 6, 'learning_rate': 0.17875362697080205, 'random_strength': 58, 'bagging_temperature': 1.6817739844388573, 'od_type': 'IncToDec', 'l2_leaf_reg': 67}. Best is trial 36 with value: 0.5643643370226622.\u001b[0m\n",
      "\u001b[32m[I 2021-09-22 15:11:08,274]\u001b[0m Trial 40 finished with value: 0.5474448541648325 and parameters: {'iterations': 965, 'depth': 8, 'learning_rate': 0.06697497535621796, 'random_strength': 100, 'bagging_temperature': 0.032612863732091206, 'od_type': 'Iter', 'l2_leaf_reg': 56}. Best is trial 36 with value: 0.5643643370226622.\u001b[0m\n",
      "\u001b[32m[I 2021-09-22 15:11:08,605]\u001b[0m Trial 11 finished with value: 0.5495329401074626 and parameters: {'iterations': 776, 'depth': 10, 'learning_rate': 0.055361953611247405, 'random_strength': 48, 'bagging_temperature': 67.3248949230458, 'od_type': 'IncToDec', 'l2_leaf_reg': 32}. Best is trial 36 with value: 0.5643643370226622.\u001b[0m\n",
      "\u001b[32m[I 2021-09-22 15:11:09,423]\u001b[0m Trial 62 finished with value: 0.5546950853242983 and parameters: {'iterations': 992, 'depth': 9, 'learning_rate': 0.04991608717296027, 'random_strength': 95, 'bagging_temperature': 49.690950544402924, 'od_type': 'Iter', 'l2_leaf_reg': 67}. Best is trial 36 with value: 0.5643643370226622.\u001b[0m\n",
      "\u001b[32m[I 2021-09-22 15:11:09,756]\u001b[0m Trial 61 finished with value: 0.5642229344857137 and parameters: {'iterations': 1090, 'depth': 8, 'learning_rate': 0.013179398386206846, 'random_strength': 99, 'bagging_temperature': 0.05604926633912037, 'od_type': 'IncToDec', 'l2_leaf_reg': 32}. Best is trial 36 with value: 0.5643643370226622.\u001b[0m\n",
      "\u001b[32m[I 2021-09-22 15:11:09,757]\u001b[0m Trial 0 finished with value: 0.5646229314598946 and parameters: {'iterations': 964, 'depth': 9, 'learning_rate': 0.012608315388862645, 'random_strength': 71, 'bagging_temperature': 1.2178081224877062, 'od_type': 'Iter', 'l2_leaf_reg': 40}. Best is trial 0 with value: 0.5646229314598946.\u001b[0m\n",
      "\u001b[32m[I 2021-09-22 15:11:09,811]\u001b[0m Trial 52 finished with value: 0.5462765674525023 and parameters: {'iterations': 1361, 'depth': 6, 'learning_rate': 0.013884983447180949, 'random_strength': 75, 'bagging_temperature': 0.47221473934301594, 'od_type': 'Iter', 'l2_leaf_reg': 10}. Best is trial 0 with value: 0.5646229314598946.\u001b[0m\n",
      "\u001b[32m[I 2021-09-22 15:11:09,916]\u001b[0m Trial 2 finished with value: 0.5635701209847104 and parameters: {'iterations': 1218, 'depth': 6, 'learning_rate': 0.010359884717499206, 'random_strength': 16, 'bagging_temperature': 0.09507883918667266, 'od_type': 'Iter', 'l2_leaf_reg': 13}. Best is trial 0 with value: 0.5646229314598946.\u001b[0m\n",
      "\u001b[32m[I 2021-09-22 15:11:10,035]\u001b[0m Trial 9 finished with value: 0.5637291864504262 and parameters: {'iterations': 1030, 'depth': 8, 'learning_rate': 0.013950436646284954, 'random_strength': 94, 'bagging_temperature': 4.109590988481615, 'od_type': 'IncToDec', 'l2_leaf_reg': 75}. Best is trial 0 with value: 0.5646229314598946.\u001b[0m\n",
      "\u001b[32m[I 2021-09-22 15:11:10,255]\u001b[0m Trial 21 finished with value: 0.5185991951401071 and parameters: {'iterations': 814, 'depth': 9, 'learning_rate': 0.24952943057364413, 'random_strength': 40, 'bagging_temperature': 1.1448164983735654, 'od_type': 'Iter', 'l2_leaf_reg': 62}. Best is trial 0 with value: 0.5646229314598946.\u001b[0m\n",
      "\u001b[32m[I 2021-09-22 15:11:10,371]\u001b[0m Trial 59 finished with value: 0.4645270169175835 and parameters: {'iterations': 1118, 'depth': 6, 'learning_rate': 0.15336143712812447, 'random_strength': 43, 'bagging_temperature': 66.83623338205139, 'od_type': 'IncToDec', 'l2_leaf_reg': 25}. Best is trial 0 with value: 0.5646229314598946.\u001b[0m\n",
      "\u001b[32m[I 2021-09-22 15:11:10,402]\u001b[0m Trial 6 finished with value: 0.5331891181236652 and parameters: {'iterations': 1296, 'depth': 8, 'learning_rate': 0.08006098467574614, 'random_strength': 88, 'bagging_temperature': 1.230514530658223, 'od_type': 'Iter', 'l2_leaf_reg': 57}. Best is trial 0 with value: 0.5646229314598946.\u001b[0m\n",
      "\u001b[32m[I 2021-09-22 15:11:10,426]\u001b[0m Trial 20 finished with value: 0.5468027751407919 and parameters: {'iterations': 1501, 'depth': 6, 'learning_rate': 0.056549293964731094, 'random_strength': 33, 'bagging_temperature': 0.14607575217818208, 'od_type': 'Iter', 'l2_leaf_reg': 97}. Best is trial 0 with value: 0.5646229314598946.\u001b[0m\n",
      "\u001b[32m[I 2021-09-22 15:11:10,674]\u001b[0m Trial 1 finished with value: 0.531461566580988 and parameters: {'iterations': 879, 'depth': 9, 'learning_rate': 0.18327197095815703, 'random_strength': 80, 'bagging_temperature': 65.30897772039967, 'od_type': 'IncToDec', 'l2_leaf_reg': 97}. Best is trial 0 with value: 0.5646229314598946.\u001b[0m\n",
      "\u001b[32m[I 2021-09-22 15:11:10,699]\u001b[0m Trial 57 finished with value: 0.5481386091658883 and parameters: {'iterations': 1033, 'depth': 10, 'learning_rate': 0.0958101620126053, 'random_strength': 80, 'bagging_temperature': 0.019544207803410797, 'od_type': 'IncToDec', 'l2_leaf_reg': 100}. Best is trial 0 with value: 0.5646229314598946.\u001b[0m\n",
      "\u001b[32m[I 2021-09-22 15:11:11,046]\u001b[0m Trial 38 finished with value: 0.5264214006854762 and parameters: {'iterations': 1003, 'depth': 9, 'learning_rate': 0.19544866663262253, 'random_strength': 82, 'bagging_temperature': 0.35258845005257633, 'od_type': 'IncToDec', 'l2_leaf_reg': 94}. Best is trial 0 with value: 0.5646229314598946.\u001b[0m\n",
      "\u001b[32m[I 2021-09-22 15:11:11,241]\u001b[0m Trial 18 finished with value: 0.4902076993386584 and parameters: {'iterations': 722, 'depth': 9, 'learning_rate': 0.1712695646968423, 'random_strength': 46, 'bagging_temperature': 0.013929061111591536, 'od_type': 'Iter', 'l2_leaf_reg': 2}. Best is trial 0 with value: 0.5646229314598946.\u001b[0m\n",
      "\u001b[32m[I 2021-09-22 15:11:58,855]\u001b[0m Trial 39 finished with value: 0.515161374553444 and parameters: {'iterations': 1186, 'depth': 8, 'learning_rate': 0.08242528347273446, 'random_strength': 41, 'bagging_temperature': 72.55359580512737, 'od_type': 'IncToDec', 'l2_leaf_reg': 37}. Best is trial 0 with value: 0.5646229314598946.\u001b[0m\n",
      "\u001b[32m[I 2021-09-22 15:11:58,860]\u001b[0m Trial 72 finished with value: 0.5620750431235776 and parameters: {'iterations': 794, 'depth': 8, 'learning_rate': 0.028892320171032392, 'random_strength': 8, 'bagging_temperature': 0.1496056926086264, 'od_type': 'IncToDec', 'l2_leaf_reg': 61}. Best is trial 0 with value: 0.5646229314598946.\u001b[0m\n",
      "\u001b[32m[I 2021-09-22 15:11:58,966]\u001b[0m Trial 53 finished with value: 0.558519585178748 and parameters: {'iterations': 1543, 'depth': 8, 'learning_rate': 0.02701059513854853, 'random_strength': 20, 'bagging_temperature': 0.9587997043026892, 'od_type': 'IncToDec', 'l2_leaf_reg': 87}. Best is trial 0 with value: 0.5646229314598946.\u001b[0m\n",
      "\u001b[32m[I 2021-09-22 15:11:59,195]\u001b[0m Trial 26 finished with value: 0.5115463107660358 and parameters: {'iterations': 1595, 'depth': 6, 'learning_rate': 0.02396393615741278, 'random_strength': 100, 'bagging_temperature': 0.6942571136163527, 'od_type': 'Iter', 'l2_leaf_reg': 19}. Best is trial 0 with value: 0.5646229314598946.\u001b[0m\n",
      "\u001b[32m[I 2021-09-22 15:11:59,296]\u001b[0m Trial 48 finished with value: 0.544807115237951 and parameters: {'iterations': 1916, 'depth': 7, 'learning_rate': 0.046479731229782335, 'random_strength': 39, 'bagging_temperature': 0.027364625806207507, 'od_type': 'IncToDec', 'l2_leaf_reg': 69}. Best is trial 0 with value: 0.5646229314598946.\u001b[0m\n",
      "\u001b[32m[I 2021-09-22 15:11:59,383]\u001b[0m Trial 55 finished with value: 0.541858377734296 and parameters: {'iterations': 1606, 'depth': 7, 'learning_rate': 0.06541000981864607, 'random_strength': 100, 'bagging_temperature': 49.015658074898575, 'od_type': 'IncToDec', 'l2_leaf_reg': 71}. Best is trial 0 with value: 0.5646229314598946.\u001b[0m\n",
      "\u001b[32m[I 2021-09-22 15:11:59,507]\u001b[0m Trial 37 finished with value: 0.5599364776615744 and parameters: {'iterations': 1799, 'depth': 7, 'learning_rate': 0.01901572221472763, 'random_strength': 90, 'bagging_temperature': 12.936315583572915, 'od_type': 'IncToDec', 'l2_leaf_reg': 64}. Best is trial 0 with value: 0.5646229314598946.\u001b[0m\n",
      "\u001b[32m[I 2021-09-22 15:11:59,708]\u001b[0m Trial 22 finished with value: 0.47767661548331003 and parameters: {'iterations': 1532, 'depth': 8, 'learning_rate': 0.10453797902680284, 'random_strength': 42, 'bagging_temperature': 0.041252182987277855, 'od_type': 'IncToDec', 'l2_leaf_reg': 10}. Best is trial 0 with value: 0.5646229314598946.\u001b[0m\n",
      "\u001b[32m[I 2021-09-22 15:11:59,722]\u001b[0m Trial 8 finished with value: 0.5598082091476881 and parameters: {'iterations': 1923, 'depth': 9, 'learning_rate': 0.011488056469174645, 'random_strength': 25, 'bagging_temperature': 2.1101288927323245, 'od_type': 'IncToDec', 'l2_leaf_reg': 22}. Best is trial 0 with value: 0.5646229314598946.\u001b[0m\n",
      "\u001b[32m[I 2021-09-22 15:11:59,820]\u001b[0m Trial 27 finished with value: 0.5595157866426225 and parameters: {'iterations': 1924, 'depth': 9, 'learning_rate': 0.015381588381581858, 'random_strength': 82, 'bagging_temperature': 47.255070136893416, 'od_type': 'IncToDec', 'l2_leaf_reg': 46}. Best is trial 0 with value: 0.5646229314598946.\u001b[0m\n",
      "\u001b[32m[I 2021-09-22 15:11:59,882]\u001b[0m Trial 25 finished with value: 0.5107981170458651 and parameters: {'iterations': 1654, 'depth': 7, 'learning_rate': 0.06162852635607101, 'random_strength': 9, 'bagging_temperature': 18.262922308954995, 'od_type': 'IncToDec', 'l2_leaf_reg': 46}. Best is trial 0 with value: 0.5646229314598946.\u001b[0m\n",
      "\u001b[32m[I 2021-09-22 15:11:59,900]\u001b[0m Trial 12 finished with value: 0.5118211470112668 and parameters: {'iterations': 1912, 'depth': 7, 'learning_rate': 0.2766826623329637, 'random_strength': 67, 'bagging_temperature': 3.9599678588692866, 'od_type': 'Iter', 'l2_leaf_reg': 82}. Best is trial 0 with value: 0.5646229314598946.\u001b[0m\n",
      "\u001b[32m[I 2021-09-22 15:12:00,026]\u001b[0m Trial 24 finished with value: 0.5165822825820182 and parameters: {'iterations': 1476, 'depth': 8, 'learning_rate': 0.025018479950260443, 'random_strength': 4, 'bagging_temperature': 0.4337562650838876, 'od_type': 'IncToDec', 'l2_leaf_reg': 7}. Best is trial 0 with value: 0.5646229314598946.\u001b[0m\n",
      "\u001b[32m[I 2021-09-22 15:12:00,031]\u001b[0m Trial 15 finished with value: 0.5399356676965759 and parameters: {'iterations': 1641, 'depth': 8, 'learning_rate': 0.07492370718975401, 'random_strength': 100, 'bagging_temperature': 3.1604017775139464, 'od_type': 'IncToDec', 'l2_leaf_reg': 78}. Best is trial 0 with value: 0.5646229314598946.\u001b[0m\n",
      "\u001b[32m[I 2021-09-22 15:12:00,043]\u001b[0m Trial 19 finished with value: 0.5426487263503491 and parameters: {'iterations': 1544, 'depth': 8, 'learning_rate': 0.05032448562840914, 'random_strength': 71, 'bagging_temperature': 43.23207999832391, 'od_type': 'IncToDec', 'l2_leaf_reg': 68}. Best is trial 0 with value: 0.5646229314598946.\u001b[0m\n",
      "\u001b[32m[I 2021-09-22 15:12:00,106]\u001b[0m Trial 47 finished with value: 0.515684917426009 and parameters: {'iterations': 1962, 'depth': 8, 'learning_rate': 0.14168796996759878, 'random_strength': 92, 'bagging_temperature': 0.6042737798300712, 'od_type': 'Iter', 'l2_leaf_reg': 74}. Best is trial 0 with value: 0.5646229314598946.\u001b[0m\n",
      "\u001b[32m[I 2021-09-22 15:12:00,187]\u001b[0m Trial 44 finished with value: 0.5343722840899773 and parameters: {'iterations': 1659, 'depth': 8, 'learning_rate': 0.07391922492111293, 'random_strength': 76, 'bagging_temperature': 1.3041626976138234, 'od_type': 'IncToDec', 'l2_leaf_reg': 72}. Best is trial 0 with value: 0.5646229314598946.\u001b[0m\n",
      "\u001b[32m[I 2021-09-22 15:12:00,220]\u001b[0m Trial 41 finished with value: 0.5214715575943007 and parameters: {'iterations': 1406, 'depth': 9, 'learning_rate': 0.16198503859169602, 'random_strength': 31, 'bagging_temperature': 17.820236166221644, 'od_type': 'IncToDec', 'l2_leaf_reg': 87}. Best is trial 0 with value: 0.5646229314598946.\u001b[0m\n",
      "\u001b[32m[I 2021-09-22 15:12:00,390]\u001b[0m Trial 32 finished with value: 0.5007014833469624 and parameters: {'iterations': 1595, 'depth': 10, 'learning_rate': 0.25340856236787224, 'random_strength': 58, 'bagging_temperature': 0.2775003091630438, 'od_type': 'Iter', 'l2_leaf_reg': 16}. Best is trial 0 with value: 0.5646229314598946.\u001b[0m\n",
      "\u001b[32m[I 2021-09-22 15:12:00,429]\u001b[0m Trial 34 finished with value: 0.4841563741560203 and parameters: {'iterations': 1383, 'depth': 10, 'learning_rate': 0.25718450719861224, 'random_strength': 25, 'bagging_temperature': 64.99455911775283, 'od_type': 'Iter', 'l2_leaf_reg': 16}. Best is trial 0 with value: 0.5646229314598946.\u001b[0m\n",
      "\u001b[32m[I 2021-09-22 15:12:20,725]\u001b[0m Trial 78 finished with value: 0.5633655828223173 and parameters: {'iterations': 1159, 'depth': 6, 'learning_rate': 0.010586025540237323, 'random_strength': 62, 'bagging_temperature': 0.6381321263957519, 'od_type': 'IncToDec', 'l2_leaf_reg': 99}. Best is trial 0 with value: 0.5646229314598946.\u001b[0m\n",
      "\u001b[32m[I 2021-09-22 15:12:20,927]\u001b[0m Trial 75 finished with value: 0.5641420985795769 and parameters: {'iterations': 1084, 'depth': 8, 'learning_rate': 0.010301945562399025, 'random_strength': 63, 'bagging_temperature': 1.4959824381230826, 'od_type': 'Iter', 'l2_leaf_reg': 95}. Best is trial 0 with value: 0.5646229314598946.\u001b[0m\n",
      "\u001b[32m[I 2021-09-22 15:12:21,174]\u001b[0m Trial 71 finished with value: 0.47084281936165684 and parameters: {'iterations': 969, 'depth': 7, 'learning_rate': 0.190810007235013, 'random_strength': 92, 'bagging_temperature': 1.34892000760986, 'od_type': 'IncToDec', 'l2_leaf_reg': 16}. Best is trial 0 with value: 0.5646229314598946.\u001b[0m\n",
      "\u001b[32m[I 2021-09-22 15:12:21,299]\u001b[0m Trial 79 finished with value: 0.5633184547204716 and parameters: {'iterations': 1201, 'depth': 6, 'learning_rate': 0.0101060208699537, 'random_strength': 66, 'bagging_temperature': 0.7351166718002133, 'od_type': 'IncToDec', 'l2_leaf_reg': 100}. Best is trial 0 with value: 0.5646229314598946.\u001b[0m\n",
      "\u001b[32m[I 2021-09-22 15:12:21,316]\u001b[0m Trial 74 finished with value: 0.5640440468207337 and parameters: {'iterations': 1085, 'depth': 8, 'learning_rate': 0.011115474109813287, 'random_strength': 59, 'bagging_temperature': 1.652254267385209, 'od_type': 'Iter', 'l2_leaf_reg': 98}. Best is trial 0 with value: 0.5646229314598946.\u001b[0m\n",
      "\u001b[32m[I 2021-09-22 15:12:21,518]\u001b[0m Trial 77 finished with value: 0.5641398332169061 and parameters: {'iterations': 1170, 'depth': 9, 'learning_rate': 0.010818768697567153, 'random_strength': 60, 'bagging_temperature': 1.0717887274149684, 'od_type': 'Iter', 'l2_leaf_reg': 99}. Best is trial 0 with value: 0.5646229314598946.\u001b[0m\n",
      "\u001b[32m[I 2021-09-22 15:12:21,896]\u001b[0m Trial 76 finished with value: 0.5640518008363373 and parameters: {'iterations': 1192, 'depth': 9, 'learning_rate': 0.010265785083498777, 'random_strength': 67, 'bagging_temperature': 0.7718320564533435, 'od_type': 'IncToDec', 'l2_leaf_reg': 100}. Best is trial 0 with value: 0.5646229314598946.\u001b[0m\n",
      "\u001b[32m[I 2021-09-22 15:12:22,802]\u001b[0m Trial 64 finished with value: 0.5629775352224291 and parameters: {'iterations': 1763, 'depth': 10, 'learning_rate': 0.012041313769732637, 'random_strength': 46, 'bagging_temperature': 0.021604745306171985, 'od_type': 'IncToDec', 'l2_leaf_reg': 39}. Best is trial 0 with value: 0.5646229314598946.\u001b[0m\n",
      "\u001b[32m[I 2021-09-22 15:12:30,011]\u001b[0m Trial 33 finished with value: 0.513440615585853 and parameters: {'iterations': 1897, 'depth': 10, 'learning_rate': 0.2054278208837277, 'random_strength': 74, 'bagging_temperature': 3.0812006033915584, 'od_type': 'IncToDec', 'l2_leaf_reg': 54}. Best is trial 0 with value: 0.5646229314598946.\u001b[0m\n",
      "\u001b[32m[I 2021-09-22 15:12:31,773]\u001b[0m Trial 81 finished with value: 0.5642470821519439 and parameters: {'iterations': 1173, 'depth': 9, 'learning_rate': 0.010559722596908452, 'random_strength': 52, 'bagging_temperature': 0.8296946726904211, 'od_type': 'IncToDec', 'l2_leaf_reg': 95}. Best is trial 0 with value: 0.5646229314598946.\u001b[0m\n",
      "\u001b[32m[I 2021-09-22 15:12:32,058]\u001b[0m Trial 73 finished with value: 0.5642468245371945 and parameters: {'iterations': 1496, 'depth': 10, 'learning_rate': 0.01041546736022006, 'random_strength': 67, 'bagging_temperature': 2.2245812879295626, 'od_type': 'Iter', 'l2_leaf_reg': 99}. Best is trial 0 with value: 0.5646229314598946.\u001b[0m\n",
      "\u001b[32m[I 2021-09-22 15:12:32,130]\u001b[0m Trial 82 finished with value: 0.564198778055634 and parameters: {'iterations': 1248, 'depth': 9, 'learning_rate': 0.011033482991463523, 'random_strength': 54, 'bagging_temperature': 0.8726083917627083, 'od_type': 'IncToDec', 'l2_leaf_reg': 100}. Best is trial 0 with value: 0.5646229314598946.\u001b[0m\n",
      "\u001b[32m[I 2021-09-22 15:12:32,433]\u001b[0m Trial 80 finished with value: 0.564349057830643 and parameters: {'iterations': 1224, 'depth': 9, 'learning_rate': 0.010394353488210911, 'random_strength': 60, 'bagging_temperature': 0.8612990089637226, 'od_type': 'IncToDec', 'l2_leaf_reg': 94}. Best is trial 0 with value: 0.5646229314598946.\u001b[0m\n",
      "\u001b[32m[I 2021-09-22 15:12:33,638]\u001b[0m Trial 88 finished with value: 0.56353006091699 and parameters: {'iterations': 1270, 'depth': 6, 'learning_rate': 0.01247349729964808, 'random_strength': 25, 'bagging_temperature': 0.5279551369682414, 'od_type': 'IncToDec', 'l2_leaf_reg': 34}. Best is trial 0 with value: 0.5646229314598946.\u001b[0m\n",
      "\u001b[32m[I 2021-09-22 15:12:33,639]\u001b[0m Trial 87 finished with value: 0.5639089753671526 and parameters: {'iterations': 1225, 'depth': 6, 'learning_rate': 0.010699081993823663, 'random_strength': 22, 'bagging_temperature': 0.5731409448127531, 'od_type': 'IncToDec', 'l2_leaf_reg': 36}. Best is trial 0 with value: 0.5646229314598946.\u001b[0m\n",
      "\u001b[32m[I 2021-09-22 15:12:36,824]\u001b[0m Trial 89 finished with value: 0.563663640345748 and parameters: {'iterations': 1344, 'depth': 6, 'learning_rate': 0.010750107945930839, 'random_strength': 24, 'bagging_temperature': 0.7090619988156629, 'od_type': 'IncToDec', 'l2_leaf_reg': 34}. Best is trial 0 with value: 0.5646229314598946.\u001b[0m\n",
      "\u001b[32m[I 2021-09-22 15:12:38,796]\u001b[0m Trial 86 finished with value: 0.5610422104041318 and parameters: {'iterations': 1655, 'depth': 8, 'learning_rate': 0.01824249820709645, 'random_strength': 63, 'bagging_temperature': 0.6656704602753777, 'od_type': 'Iter', 'l2_leaf_reg': 99}. Best is trial 0 with value: 0.5646229314598946.\u001b[0m\n",
      "\u001b[32m[I 2021-09-22 15:12:39,304]\u001b[0m Trial 85 finished with value: 0.5636522983025113 and parameters: {'iterations': 1573, 'depth': 9, 'learning_rate': 0.010935994655129018, 'random_strength': 67, 'bagging_temperature': 0.6865699102398772, 'od_type': 'Iter', 'l2_leaf_reg': 100}. Best is trial 0 with value: 0.5646229314598946.\u001b[0m\n",
      "\u001b[32m[I 2021-09-22 15:12:40,096]\u001b[0m Trial 83 finished with value: 0.5630421999068506 and parameters: {'iterations': 1836, 'depth': 9, 'learning_rate': 0.011602520109159626, 'random_strength': 64, 'bagging_temperature': 0.6895532819718423, 'od_type': 'IncToDec', 'l2_leaf_reg': 99}. Best is trial 0 with value: 0.5646229314598946.\u001b[0m\n",
      "\u001b[32m[I 2021-09-22 15:12:40,103]\u001b[0m Trial 84 finished with value: 0.5635470659714025 and parameters: {'iterations': 1624, 'depth': 9, 'learning_rate': 0.011274623329028262, 'random_strength': 64, 'bagging_temperature': 0.628212018643125, 'od_type': 'Iter', 'l2_leaf_reg': 100}. Best is trial 0 with value: 0.5646229314598946.\u001b[0m\n",
      "\u001b[32m[I 2021-09-22 15:12:40,742]\u001b[0m Trial 90 finished with value: 0.5635812170838644 and parameters: {'iterations': 1451, 'depth': 6, 'learning_rate': 0.011104864215159467, 'random_strength': 66, 'bagging_temperature': 0.8414708098541067, 'od_type': 'IncToDec', 'l2_leaf_reg': 33}. Best is trial 0 with value: 0.5646229314598946.\u001b[0m\n",
      "\u001b[32m[I 2021-09-22 15:12:40,823]\u001b[0m Trial 91 finished with value: 0.5643560547057234 and parameters: {'iterations': 1209, 'depth': 8, 'learning_rate': 0.010262986033125136, 'random_strength': 62, 'bagging_temperature': 0.7095291269803211, 'od_type': 'IncToDec', 'l2_leaf_reg': 33}. Best is trial 0 with value: 0.5646229314598946.\u001b[0m\n",
      "\u001b[32m[I 2021-09-22 15:12:41,613]\u001b[0m Trial 92 finished with value: 0.5640447317892251 and parameters: {'iterations': 1548, 'depth': 7, 'learning_rate': 0.010375018404131235, 'random_strength': 64, 'bagging_temperature': 0.5508379046908489, 'od_type': 'IncToDec', 'l2_leaf_reg': 34}. Best is trial 0 with value: 0.5646229314598946.\u001b[0m\n",
      "\u001b[32m[I 2021-09-22 15:12:42,240]\u001b[0m Trial 93 finished with value: 0.564399658107255 and parameters: {'iterations': 1506, 'depth': 9, 'learning_rate': 0.01022730542133106, 'random_strength': 65, 'bagging_temperature': 0.6933226801223038, 'od_type': 'IncToDec', 'l2_leaf_reg': 35}. Best is trial 0 with value: 0.5646229314598946.\u001b[0m\n",
      "\u001b[32m[I 2021-09-22 15:12:42,553]\u001b[0m Trial 94 finished with value: 0.5636742939370654 and parameters: {'iterations': 1679, 'depth': 7, 'learning_rate': 0.010234796317729892, 'random_strength': 64, 'bagging_temperature': 4.484174119749239, 'od_type': 'IncToDec', 'l2_leaf_reg': 31}. Best is trial 0 with value: 0.5646229314598946.\u001b[0m\n",
      "\u001b[32m[I 2021-09-22 15:12:42,761]\u001b[0m Trial 96 finished with value: 0.5635315423949263 and parameters: {'iterations': 1777, 'depth': 7, 'learning_rate': 0.011103892401996133, 'random_strength': 65, 'bagging_temperature': 0.5743875619656491, 'od_type': 'IncToDec', 'l2_leaf_reg': 32}. Best is trial 0 with value: 0.5646229314598946.\u001b[0m\n",
      "\u001b[32m[I 2021-09-22 15:12:42,995]\u001b[0m Trial 99 finished with value: 0.5636368445199815 and parameters: {'iterations': 1702, 'depth': 8, 'learning_rate': 0.010156822020719495, 'random_strength': 65, 'bagging_temperature': 0.6765225411792751, 'od_type': 'IncToDec', 'l2_leaf_reg': 35}. Best is trial 0 with value: 0.5646229314598946.\u001b[0m\n",
      "\u001b[32m[I 2021-09-22 15:12:43,236]\u001b[0m Trial 97 finished with value: 0.5634274849274645 and parameters: {'iterations': 1822, 'depth': 8, 'learning_rate': 0.010179030899140684, 'random_strength': 63, 'bagging_temperature': 0.5700714419804299, 'od_type': 'IncToDec', 'l2_leaf_reg': 35}. Best is trial 0 with value: 0.5646229314598946.\u001b[0m\n",
      "\u001b[32m[I 2021-09-22 15:12:43,334]\u001b[0m Trial 98 finished with value: 0.5625473466673577 and parameters: {'iterations': 1838, 'depth': 8, 'learning_rate': 0.010243478396773503, 'random_strength': 23, 'bagging_temperature': 0.697455131082347, 'od_type': 'IncToDec', 'l2_leaf_reg': 34}. Best is trial 0 with value: 0.5646229314598946.\u001b[0m\n",
      "\u001b[32m[I 2021-09-22 15:12:43,950]\u001b[0m Trial 95 finished with value: 0.5623965543557851 and parameters: {'iterations': 1974, 'depth': 8, 'learning_rate': 0.010177445297773874, 'random_strength': 70, 'bagging_temperature': 0.8305996520770218, 'od_type': 'IncToDec', 'l2_leaf_reg': 28}. Best is trial 0 with value: 0.5646229314598946.\u001b[0m\n",
      "\u001b[32m[I 2021-09-22 15:12:44,044]\u001b[0m Trial 68 finished with value: 0.515217379278331 and parameters: {'iterations': 1809, 'depth': 9, 'learning_rate': 0.10001262430207995, 'random_strength': 90, 'bagging_temperature': 0.015175143519924956, 'od_type': 'Iter', 'l2_leaf_reg': 28}. Best is trial 0 with value: 0.5646229314598946.\u001b[0m\n",
      "\u001b[32m[I 2021-09-22 15:12:44,207]\u001b[0m Trial 69 finished with value: 0.5214042822020991 and parameters: {'iterations': 1937, 'depth': 9, 'learning_rate': 0.06908588172763094, 'random_strength': 66, 'bagging_temperature': 0.018404030251033664, 'od_type': 'IncToDec', 'l2_leaf_reg': 33}. Best is trial 0 with value: 0.5646229314598946.\u001b[0m\n"
     ]
    }
   ],
   "source": [
    "study = optuna.create_study(direction = \"maximize\")\n",
    "study.optimize(objective, n_jobs = 64, n_trials=100)"
   ]
  },
  {
   "cell_type": "code",
   "execution_count": 40,
   "id": "1fbfb231-789d-4ff8-a57c-f8813f5dd30c",
   "metadata": {},
   "outputs": [
    {
     "name": "stdout",
     "output_type": "stream",
     "text": [
      "Number of finished trials: 100\n",
      "Best trial:\n",
      "  Value: 0.5646229314598946\n",
      "  Params: \n",
      "    iterations: 964\n",
      "    depth: 9\n",
      "    learning_rate: 0.012608315388862645\n",
      "    random_strength: 71\n",
      "    bagging_temperature: 1.2178081224877062\n",
      "    od_type: Iter\n",
      "    l2_leaf_reg: 40\n"
     ]
    }
   ],
   "source": [
    "print(\"Number of finished trials: {}\".format(len(study.trials)))\n",
    "\n",
    "print(\"Best trial:\")\n",
    "trial = study.best_trial\n",
    "\n",
    "print(\"  Value: {}\".format(trial.value))\n",
    "\n",
    "print(\"  Params: \")\n",
    "for key, value in trial.params.items():\n",
    "    print(\"    {}: {}\".format(key, value))"
   ]
  },
  {
   "cell_type": "code",
   "execution_count": null,
   "id": "0ee9b2fd-964c-4965-8592-9e394e722f78",
   "metadata": {},
   "outputs": [],
   "source": []
  },
  {
   "cell_type": "code",
   "execution_count": 41,
   "id": "65f90ed3-9156-4c5f-b20f-c21bc271b676",
   "metadata": {},
   "outputs": [],
   "source": [
    "sample_subm = pd.read_csv('sample_submission.csv')\n",
    "train = pd.read_csv('train.csv')\n",
    "test = pd.read_csv('test.csv')"
   ]
  },
  {
   "cell_type": "code",
   "execution_count": 42,
   "id": "cf308082-8045-42be-82c9-164ee1cf8cea",
   "metadata": {},
   "outputs": [],
   "source": [
    "X_train, y_train = train.drop('y',1), train.y \n",
    "X_test = test\n",
    "X_train = X_train[['X0','X118','X5','X127']]\n",
    "X_test = X_test[['X0','X118','X5','X127']]"
   ]
  },
  {
   "cell_type": "code",
   "execution_count": 43,
   "id": "f1d94c7a-e932-4d4d-b1c7-be034c1b0689",
   "metadata": {},
   "outputs": [],
   "source": [
    "model = CatBoostRegressor(\n",
    "                     thread_count=64,\n",
    "                     verbose=False, \n",
    "                    early_stopping_rounds=7,\n",
    "                    eval_metric=\"R2\",\n",
    "                    **trial.params)"
   ]
  },
  {
   "cell_type": "code",
   "execution_count": 44,
   "id": "edf7d843-7425-4068-9fe4-940efe9f1c05",
   "metadata": {},
   "outputs": [
    {
     "name": "stdout",
     "output_type": "stream",
     "text": [
      "Cross-validated R2: 0.565 +/- 0.068\n"
     ]
    }
   ],
   "source": [
    "# Regression model\n",
    "model_le = Pipeline([\n",
    "    ('encoder', TargetEncoder()),\n",
    "    ('imputer', SimpleImputer(strategy='most_frequent')),\n",
    "    ('scaler', StandardScaler()),\n",
    "    ('constant_remover', VarianceThreshold(0.0)),\n",
    "    ('regressor', model)\n",
    "])\n",
    "\n",
    "# Cross-validated R2\n",
    "r2_scorer = make_scorer(r2_score)\n",
    "mse_scorer = make_scorer(mean_squared_error)\n",
    "scores = cross_val_score(model_le, X_train, y_train, \n",
    "                         cv=5, scoring=r2_scorer)\n",
    "print('Cross-validated R2: %0.3f +/- %0.3f'\n",
    "      % (scores.mean(), scores.std()))"
   ]
  },
  {
   "cell_type": "code",
   "execution_count": null,
   "id": "97f6aacb-93f1-4337-9138-fcb3f09ee164",
   "metadata": {},
   "outputs": [],
   "source": []
  },
  {
   "cell_type": "code",
   "execution_count": 45,
   "id": "e0310bd7-2841-40aa-9f36-58a1161f69bf",
   "metadata": {},
   "outputs": [],
   "source": [
    "X_train, X_test, y_train, y_test = train_test_split(train.drop('y',1), train.y, test_size=0.25, random_state=42)"
   ]
  },
  {
   "cell_type": "code",
   "execution_count": 46,
   "id": "4dbea38d-4e3f-45ea-8542-7e8efb8d816c",
   "metadata": {},
   "outputs": [],
   "source": [
    "model = CatBoostRegressor(\n",
    "                     thread_count=64,\n",
    "                     verbose=False, \n",
    "                    early_stopping_rounds=7,\n",
    "                    eval_metric=\"R2\",\n",
    "                    **trial.params)\n",
    "model_le = Pipeline([\n",
    "    ('encoder', TargetEncoder()),\n",
    "    ('imputer', SimpleImputer(strategy='most_frequent')),\n",
    "    ('scaler', StandardScaler()),\n",
    "    ('constant_remover', VarianceThreshold(0.0)),\n",
    "    ('regressor', model)\n",
    "])"
   ]
  },
  {
   "cell_type": "code",
   "execution_count": 47,
   "id": "9d5927cb-8844-47a2-bac6-1704c6ef98b8",
   "metadata": {
    "tags": []
   },
   "outputs": [
    {
     "data": {
      "text/plain": [
       "0.5486756619732596"
      ]
     },
     "execution_count": 47,
     "metadata": {},
     "output_type": "execute_result"
    }
   ],
   "source": [
    "model_le.fit(X_train, y_train)\n",
    "r2_score(y_test, model_le.predict(X_test))"
   ]
  },
  {
   "cell_type": "code",
   "execution_count": 102,
   "id": "2536b224-d415-4fb1-a02f-55617497e803",
   "metadata": {},
   "outputs": [],
   "source": [
    "sample_subm['y'] = model_le.predict(test)\n",
    "sample_subm.to_csv('submission.csv', header=True, index=False)"
   ]
  },
  {
   "cell_type": "markdown",
   "id": "723f3f6c-9f25-4c4d-b34c-e1de5aad0d7d",
   "metadata": {},
   "source": [
    "# Теперь сравним с различными auto-ml"
   ]
  },
  {
   "cell_type": "markdown",
   "id": "c3b0e5b3-ef65-4490-8f6b-f2e0cf3d2b74",
   "metadata": {},
   "source": [
    "## Auto Gluon"
   ]
  },
  {
   "cell_type": "code",
   "execution_count": null,
   "id": "32963883-b648-4022-ab43-2baa2d17d57f",
   "metadata": {
    "tags": []
   },
   "outputs": [],
   "source": [
    "pip install autogluon"
   ]
  },
  {
   "cell_type": "code",
   "execution_count": 49,
   "id": "9a1bfbe7-80f3-4068-9b84-51009a34f606",
   "metadata": {},
   "outputs": [],
   "source": [
    "from autogluon.tabular import TabularDataset, TabularPredictor"
   ]
  },
  {
   "cell_type": "code",
   "execution_count": 50,
   "id": "7e952fb3-8036-411e-92ea-e6496d01064e",
   "metadata": {},
   "outputs": [],
   "source": [
    "sample_subm = pd.read_csv('sample_submission.csv')\n",
    "train = pd.read_csv('train.csv')\n",
    "test = pd.read_csv('test.csv')"
   ]
  },
  {
   "cell_type": "code",
   "execution_count": 51,
   "id": "fd14d72c-f097-4d13-9d23-0ebd71f8ec77",
   "metadata": {},
   "outputs": [],
   "source": [
    "X_train, X_test, y_train, y_test = train_test_split(train.drop('y',1), train.y, test_size=0.25, random_state=42)"
   ]
  },
  {
   "cell_type": "code",
   "execution_count": 52,
   "id": "fb1bb93a-63bd-4a7d-a9d9-d1e94c8faa9d",
   "metadata": {},
   "outputs": [],
   "source": [
    "train = pd.concat([X_train,y_train],1)\n",
    "test = pd.concat([X_test,y_test],1)"
   ]
  },
  {
   "cell_type": "code",
   "execution_count": 53,
   "id": "6ea40f7b-72c7-42b7-a7f3-52c2a79b807e",
   "metadata": {
    "collapsed": true,
    "jupyter": {
     "outputs_hidden": true
    },
    "tags": []
   },
   "outputs": [
    {
     "name": "stderr",
     "output_type": "stream",
     "text": [
      "Warning: path already exists! This predictor may overwrite an existing predictor! path=\"agModels-predictClass\"\n",
      "Beginning AutoGluon training ...\n",
      "AutoGluon will save models to \"agModels-predictClass/\"\n",
      "AutoGluon Version:  0.3.1\n",
      "Train Data Rows:    3156\n",
      "Train Data Columns: 377\n",
      "Preprocessing data ...\n",
      "AutoGluon infers your prediction problem is: 'regression' (because dtype of label-column == float and many unique label-values observed).\n",
      "\tLabel info (max, min, mean, stddev): (265.32, 72.11, 100.6526, 12.70342)\n",
      "\tIf 'regression' is not the correct problem_type, please manually specify the problem_type argument in fit() (You may specify problem_type as one of: ['binary', 'multiclass', 'regression'])\n",
      "Using Feature Generators to preprocess the data ...\n",
      "Fitting AutoMLPipelineFeatureGenerator...\n",
      "\tAvailable Memory:                    326375.97 MB\n",
      "\tTrain Data (Original)  Memory Usage: 10.79 MB (0.0% of available memory)\n",
      "\tInferring data type of each feature based on column values. Set feature_metadata_in to manually specify special dtypes of the features.\n",
      "\tStage 1 Generators:\n",
      "\t\tFitting AsTypeFeatureGenerator...\n",
      "\t\t\tNote: Converting 350 features to boolean dtype as they only contain 2 unique values.\n",
      "\tStage 2 Generators:\n",
      "\t\tFitting FillNaFeatureGenerator...\n",
      "\tStage 3 Generators:\n",
      "\t\tFitting IdentityFeatureGenerator...\n",
      "\t\tFitting CategoryFeatureGenerator...\n",
      "\t\t\tFitting CategoryMemoryMinimizeFeatureGenerator...\n",
      "\tStage 4 Generators:\n",
      "\t\tFitting DropUniqueFeatureGenerator...\n",
      "\tUseless Original Features (Count: 18): ['X11', 'X93', 'X107', 'X233', 'X235', 'X236', 'X268', 'X288', 'X289', 'X290', 'X293', 'X295', 'X296', 'X297', 'X319', 'X330', 'X339', 'X347']\n",
      "\t\tThese features carry no predictive signal and should be manually investigated.\n",
      "\t\tThis is typically a feature which has the same value for all rows.\n",
      "\t\tThese features do not need to be present at inference time.\n",
      "\tTypes of features in original data (raw dtype, special dtypes):\n",
      "\t\t('int', [])    : 351 | ['ID', 'X10', 'X12', 'X13', 'X14', ...]\n",
      "\t\t('object', []) :   8 | ['X0', 'X1', 'X2', 'X3', 'X4', ...]\n",
      "\tTypes of features in processed data (raw dtype, special dtypes):\n",
      "\t\t('category', [])  :   8 | ['X0', 'X1', 'X2', 'X3', 'X4', ...]\n",
      "\t\t('int', [])       :   1 | ['ID']\n",
      "\t\t('int', ['bool']) : 350 | ['X10', 'X12', 'X13', 'X14', 'X15', ...]\n",
      "\t0.7s = Fit runtime\n",
      "\t359 features in original data used to generate 359 features in processed data.\n",
      "\tTrain Data (Processed) Memory Usage: 1.16 MB (0.0% of available memory)\n",
      "Data preprocessing and feature engineering runtime = 0.69s ...\n",
      "AutoGluon will gauge predictive performance using evaluation metric: 'root_mean_squared_error'\n",
      "\tTo change this, specify the eval_metric argument of fit()\n",
      "Automatically generating train/validation split with holdout_frac=0.15842839036755388, Train Rows: 2655, Val Rows: 501\n",
      "Fitting 11 L1 models ...\n",
      "Fitting model: KNeighborsUnif ...\n",
      "\t-13.6704\t = Validation score   (root_mean_squared_error)\n",
      "\t0.02s\t = Training   runtime\n",
      "\t0.12s\t = Validation runtime\n",
      "Fitting model: KNeighborsDist ...\n",
      "\t-14.7422\t = Validation score   (root_mean_squared_error)\n",
      "\t0.01s\t = Training   runtime\n",
      "\t0.12s\t = Validation runtime\n",
      "Fitting model: LightGBMXT ...\n",
      "\t-7.9857\t = Validation score   (root_mean_squared_error)\n",
      "\t1.08s\t = Training   runtime\n",
      "\t0.01s\t = Validation runtime\n",
      "Fitting model: LightGBM ...\n",
      "\t-8.0509\t = Validation score   (root_mean_squared_error)\n",
      "\t0.93s\t = Training   runtime\n",
      "\t0.02s\t = Validation runtime\n",
      "Fitting model: RandomForestMSE ...\n",
      "\t-8.6976\t = Validation score   (root_mean_squared_error)\n",
      "\t1.27s\t = Training   runtime\n",
      "\t0.23s\t = Validation runtime\n",
      "Fitting model: CatBoost ...\n",
      "\t-7.9559\t = Validation score   (root_mean_squared_error)\n",
      "\t2.61s\t = Training   runtime\n",
      "\t0.03s\t = Validation runtime\n",
      "Fitting model: ExtraTreesMSE ...\n",
      "\t-8.7386\t = Validation score   (root_mean_squared_error)\n",
      "\t1.04s\t = Training   runtime\n",
      "\t0.13s\t = Validation runtime\n",
      "Fitting model: NeuralNetFastAI ...\n",
      "\t-8.6199\t = Validation score   (root_mean_squared_error)\n",
      "\t7.58s\t = Training   runtime\n",
      "\t0.1s\t = Validation runtime\n",
      "Fitting model: XGBoost ...\n",
      "\t-8.2493\t = Validation score   (root_mean_squared_error)\n",
      "\t0.59s\t = Training   runtime\n",
      "\t0.02s\t = Validation runtime\n",
      "Fitting model: NeuralNetMXNet ...\n",
      "\tWarning: Exception caused NeuralNetMXNet to fail during training (ImportError)... Skipping this model.\n",
      "\t\tUnable to import dependency mxnet. A quick tip is to install via `pip install mxnet --upgrade`, or `pip install mxnet_cu101 --upgrade`\n",
      "Fitting model: LightGBMLarge ...\n",
      "\t-8.2936\t = Validation score   (root_mean_squared_error)\n",
      "\t5.3s\t = Training   runtime\n",
      "\t0.02s\t = Validation runtime\n",
      "Fitting model: WeightedEnsemble_L2 ...\n",
      "\t-7.9284\t = Validation score   (root_mean_squared_error)\n",
      "\t0.34s\t = Training   runtime\n",
      "\t0.0s\t = Validation runtime\n",
      "AutoGluon training complete, total runtime = 24.8s ...\n",
      "TabularPredictor saved. To load, use: predictor = TabularPredictor.load(\"agModels-predictClass/\")\n"
     ]
    }
   ],
   "source": [
    "label='y'\n",
    "save_path = 'agModels-predictClass'  # specifies folder to store trained models\n",
    "predictor = TabularPredictor(label=label, path=save_path).fit(train)"
   ]
  },
  {
   "cell_type": "code",
   "execution_count": 54,
   "id": "28e1799b-e283-4f1f-8ab4-7b7d4964d29a",
   "metadata": {},
   "outputs": [
    {
     "data": {
      "text/html": [
       "<div>\n",
       "<style scoped>\n",
       "    .dataframe tbody tr th:only-of-type {\n",
       "        vertical-align: middle;\n",
       "    }\n",
       "\n",
       "    .dataframe tbody tr th {\n",
       "        vertical-align: top;\n",
       "    }\n",
       "\n",
       "    .dataframe thead th {\n",
       "        text-align: right;\n",
       "    }\n",
       "</style>\n",
       "<table border=\"1\" class=\"dataframe\">\n",
       "  <thead>\n",
       "    <tr style=\"text-align: right;\">\n",
       "      <th></th>\n",
       "      <th>ID</th>\n",
       "      <th>X0</th>\n",
       "      <th>X1</th>\n",
       "      <th>X2</th>\n",
       "      <th>X3</th>\n",
       "      <th>X4</th>\n",
       "      <th>X5</th>\n",
       "      <th>X6</th>\n",
       "      <th>X8</th>\n",
       "      <th>X10</th>\n",
       "      <th>...</th>\n",
       "      <th>X375</th>\n",
       "      <th>X376</th>\n",
       "      <th>X377</th>\n",
       "      <th>X378</th>\n",
       "      <th>X379</th>\n",
       "      <th>X380</th>\n",
       "      <th>X382</th>\n",
       "      <th>X383</th>\n",
       "      <th>X384</th>\n",
       "      <th>X385</th>\n",
       "    </tr>\n",
       "  </thead>\n",
       "  <tbody>\n",
       "    <tr>\n",
       "      <th>1073</th>\n",
       "      <td>2140</td>\n",
       "      <td>al</td>\n",
       "      <td>o</td>\n",
       "      <td>ai</td>\n",
       "      <td>f</td>\n",
       "      <td>d</td>\n",
       "      <td>ag</td>\n",
       "      <td>j</td>\n",
       "      <td>l</td>\n",
       "      <td>0</td>\n",
       "      <td>...</td>\n",
       "      <td>0</td>\n",
       "      <td>0</td>\n",
       "      <td>0</td>\n",
       "      <td>0</td>\n",
       "      <td>0</td>\n",
       "      <td>0</td>\n",
       "      <td>0</td>\n",
       "      <td>0</td>\n",
       "      <td>0</td>\n",
       "      <td>0</td>\n",
       "    </tr>\n",
       "    <tr>\n",
       "      <th>144</th>\n",
       "      <td>310</td>\n",
       "      <td>f</td>\n",
       "      <td>l</td>\n",
       "      <td>ae</td>\n",
       "      <td>f</td>\n",
       "      <td>d</td>\n",
       "      <td>i</td>\n",
       "      <td>i</td>\n",
       "      <td>w</td>\n",
       "      <td>0</td>\n",
       "      <td>...</td>\n",
       "      <td>0</td>\n",
       "      <td>0</td>\n",
       "      <td>0</td>\n",
       "      <td>0</td>\n",
       "      <td>0</td>\n",
       "      <td>0</td>\n",
       "      <td>0</td>\n",
       "      <td>0</td>\n",
       "      <td>0</td>\n",
       "      <td>0</td>\n",
       "    </tr>\n",
       "    <tr>\n",
       "      <th>2380</th>\n",
       "      <td>4779</td>\n",
       "      <td>j</td>\n",
       "      <td>aa</td>\n",
       "      <td>ay</td>\n",
       "      <td>c</td>\n",
       "      <td>d</td>\n",
       "      <td>n</td>\n",
       "      <td>l</td>\n",
       "      <td>o</td>\n",
       "      <td>1</td>\n",
       "      <td>...</td>\n",
       "      <td>1</td>\n",
       "      <td>0</td>\n",
       "      <td>0</td>\n",
       "      <td>0</td>\n",
       "      <td>0</td>\n",
       "      <td>0</td>\n",
       "      <td>0</td>\n",
       "      <td>0</td>\n",
       "      <td>0</td>\n",
       "      <td>0</td>\n",
       "    </tr>\n",
       "    <tr>\n",
       "      <th>184</th>\n",
       "      <td>385</td>\n",
       "      <td>az</td>\n",
       "      <td>y</td>\n",
       "      <td>b</td>\n",
       "      <td>c</td>\n",
       "      <td>d</td>\n",
       "      <td>i</td>\n",
       "      <td>j</td>\n",
       "      <td>l</td>\n",
       "      <td>0</td>\n",
       "      <td>...</td>\n",
       "      <td>0</td>\n",
       "      <td>0</td>\n",
       "      <td>0</td>\n",
       "      <td>0</td>\n",
       "      <td>0</td>\n",
       "      <td>0</td>\n",
       "      <td>1</td>\n",
       "      <td>0</td>\n",
       "      <td>0</td>\n",
       "      <td>0</td>\n",
       "    </tr>\n",
       "    <tr>\n",
       "      <th>2587</th>\n",
       "      <td>5180</td>\n",
       "      <td>ak</td>\n",
       "      <td>v</td>\n",
       "      <td>ak</td>\n",
       "      <td>d</td>\n",
       "      <td>d</td>\n",
       "      <td>m</td>\n",
       "      <td>i</td>\n",
       "      <td>r</td>\n",
       "      <td>0</td>\n",
       "      <td>...</td>\n",
       "      <td>0</td>\n",
       "      <td>0</td>\n",
       "      <td>0</td>\n",
       "      <td>0</td>\n",
       "      <td>0</td>\n",
       "      <td>0</td>\n",
       "      <td>0</td>\n",
       "      <td>0</td>\n",
       "      <td>0</td>\n",
       "      <td>0</td>\n",
       "    </tr>\n",
       "  </tbody>\n",
       "</table>\n",
       "<p>5 rows × 377 columns</p>\n",
       "</div>"
      ],
      "text/plain": [
       "        ID  X0  X1  X2 X3 X4  X5 X6 X8  X10  ...  X375  X376  X377  X378  \\\n",
       "1073  2140  al   o  ai  f  d  ag  j  l    0  ...     0     0     0     0   \n",
       "144    310   f   l  ae  f  d   i  i  w    0  ...     0     0     0     0   \n",
       "2380  4779   j  aa  ay  c  d   n  l  o    1  ...     1     0     0     0   \n",
       "184    385  az   y   b  c  d   i  j  l    0  ...     0     0     0     0   \n",
       "2587  5180  ak   v  ak  d  d   m  i  r    0  ...     0     0     0     0   \n",
       "\n",
       "      X379  X380  X382  X383  X384  X385  \n",
       "1073     0     0     0     0     0     0  \n",
       "144      0     0     0     0     0     0  \n",
       "2380     0     0     0     0     0     0  \n",
       "184      0     0     1     0     0     0  \n",
       "2587     0     0     0     0     0     0  \n",
       "\n",
       "[5 rows x 377 columns]"
      ]
     },
     "execution_count": 54,
     "metadata": {},
     "output_type": "execute_result"
    }
   ],
   "source": [
    "test_data = TabularDataset(test)\n",
    "y_test = test_data[label]  # values to predict\n",
    "test_data_nolab = test_data.drop(columns=[label])  # delete label column to prove we're not cheating\n",
    "test_data_nolab.head()"
   ]
  },
  {
   "cell_type": "code",
   "execution_count": 55,
   "id": "0f88e1c3-c820-4527-a071-30c092ed71fe",
   "metadata": {
    "collapsed": true,
    "jupyter": {
     "outputs_hidden": true
    },
    "tags": []
   },
   "outputs": [
    {
     "name": "stderr",
     "output_type": "stream",
     "text": [
      "Evaluation: root_mean_squared_error on test data: -8.301546458468565\n",
      "\tNote: Scores are always higher_is_better. This metric score can be multiplied by -1 to get the metric value.\n",
      "Evaluations on test data:\n",
      "{\n",
      "    \"root_mean_squared_error\": -8.301546458468565,\n",
      "    \"mean_squared_error\": -68.91567360211198,\n",
      "    \"mean_absolute_error\": -5.444510276337974,\n",
      "    \"r2\": 0.5663920985694542,\n",
      "    \"pearsonr\": 0.7534198660471509,\n",
      "    \"median_absolute_error\": -4.063115539550779\n",
      "}\n"
     ]
    },
    {
     "name": "stdout",
     "output_type": "stream",
     "text": [
      "Predictions:  \n",
      " 1073     96.928436\n",
      "144      94.046646\n",
      "2380    113.834068\n",
      "184      78.987099\n",
      "2587    112.156639\n",
      "           ...    \n",
      "283     113.100273\n",
      "2770     94.847260\n",
      "2833     80.319862\n",
      "3762    111.313873\n",
      "1482     94.026985\n",
      "Name: y, Length: 1053, dtype: float32\n"
     ]
    }
   ],
   "source": [
    "predictor = TabularPredictor.load(save_path)  # unnecessary, just demonstrates how to load previously-trained predictor from file\n",
    "\n",
    "y_pred = predictor.predict(test_data_nolab)\n",
    "print(\"Predictions:  \\n\", y_pred)\n",
    "perf = predictor.evaluate_predictions(y_true=y_test, y_pred=y_pred, auxiliary_metrics=True)"
   ]
  },
  {
   "cell_type": "code",
   "execution_count": 56,
   "id": "560e502f-3730-4602-8f3d-c50b1e1c3173",
   "metadata": {},
   "outputs": [
    {
     "data": {
      "text/html": [
       "<div>\n",
       "<style scoped>\n",
       "    .dataframe tbody tr th:only-of-type {\n",
       "        vertical-align: middle;\n",
       "    }\n",
       "\n",
       "    .dataframe tbody tr th {\n",
       "        vertical-align: top;\n",
       "    }\n",
       "\n",
       "    .dataframe thead th {\n",
       "        text-align: right;\n",
       "    }\n",
       "</style>\n",
       "<table border=\"1\" class=\"dataframe\">\n",
       "  <thead>\n",
       "    <tr style=\"text-align: right;\">\n",
       "      <th></th>\n",
       "      <th>model</th>\n",
       "      <th>score_test</th>\n",
       "      <th>score_val</th>\n",
       "      <th>pred_time_test</th>\n",
       "      <th>pred_time_val</th>\n",
       "      <th>fit_time</th>\n",
       "      <th>pred_time_test_marginal</th>\n",
       "      <th>pred_time_val_marginal</th>\n",
       "      <th>fit_time_marginal</th>\n",
       "      <th>stack_level</th>\n",
       "      <th>can_infer</th>\n",
       "      <th>fit_order</th>\n",
       "    </tr>\n",
       "  </thead>\n",
       "  <tbody>\n",
       "    <tr>\n",
       "      <th>0</th>\n",
       "      <td>WeightedEnsemble_L2</td>\n",
       "      <td>-8.301546</td>\n",
       "      <td>-7.928366</td>\n",
       "      <td>0.259077</td>\n",
       "      <td>0.163597</td>\n",
       "      <td>12.537557</td>\n",
       "      <td>0.004291</td>\n",
       "      <td>0.000589</td>\n",
       "      <td>0.335555</td>\n",
       "      <td>2</td>\n",
       "      <td>True</td>\n",
       "      <td>11</td>\n",
       "    </tr>\n",
       "    <tr>\n",
       "      <th>1</th>\n",
       "      <td>LightGBMXT</td>\n",
       "      <td>-8.319876</td>\n",
       "      <td>-7.985736</td>\n",
       "      <td>0.014936</td>\n",
       "      <td>0.013797</td>\n",
       "      <td>1.082615</td>\n",
       "      <td>0.014936</td>\n",
       "      <td>0.013797</td>\n",
       "      <td>1.082615</td>\n",
       "      <td>1</td>\n",
       "      <td>True</td>\n",
       "      <td>3</td>\n",
       "    </tr>\n",
       "    <tr>\n",
       "      <th>2</th>\n",
       "      <td>CatBoost</td>\n",
       "      <td>-8.322216</td>\n",
       "      <td>-7.955904</td>\n",
       "      <td>0.034373</td>\n",
       "      <td>0.033250</td>\n",
       "      <td>2.608936</td>\n",
       "      <td>0.034373</td>\n",
       "      <td>0.033250</td>\n",
       "      <td>2.608936</td>\n",
       "      <td>1</td>\n",
       "      <td>True</td>\n",
       "      <td>6</td>\n",
       "    </tr>\n",
       "    <tr>\n",
       "      <th>3</th>\n",
       "      <td>LightGBM</td>\n",
       "      <td>-8.376015</td>\n",
       "      <td>-8.050874</td>\n",
       "      <td>0.021884</td>\n",
       "      <td>0.015081</td>\n",
       "      <td>0.930354</td>\n",
       "      <td>0.021884</td>\n",
       "      <td>0.015081</td>\n",
       "      <td>0.930354</td>\n",
       "      <td>1</td>\n",
       "      <td>True</td>\n",
       "      <td>4</td>\n",
       "    </tr>\n",
       "    <tr>\n",
       "      <th>4</th>\n",
       "      <td>XGBoost</td>\n",
       "      <td>-8.525472</td>\n",
       "      <td>-8.249303</td>\n",
       "      <td>0.048604</td>\n",
       "      <td>0.015841</td>\n",
       "      <td>0.588511</td>\n",
       "      <td>0.048604</td>\n",
       "      <td>0.015841</td>\n",
       "      <td>0.588511</td>\n",
       "      <td>1</td>\n",
       "      <td>True</td>\n",
       "      <td>9</td>\n",
       "    </tr>\n",
       "    <tr>\n",
       "      <th>5</th>\n",
       "      <td>LightGBMLarge</td>\n",
       "      <td>-8.716823</td>\n",
       "      <td>-8.293589</td>\n",
       "      <td>0.017964</td>\n",
       "      <td>0.023913</td>\n",
       "      <td>5.302951</td>\n",
       "      <td>0.017964</td>\n",
       "      <td>0.023913</td>\n",
       "      <td>5.302951</td>\n",
       "      <td>1</td>\n",
       "      <td>True</td>\n",
       "      <td>10</td>\n",
       "    </tr>\n",
       "    <tr>\n",
       "      <th>6</th>\n",
       "      <td>RandomForestMSE</td>\n",
       "      <td>-9.139125</td>\n",
       "      <td>-8.697600</td>\n",
       "      <td>0.287047</td>\n",
       "      <td>0.229697</td>\n",
       "      <td>1.266510</td>\n",
       "      <td>0.287047</td>\n",
       "      <td>0.229697</td>\n",
       "      <td>1.266510</td>\n",
       "      <td>1</td>\n",
       "      <td>True</td>\n",
       "      <td>5</td>\n",
       "    </tr>\n",
       "    <tr>\n",
       "      <th>7</th>\n",
       "      <td>NeuralNetFastAI</td>\n",
       "      <td>-9.289003</td>\n",
       "      <td>-8.619927</td>\n",
       "      <td>0.183593</td>\n",
       "      <td>0.100879</td>\n",
       "      <td>7.580097</td>\n",
       "      <td>0.183593</td>\n",
       "      <td>0.100879</td>\n",
       "      <td>7.580097</td>\n",
       "      <td>1</td>\n",
       "      <td>True</td>\n",
       "      <td>8</td>\n",
       "    </tr>\n",
       "    <tr>\n",
       "      <th>8</th>\n",
       "      <td>ExtraTreesMSE</td>\n",
       "      <td>-9.428478</td>\n",
       "      <td>-8.738627</td>\n",
       "      <td>0.295062</td>\n",
       "      <td>0.128915</td>\n",
       "      <td>1.044439</td>\n",
       "      <td>0.295062</td>\n",
       "      <td>0.128915</td>\n",
       "      <td>1.044439</td>\n",
       "      <td>1</td>\n",
       "      <td>True</td>\n",
       "      <td>7</td>\n",
       "    </tr>\n",
       "    <tr>\n",
       "      <th>9</th>\n",
       "      <td>KNeighborsUnif</td>\n",
       "      <td>-14.093174</td>\n",
       "      <td>-13.670363</td>\n",
       "      <td>0.121902</td>\n",
       "      <td>0.118264</td>\n",
       "      <td>0.018686</td>\n",
       "      <td>0.121902</td>\n",
       "      <td>0.118264</td>\n",
       "      <td>0.018686</td>\n",
       "      <td>1</td>\n",
       "      <td>True</td>\n",
       "      <td>1</td>\n",
       "    </tr>\n",
       "    <tr>\n",
       "      <th>10</th>\n",
       "      <td>KNeighborsDist</td>\n",
       "      <td>-15.043465</td>\n",
       "      <td>-14.742206</td>\n",
       "      <td>0.121613</td>\n",
       "      <td>0.117442</td>\n",
       "      <td>0.008868</td>\n",
       "      <td>0.121613</td>\n",
       "      <td>0.117442</td>\n",
       "      <td>0.008868</td>\n",
       "      <td>1</td>\n",
       "      <td>True</td>\n",
       "      <td>2</td>\n",
       "    </tr>\n",
       "  </tbody>\n",
       "</table>\n",
       "</div>"
      ],
      "text/plain": [
       "                  model  score_test  score_val  pred_time_test  pred_time_val  \\\n",
       "0   WeightedEnsemble_L2   -8.301546  -7.928366        0.259077       0.163597   \n",
       "1            LightGBMXT   -8.319876  -7.985736        0.014936       0.013797   \n",
       "2              CatBoost   -8.322216  -7.955904        0.034373       0.033250   \n",
       "3              LightGBM   -8.376015  -8.050874        0.021884       0.015081   \n",
       "4               XGBoost   -8.525472  -8.249303        0.048604       0.015841   \n",
       "5         LightGBMLarge   -8.716823  -8.293589        0.017964       0.023913   \n",
       "6       RandomForestMSE   -9.139125  -8.697600        0.287047       0.229697   \n",
       "7       NeuralNetFastAI   -9.289003  -8.619927        0.183593       0.100879   \n",
       "8         ExtraTreesMSE   -9.428478  -8.738627        0.295062       0.128915   \n",
       "9        KNeighborsUnif  -14.093174 -13.670363        0.121902       0.118264   \n",
       "10       KNeighborsDist  -15.043465 -14.742206        0.121613       0.117442   \n",
       "\n",
       "     fit_time  pred_time_test_marginal  pred_time_val_marginal  \\\n",
       "0   12.537557                 0.004291                0.000589   \n",
       "1    1.082615                 0.014936                0.013797   \n",
       "2    2.608936                 0.034373                0.033250   \n",
       "3    0.930354                 0.021884                0.015081   \n",
       "4    0.588511                 0.048604                0.015841   \n",
       "5    5.302951                 0.017964                0.023913   \n",
       "6    1.266510                 0.287047                0.229697   \n",
       "7    7.580097                 0.183593                0.100879   \n",
       "8    1.044439                 0.295062                0.128915   \n",
       "9    0.018686                 0.121902                0.118264   \n",
       "10   0.008868                 0.121613                0.117442   \n",
       "\n",
       "    fit_time_marginal  stack_level  can_infer  fit_order  \n",
       "0            0.335555            2       True         11  \n",
       "1            1.082615            1       True          3  \n",
       "2            2.608936            1       True          6  \n",
       "3            0.930354            1       True          4  \n",
       "4            0.588511            1       True          9  \n",
       "5            5.302951            1       True         10  \n",
       "6            1.266510            1       True          5  \n",
       "7            7.580097            1       True          8  \n",
       "8            1.044439            1       True          7  \n",
       "9            0.018686            1       True          1  \n",
       "10           0.008868            1       True          2  "
      ]
     },
     "execution_count": 56,
     "metadata": {},
     "output_type": "execute_result"
    }
   ],
   "source": [
    "predictor.leaderboard(test_data, silent=True)"
   ]
  },
  {
   "cell_type": "code",
   "execution_count": 57,
   "id": "6b2275e3-4597-48e0-886c-75bfeedffe4d",
   "metadata": {},
   "outputs": [
    {
     "data": {
      "text/plain": [
       "0.5663920985694542"
      ]
     },
     "execution_count": 57,
     "metadata": {},
     "output_type": "execute_result"
    }
   ],
   "source": [
    "r2_score(y_test, y_pred)"
   ]
  },
  {
   "cell_type": "code",
   "execution_count": 90,
   "id": "57376ba7-9ca5-4810-82e8-39af87552892",
   "metadata": {},
   "outputs": [
    {
     "data": {
      "text/html": [
       "<div>\n",
       "<style scoped>\n",
       "    .dataframe tbody tr th:only-of-type {\n",
       "        vertical-align: middle;\n",
       "    }\n",
       "\n",
       "    .dataframe tbody tr th {\n",
       "        vertical-align: top;\n",
       "    }\n",
       "\n",
       "    .dataframe thead th {\n",
       "        text-align: right;\n",
       "    }\n",
       "</style>\n",
       "<table border=\"1\" class=\"dataframe\">\n",
       "  <thead>\n",
       "    <tr style=\"text-align: right;\">\n",
       "      <th></th>\n",
       "      <th>ID</th>\n",
       "      <th>y</th>\n",
       "    </tr>\n",
       "  </thead>\n",
       "  <tbody>\n",
       "    <tr>\n",
       "      <th>0</th>\n",
       "      <td>1</td>\n",
       "      <td>100.669318</td>\n",
       "    </tr>\n",
       "    <tr>\n",
       "      <th>1</th>\n",
       "      <td>2</td>\n",
       "      <td>100.669318</td>\n",
       "    </tr>\n",
       "    <tr>\n",
       "      <th>2</th>\n",
       "      <td>3</td>\n",
       "      <td>100.669318</td>\n",
       "    </tr>\n",
       "    <tr>\n",
       "      <th>3</th>\n",
       "      <td>4</td>\n",
       "      <td>100.669318</td>\n",
       "    </tr>\n",
       "    <tr>\n",
       "      <th>4</th>\n",
       "      <td>5</td>\n",
       "      <td>100.669318</td>\n",
       "    </tr>\n",
       "    <tr>\n",
       "      <th>...</th>\n",
       "      <td>...</td>\n",
       "      <td>...</td>\n",
       "    </tr>\n",
       "    <tr>\n",
       "      <th>4204</th>\n",
       "      <td>8410</td>\n",
       "      <td>100.669318</td>\n",
       "    </tr>\n",
       "    <tr>\n",
       "      <th>4205</th>\n",
       "      <td>8411</td>\n",
       "      <td>100.669318</td>\n",
       "    </tr>\n",
       "    <tr>\n",
       "      <th>4206</th>\n",
       "      <td>8413</td>\n",
       "      <td>100.669318</td>\n",
       "    </tr>\n",
       "    <tr>\n",
       "      <th>4207</th>\n",
       "      <td>8414</td>\n",
       "      <td>100.669318</td>\n",
       "    </tr>\n",
       "    <tr>\n",
       "      <th>4208</th>\n",
       "      <td>8416</td>\n",
       "      <td>100.669318</td>\n",
       "    </tr>\n",
       "  </tbody>\n",
       "</table>\n",
       "<p>4209 rows × 2 columns</p>\n",
       "</div>"
      ],
      "text/plain": [
       "        ID           y\n",
       "0        1  100.669318\n",
       "1        2  100.669318\n",
       "2        3  100.669318\n",
       "3        4  100.669318\n",
       "4        5  100.669318\n",
       "...    ...         ...\n",
       "4204  8410  100.669318\n",
       "4205  8411  100.669318\n",
       "4206  8413  100.669318\n",
       "4207  8414  100.669318\n",
       "4208  8416  100.669318\n",
       "\n",
       "[4209 rows x 2 columns]"
      ]
     },
     "execution_count": 90,
     "metadata": {},
     "output_type": "execute_result"
    }
   ],
   "source": [
    "sample_subm"
   ]
  },
  {
   "cell_type": "code",
   "execution_count": 96,
   "id": "ea9ac762-e000-4268-88eb-a52cba3b67b8",
   "metadata": {},
   "outputs": [
    {
     "data": {
      "text/plain": [
       "0        79.477486\n",
       "1        93.956505\n",
       "2        79.333595\n",
       "3        79.343613\n",
       "4       111.856514\n",
       "           ...    \n",
       "4204    103.179222\n",
       "4205     93.212814\n",
       "4206     92.642021\n",
       "4207    110.236572\n",
       "4208     92.631271\n",
       "Name: y, Length: 4209, dtype: float32"
      ]
     },
     "execution_count": 96,
     "metadata": {},
     "output_type": "execute_result"
    }
   ],
   "source": [
    "sample_subm.y"
   ]
  },
  {
   "cell_type": "code",
   "execution_count": null,
   "id": "950e64f8-b297-4178-a5c1-65d89efcbacb",
   "metadata": {},
   "outputs": [],
   "source": []
  },
  {
   "cell_type": "markdown",
   "id": "cc6aa66d-8b75-4d49-98c7-d17315911d98",
   "metadata": {},
   "source": [
    "## H2O"
   ]
  },
  {
   "cell_type": "code",
   "execution_count": null,
   "id": "88ffbd2d-800c-4fe2-8bb2-8f91dfb6b519",
   "metadata": {
    "tags": []
   },
   "outputs": [],
   "source": [
    "pip install h2o"
   ]
  },
  {
   "cell_type": "code",
   "execution_count": null,
   "id": "08ae0bd5-2ab5-424b-ac92-4ce3dff7501a",
   "metadata": {
    "tags": []
   },
   "outputs": [],
   "source": [
    "import h2o\n",
    "h2o.init()"
   ]
  },
  {
   "cell_type": "code",
   "execution_count": 61,
   "id": "9c5f63c8-4f93-40fa-b641-70f1adddaed8",
   "metadata": {},
   "outputs": [],
   "source": [
    "# получил ошибку"
   ]
  },
  {
   "cell_type": "code",
   "execution_count": null,
   "id": "a5339aa8-bd84-4695-b20e-da79f9a8f272",
   "metadata": {},
   "outputs": [],
   "source": [
    "from h2o.automl import H2OAutoML\n",
    "# Identify predictors and response\n",
    "x = [c for c in train.columns if c not in ('default.payment.next.month', 'ID')]\n",
    "y = 'default.payment.next.month'\n",
    "\n",
    "# For binary classification, response should be a factor\n",
    "train[y] = train[y].asfactor()\n",
    "\n",
    "# Run AutoML for 20 base models (limited to 1 hour max runtime by default)\n",
    "aml = H2OAutoML(max_models=20, seed=1)\n",
    "aml.train(x=x, y=y, training_frame=train)\n",
    "\n",
    "# View the AutoML Leaderboard\n",
    "lb = aml.leaderboard\n",
    "lb.head(rows=lb.nrows)"
   ]
  },
  {
   "cell_type": "code",
   "execution_count": null,
   "id": "60441e4b-f80e-4a72-a42c-e3ba2b51280f",
   "metadata": {},
   "outputs": [],
   "source": []
  },
  {
   "cell_type": "markdown",
   "id": "d89e8a4a-42fe-4547-8c2b-8c8521cf8737",
   "metadata": {},
   "source": [
    "## LAMA"
   ]
  },
  {
   "cell_type": "code",
   "execution_count": null,
   "id": "b7c3eaea-fd4d-455a-adaa-270ef92fddb2",
   "metadata": {
    "tags": []
   },
   "outputs": [],
   "source": [
    "pip install lightautoml"
   ]
  },
  {
   "cell_type": "code",
   "execution_count": 64,
   "id": "5fd42270-d877-4359-91ab-fd20d0c977e4",
   "metadata": {},
   "outputs": [],
   "source": [
    "# LightAutoML presets, task and report generation\n",
    "from lightautoml.automl.presets.tabular_presets import TabularAutoML, TabularUtilizedAutoML\n",
    "from lightautoml.tasks import Task\n",
    "from lightautoml.report.report_deco import ReportDeco\n",
    "import torch\n",
    "import os"
   ]
  },
  {
   "cell_type": "code",
   "execution_count": 65,
   "id": "d6329480-ff91-4ece-b8dd-168643472e4b",
   "metadata": {},
   "outputs": [],
   "source": [
    "N_THREADS = 64\n",
    "N_FOLDS = 5\n",
    "RANDOM_STATE = 42\n",
    "TEST_SIZE = 0.25\n",
    "TIMEOUT = 300\n",
    "TARGET_NAME = 'y'"
   ]
  },
  {
   "cell_type": "code",
   "execution_count": 66,
   "id": "b36897d7-f166-4689-9fc1-0c10bbbd1275",
   "metadata": {},
   "outputs": [],
   "source": [
    "np.random.seed(RANDOM_STATE)\n",
    "torch.set_num_threads(N_THREADS)"
   ]
  },
  {
   "cell_type": "code",
   "execution_count": 67,
   "id": "5bb10fb3-b368-4208-b1bf-2a8bd4e1af00",
   "metadata": {},
   "outputs": [
    {
     "name": "stdout",
     "output_type": "stream",
     "text": [
      "CPU times: user 111 ms, sys: 29.9 ms, total: 141 ms\n",
      "Wall time: 139 ms\n"
     ]
    },
    {
     "data": {
      "text/html": [
       "<div>\n",
       "<style scoped>\n",
       "    .dataframe tbody tr th:only-of-type {\n",
       "        vertical-align: middle;\n",
       "    }\n",
       "\n",
       "    .dataframe tbody tr th {\n",
       "        vertical-align: top;\n",
       "    }\n",
       "\n",
       "    .dataframe thead th {\n",
       "        text-align: right;\n",
       "    }\n",
       "</style>\n",
       "<table border=\"1\" class=\"dataframe\">\n",
       "  <thead>\n",
       "    <tr style=\"text-align: right;\">\n",
       "      <th></th>\n",
       "      <th>ID</th>\n",
       "      <th>y</th>\n",
       "      <th>X0</th>\n",
       "      <th>X1</th>\n",
       "      <th>X2</th>\n",
       "      <th>X3</th>\n",
       "      <th>X4</th>\n",
       "      <th>X5</th>\n",
       "      <th>X6</th>\n",
       "      <th>X8</th>\n",
       "      <th>...</th>\n",
       "      <th>X375</th>\n",
       "      <th>X376</th>\n",
       "      <th>X377</th>\n",
       "      <th>X378</th>\n",
       "      <th>X379</th>\n",
       "      <th>X380</th>\n",
       "      <th>X382</th>\n",
       "      <th>X383</th>\n",
       "      <th>X384</th>\n",
       "      <th>X385</th>\n",
       "    </tr>\n",
       "  </thead>\n",
       "  <tbody>\n",
       "    <tr>\n",
       "      <th>0</th>\n",
       "      <td>0</td>\n",
       "      <td>130.81</td>\n",
       "      <td>k</td>\n",
       "      <td>v</td>\n",
       "      <td>at</td>\n",
       "      <td>a</td>\n",
       "      <td>d</td>\n",
       "      <td>u</td>\n",
       "      <td>j</td>\n",
       "      <td>o</td>\n",
       "      <td>...</td>\n",
       "      <td>0</td>\n",
       "      <td>0</td>\n",
       "      <td>1</td>\n",
       "      <td>0</td>\n",
       "      <td>0</td>\n",
       "      <td>0</td>\n",
       "      <td>0</td>\n",
       "      <td>0</td>\n",
       "      <td>0</td>\n",
       "      <td>0</td>\n",
       "    </tr>\n",
       "    <tr>\n",
       "      <th>1</th>\n",
       "      <td>6</td>\n",
       "      <td>88.53</td>\n",
       "      <td>k</td>\n",
       "      <td>t</td>\n",
       "      <td>av</td>\n",
       "      <td>e</td>\n",
       "      <td>d</td>\n",
       "      <td>y</td>\n",
       "      <td>l</td>\n",
       "      <td>o</td>\n",
       "      <td>...</td>\n",
       "      <td>1</td>\n",
       "      <td>0</td>\n",
       "      <td>0</td>\n",
       "      <td>0</td>\n",
       "      <td>0</td>\n",
       "      <td>0</td>\n",
       "      <td>0</td>\n",
       "      <td>0</td>\n",
       "      <td>0</td>\n",
       "      <td>0</td>\n",
       "    </tr>\n",
       "    <tr>\n",
       "      <th>2</th>\n",
       "      <td>7</td>\n",
       "      <td>76.26</td>\n",
       "      <td>az</td>\n",
       "      <td>w</td>\n",
       "      <td>n</td>\n",
       "      <td>c</td>\n",
       "      <td>d</td>\n",
       "      <td>x</td>\n",
       "      <td>j</td>\n",
       "      <td>x</td>\n",
       "      <td>...</td>\n",
       "      <td>0</td>\n",
       "      <td>0</td>\n",
       "      <td>0</td>\n",
       "      <td>0</td>\n",
       "      <td>0</td>\n",
       "      <td>0</td>\n",
       "      <td>1</td>\n",
       "      <td>0</td>\n",
       "      <td>0</td>\n",
       "      <td>0</td>\n",
       "    </tr>\n",
       "    <tr>\n",
       "      <th>3</th>\n",
       "      <td>9</td>\n",
       "      <td>80.62</td>\n",
       "      <td>az</td>\n",
       "      <td>t</td>\n",
       "      <td>n</td>\n",
       "      <td>f</td>\n",
       "      <td>d</td>\n",
       "      <td>x</td>\n",
       "      <td>l</td>\n",
       "      <td>e</td>\n",
       "      <td>...</td>\n",
       "      <td>0</td>\n",
       "      <td>0</td>\n",
       "      <td>0</td>\n",
       "      <td>0</td>\n",
       "      <td>0</td>\n",
       "      <td>0</td>\n",
       "      <td>0</td>\n",
       "      <td>0</td>\n",
       "      <td>0</td>\n",
       "      <td>0</td>\n",
       "    </tr>\n",
       "    <tr>\n",
       "      <th>4</th>\n",
       "      <td>13</td>\n",
       "      <td>78.02</td>\n",
       "      <td>az</td>\n",
       "      <td>v</td>\n",
       "      <td>n</td>\n",
       "      <td>f</td>\n",
       "      <td>d</td>\n",
       "      <td>h</td>\n",
       "      <td>d</td>\n",
       "      <td>n</td>\n",
       "      <td>...</td>\n",
       "      <td>0</td>\n",
       "      <td>0</td>\n",
       "      <td>0</td>\n",
       "      <td>0</td>\n",
       "      <td>0</td>\n",
       "      <td>0</td>\n",
       "      <td>0</td>\n",
       "      <td>0</td>\n",
       "      <td>0</td>\n",
       "      <td>0</td>\n",
       "    </tr>\n",
       "  </tbody>\n",
       "</table>\n",
       "<p>5 rows × 378 columns</p>\n",
       "</div>"
      ],
      "text/plain": [
       "   ID       y  X0 X1  X2 X3 X4 X5 X6 X8  ...  X375  X376  X377  X378  X379  \\\n",
       "0   0  130.81   k  v  at  a  d  u  j  o  ...     0     0     1     0     0   \n",
       "1   6   88.53   k  t  av  e  d  y  l  o  ...     1     0     0     0     0   \n",
       "2   7   76.26  az  w   n  c  d  x  j  x  ...     0     0     0     0     0   \n",
       "3   9   80.62  az  t   n  f  d  x  l  e  ...     0     0     0     0     0   \n",
       "4  13   78.02  az  v   n  f  d  h  d  n  ...     0     0     0     0     0   \n",
       "\n",
       "   X380  X382  X383  X384  X385  \n",
       "0     0     0     0     0     0  \n",
       "1     0     0     0     0     0  \n",
       "2     0     1     0     0     0  \n",
       "3     0     0     0     0     0  \n",
       "4     0     0     0     0     0  \n",
       "\n",
       "[5 rows x 378 columns]"
      ]
     },
     "execution_count": 67,
     "metadata": {},
     "output_type": "execute_result"
    }
   ],
   "source": [
    "%%time\n",
    "\n",
    "data = pd.read_csv('train.csv')\n",
    "data.head()"
   ]
  },
  {
   "cell_type": "code",
   "execution_count": 68,
   "id": "fe8b5372-bfeb-4f01-82df-34e2db1c6bbe",
   "metadata": {},
   "outputs": [
    {
     "name": "stdout",
     "output_type": "stream",
     "text": [
      "Data splitted. Parts sizes: tr_data = (3156, 378), te_data = (1053, 378)\n",
      "CPU times: user 11.2 ms, sys: 0 ns, total: 11.2 ms\n",
      "Wall time: 9.97 ms\n"
     ]
    }
   ],
   "source": [
    "%%time\n",
    "\n",
    "tr_data, te_data = train_test_split(data, \n",
    "                                    test_size=TEST_SIZE, \n",
    "                                    random_state=RANDOM_STATE)\n",
    "print('Data splitted. Parts sizes: tr_data = {}, te_data = {}'.format(tr_data.shape, te_data.shape))"
   ]
  },
  {
   "cell_type": "code",
   "execution_count": 69,
   "id": "aa60e747-49f6-4e00-ac23-dcabe2775bce",
   "metadata": {},
   "outputs": [
    {
     "name": "stdout",
     "output_type": "stream",
     "text": [
      "CPU times: user 1.97 ms, sys: 0 ns, total: 1.97 ms\n",
      "Wall time: 1.67 ms\n"
     ]
    }
   ],
   "source": [
    "%%time\n",
    "\n",
    "task = Task('reg', )"
   ]
  },
  {
   "cell_type": "code",
   "execution_count": 70,
   "id": "b69e50c1-7533-43cd-95ed-ff96843b54f2",
   "metadata": {},
   "outputs": [
    {
     "name": "stdout",
     "output_type": "stream",
     "text": [
      "CPU times: user 8 µs, sys: 5 µs, total: 13 µs\n",
      "Wall time: 26.7 µs\n"
     ]
    }
   ],
   "source": [
    "%%time\n",
    "\n",
    "roles = {'target': TARGET_NAME,\n",
    "         'drop': ['ID']\n",
    "         }"
   ]
  },
  {
   "cell_type": "code",
   "execution_count": 71,
   "id": "0d1a88a3-de30-41e0-8fd2-f5ef193a5ff7",
   "metadata": {},
   "outputs": [],
   "source": [
    "automl = TabularAutoML(task = task, \n",
    "                       timeout = TIMEOUT,\n",
    "                       cpu_limit = N_THREADS,\n",
    "                       memory_limit = 64,\n",
    "                       reader_params = {'n_jobs': N_THREADS, 'cv': N_FOLDS, 'random_state': RANDOM_STATE},\n",
    "                       general_params={'use_algos': [['linear_l2', 'lgb'], ['linear_l2', 'lgb_tuned']]},\n",
    "                       tuning_params={'max_tuning_iter': 5},\n",
    "                      )"
   ]
  },
  {
   "cell_type": "code",
   "execution_count": 81,
   "id": "779db2bf-e06d-47e7-a6ef-f0a28e72ec5a",
   "metadata": {},
   "outputs": [],
   "source": [
    "sample_subm = pd.read_csv('sample_submission.csv')\n",
    "train = pd.read_csv('train.csv')\n",
    "test = pd.read_csv('test.csv')"
   ]
  },
  {
   "cell_type": "code",
   "execution_count": 82,
   "id": "7114ecd8-54fa-4c52-b708-ccdd4cf2d608",
   "metadata": {},
   "outputs": [],
   "source": [
    "X_train, X_test, y_train, y_test = train_test_split(train.drop('y',1), train.y, test_size=0.25, random_state=42)"
   ]
  },
  {
   "cell_type": "code",
   "execution_count": 83,
   "id": "e40f45f3-400d-4e6a-a351-3b2cc0ee7ea4",
   "metadata": {
    "collapsed": true,
    "jupyter": {
     "outputs_hidden": true
    },
    "tags": []
   },
   "outputs": [
    {
     "name": "stdout",
     "output_type": "stream",
     "text": [
      "Start automl preset with listed constraints:\n",
      "- time: 300 seconds\n",
      "- cpus: 64 cores\n",
      "- memory: 64 gb\n",
      "\n",
      "Train data shape: (3156, 378)\n",
      "Feats was rejected during automatic roles guess: []\n",
      "\n",
      "\n",
      "Layer 1 ...\n",
      "Train process start. Time left 260.797598361969 secs\n",
      "Start fitting Lvl_0_Pipe_0_Mod_0_LinearL2 ...\n",
      "\n",
      "===== Start working with fold 0 for Lvl_0_Pipe_0_Mod_0_LinearL2 =====\n",
      "\n",
      "Linear model: C = 1e-05 score = -108.3737847547125\n",
      "Linear model: C = 5e-05 score = -88.36382548178936\n",
      "Linear model: C = 0.0001 score = -84.54969601065066\n",
      "Linear model: C = 0.0005 score = -82.7007256122448\n",
      "Linear model: C = 0.001 score = -83.09104426686677\n",
      "Linear model: C = 0.005 score = -84.66454956785506\n",
      "\n",
      "===== Start working with fold 1 for Lvl_0_Pipe_0_Mod_0_LinearL2 =====\n",
      "\n",
      "Linear model: C = 1e-05 score = -97.45912277044373\n",
      "Linear model: C = 5e-05 score = -72.40877662423227\n",
      "Linear model: C = 0.0001 score = -66.8131024621608\n",
      "Linear model: C = 0.0005 score = -63.19683079678621\n",
      "Linear model: C = 0.001 score = -63.53496370606508\n",
      "Linear model: C = 0.005 score = -65.65091687578358\n",
      "\n",
      "===== Start working with fold 2 for Lvl_0_Pipe_0_Mod_0_LinearL2 =====\n",
      "\n",
      "Linear model: C = 1e-05 score = -133.31236365802323\n",
      "Linear model: C = 5e-05 score = -116.87332254284671\n",
      "Linear model: C = 0.0001 score = -113.01945445294096\n",
      "Linear model: C = 0.0005 score = -109.95147735188304\n",
      "Linear model: C = 0.001 score = -109.47391499056313\n",
      "Linear model: C = 0.005 score = -108.60604642567607\n",
      "Linear model: C = 0.01 score = -108.41080171508631\n",
      "Linear model: C = 0.05 score = -107.90978183387502\n",
      "Linear model: C = 0.1 score = -107.69589218609711\n",
      "Linear model: C = 0.5 score = -107.24774426591065\n",
      "Linear model: C = 1 score = -107.42836229785969\n",
      "Linear model: C = 5 score = -107.5373008948071\n",
      "\n",
      "===== Start working with fold 3 for Lvl_0_Pipe_0_Mod_0_LinearL2 =====\n",
      "\n",
      "Linear model: C = 1e-05 score = -81.02191843654069\n",
      "Linear model: C = 5e-05 score = -61.05000290246022\n",
      "Linear model: C = 0.0001 score = -56.523411875043934\n",
      "Linear model: C = 0.0005 score = -52.43080766806752\n",
      "Linear model: C = 0.001 score = -51.952977870381616\n",
      "Linear model: C = 0.005 score = -52.424315496346864\n",
      "Linear model: C = 0.01 score = -53.37497626429707\n",
      "\n",
      "===== Start working with fold 4 for Lvl_0_Pipe_0_Mod_0_LinearL2 =====\n",
      "\n",
      "Linear model: C = 1e-05 score = -95.53885467260888\n",
      "Linear model: C = 5e-05 score = -73.3166898701028\n",
      "Linear model: C = 0.0001 score = -68.54725957620144\n",
      "Linear model: C = 0.0005 score = -65.27696292505784\n",
      "Linear model: C = 0.001 score = -65.31170747118615\n",
      "Linear model: C = 0.005 score = -66.44718406243499\n",
      "Lvl_0_Pipe_0_Mod_0_LinearL2 fitting and predicting completed\n",
      "Time left 252.78029561042786\n",
      "Start fitting Selector_LightGBM ...\n",
      "\n",
      "===== Start working with fold 0 for Selector_LightGBM =====\n",
      "\n",
      "Training until validation scores don't improve for 200 rounds\n",
      "[100]\tvalid's l2: 92.1984\n",
      "[200]\tvalid's l2: 84.1877\n",
      "[300]\tvalid's l2: 82.9849\n",
      "[400]\tvalid's l2: 83.1483\n",
      "[500]\tvalid's l2: 83.4658\n",
      "Early stopping, best iteration is:\n",
      "[314]\tvalid's l2: 82.929\n",
      "Selector_LightGBM fitting and predicting completed\n",
      "Start fitting Lvl_0_Pipe_1_Mod_0_LightGBM ...\n",
      "\n",
      "===== Start working with fold 0 for Lvl_0_Pipe_1_Mod_0_LightGBM =====\n",
      "\n",
      "Training until validation scores don't improve for 200 rounds\n",
      "[100]\tvalid's l2: 89.9172\n",
      "[200]\tvalid's l2: 81.1391\n",
      "[300]\tvalid's l2: 79.3657\n",
      "[400]\tvalid's l2: 78.6724\n",
      "[500]\tvalid's l2: 78.4782\n",
      "[600]\tvalid's l2: 78.3497\n",
      "[700]\tvalid's l2: 78.3043\n",
      "[800]\tvalid's l2: 78.3252\n",
      "Early stopping, best iteration is:\n",
      "[640]\tvalid's l2: 78.2176\n",
      "\n",
      "===== Start working with fold 1 for Lvl_0_Pipe_1_Mod_0_LightGBM =====\n",
      "\n",
      "Training until validation scores don't improve for 200 rounds\n",
      "[100]\tvalid's l2: 74.07\n",
      "[200]\tvalid's l2: 60.443\n",
      "[300]\tvalid's l2: 57.4993\n",
      "[400]\tvalid's l2: 56.847\n",
      "[500]\tvalid's l2: 56.8444\n",
      "[600]\tvalid's l2: 56.9666\n",
      "[700]\tvalid's l2: 57.1759\n",
      "Early stopping, best iteration is:\n",
      "[545]\tvalid's l2: 56.8113\n",
      "\n",
      "===== Start working with fold 2 for Lvl_0_Pipe_1_Mod_0_LightGBM =====\n",
      "\n",
      "Training until validation scores don't improve for 200 rounds\n",
      "[100]\tvalid's l2: 111.379\n",
      "[200]\tvalid's l2: 103.859\n",
      "[300]\tvalid's l2: 103.288\n",
      "[400]\tvalid's l2: 103.683\n",
      "Early stopping, best iteration is:\n",
      "[292]\tvalid's l2: 103.241\n",
      "\n",
      "===== Start working with fold 3 for Lvl_0_Pipe_1_Mod_0_LightGBM =====\n",
      "\n",
      "Training until validation scores don't improve for 200 rounds\n",
      "[100]\tvalid's l2: 62.3581\n",
      "[200]\tvalid's l2: 53.1176\n",
      "[300]\tvalid's l2: 52.4911\n",
      "[400]\tvalid's l2: 52.502\n",
      "[500]\tvalid's l2: 52.4597\n",
      "[600]\tvalid's l2: 52.5769\n",
      "[700]\tvalid's l2: 52.8583\n",
      "Early stopping, best iteration is:\n",
      "[525]\tvalid's l2: 52.3643\n",
      "\n",
      "===== Start working with fold 4 for Lvl_0_Pipe_1_Mod_0_LightGBM =====\n",
      "\n",
      "Training until validation scores don't improve for 200 rounds\n",
      "[100]\tvalid's l2: 77.7168\n",
      "[200]\tvalid's l2: 65.8547\n",
      "[300]\tvalid's l2: 63.7206\n",
      "[400]\tvalid's l2: 62.8831\n",
      "[500]\tvalid's l2: 62.7499\n",
      "[600]\tvalid's l2: 62.6628\n",
      "[700]\tvalid's l2: 62.5836\n",
      "[800]\tvalid's l2: 62.6734\n",
      "Early stopping, best iteration is:\n",
      "[635]\tvalid's l2: 62.5363\n",
      "Lvl_0_Pipe_1_Mod_0_LightGBM fitting and predicting completed\n",
      "Time left 240.7375717163086\n",
      "Layer 1 training completed.\n",
      "\n",
      "\n",
      "Layer 2 ...\n",
      "Train process start. Time left 240.69677257537842 secs\n",
      "Start fitting Lvl_1_Pipe_0_Mod_0_LinearL2 ...\n",
      "\n",
      "===== Start working with fold 0 for Lvl_1_Pipe_0_Mod_0_LinearL2 =====\n",
      "\n",
      "Linear model: C = 1e-05 score = -102.69727483813656\n",
      "Linear model: C = 5e-05 score = -85.17876745530353\n",
      "Linear model: C = 0.0001 score = -82.88833067528834\n",
      "Linear model: C = 0.0005 score = -82.63811594614351\n",
      "Linear model: C = 0.001 score = -82.56428656003885\n",
      "Linear model: C = 0.005 score = -79.37267554061691\n",
      "Linear model: C = 0.01 score = -77.01679845160601\n",
      "Linear model: C = 0.05 score = -73.26209596592989\n",
      "Linear model: C = 0.1 score = -73.00367566691627\n",
      "Linear model: C = 0.5 score = -74.1130826683723\n",
      "Linear model: C = 1 score = -74.92828675489342\n",
      "\n",
      "===== Start working with fold 1 for Lvl_1_Pipe_0_Mod_0_LinearL2 =====\n",
      "\n",
      "Linear model: C = 1e-05 score = -91.16659592049436\n",
      "Linear model: C = 5e-05 score = -68.374943558634\n",
      "Linear model: C = 0.0001 score = -64.47688576399187\n",
      "Linear model: C = 0.0005 score = -63.00189307835413\n",
      "Linear model: C = 0.001 score = -63.07045438617348\n",
      "Linear model: C = 0.005 score = -60.552313017412104\n",
      "Linear model: C = 0.01 score = -58.40744434739055\n",
      "Linear model: C = 0.05 score = -54.77625063167586\n",
      "Linear model: C = 0.1 score = -54.067597826181846\n",
      "Linear model: C = 0.5 score = -54.037491215331244\n",
      "Linear model: C = 1 score = -54.3316583011529\n",
      "Linear model: C = 5 score = -54.41662421705983\n",
      "\n",
      "===== Start working with fold 2 for Lvl_1_Pipe_0_Mod_0_LinearL2 =====\n",
      "\n",
      "Linear model: C = 1e-05 score = -127.40885250408314\n",
      "Linear model: C = 5e-05 score = -112.42732075390946\n",
      "Linear model: C = 0.0001 score = -109.94871634908013\n",
      "Linear model: C = 0.0005 score = -108.764344981884\n",
      "Linear model: C = 0.001 score = -108.26811063871145\n",
      "Linear model: C = 0.005 score = -106.28990733762267\n",
      "Linear model: C = 0.01 score = -108.75028854146306\n",
      "Linear model: C = 0.05 score = -133.896429260088\n",
      "\n",
      "===== Start working with fold 3 for Lvl_1_Pipe_0_Mod_0_LinearL2 =====\n",
      "\n",
      "Linear model: C = 1e-05 score = -75.1523568820879\n",
      "Linear model: C = 5e-05 score = -57.4188541286566\n",
      "Linear model: C = 0.0001 score = -54.549142996344145\n",
      "Linear model: C = 0.0005 score = -52.79023995896619\n",
      "Linear model: C = 0.001 score = -52.30047868167227\n",
      "Linear model: C = 0.005 score = -49.073372277779775\n",
      "Linear model: C = 0.01 score = -47.15792398425192\n",
      "Linear model: C = 0.05 score = -45.52823959871283\n",
      "Linear model: C = 0.1 score = -46.272634020094124\n",
      "Linear model: C = 0.5 score = -48.18198234063406\n",
      "\n",
      "===== Start working with fold 4 for Lvl_1_Pipe_0_Mod_0_LinearL2 =====\n",
      "\n",
      "Linear model: C = 1e-05 score = -89.62723529866591\n",
      "Linear model: C = 5e-05 score = -69.70930246098003\n",
      "Linear model: C = 0.0001 score = -66.52121976823373\n",
      "Linear model: C = 0.0005 score = -64.97917282648169\n",
      "Linear model: C = 0.001 score = -64.66547092382737\n",
      "Linear model: C = 0.005 score = -61.73764123522196\n",
      "Linear model: C = 0.01 score = -59.85029539818666\n",
      "Linear model: C = 0.05 score = -57.727522944888506\n",
      "Linear model: C = 0.1 score = -58.13127327876637\n",
      "Linear model: C = 0.5 score = -59.825525509879185\n",
      "Lvl_1_Pipe_0_Mod_0_LinearL2 fitting and predicting completed\n",
      "Time left 226.06208324432373\n",
      "Optuna may run 164.55729460716253 secs\n"
     ]
    },
    {
     "name": "stderr",
     "output_type": "stream",
     "text": [
      "A new study created in memory with name: no-name-f5926949-e656-4d29-bf21-a05657d6b527\n"
     ]
    },
    {
     "name": "stdout",
     "output_type": "stream",
     "text": [
      "Start fitting Lvl_1_Pipe_1_Mod_0_LightGBM ...\n",
      "\n",
      "===== Start working with fold 0 for Lvl_1_Pipe_1_Mod_0_LightGBM =====\n",
      "\n",
      "Training until validation scores don't improve for 200 rounds\n",
      "[100]\tvalid's l2: 89.4943\n",
      "[200]\tvalid's l2: 80.316\n",
      "[300]\tvalid's l2: 79.0699\n",
      "[400]\tvalid's l2: 78.3816\n",
      "[500]\tvalid's l2: 78.3385\n",
      "[600]\tvalid's l2: 78.424\n",
      "Early stopping, best iteration is:\n",
      "[411]\tvalid's l2: 78.3347\n",
      "Lvl_1_Pipe_1_Mod_0_LightGBM fitting and predicting completed\n"
     ]
    },
    {
     "name": "stderr",
     "output_type": "stream",
     "text": [
      "Trial 0 finished with value: -78.3346880751718 and parameters: {'feature_fraction': 0.6872700594236812, 'num_leaves': 244}. Best is trial 0 with value: -78.3346880751718.\n"
     ]
    },
    {
     "name": "stdout",
     "output_type": "stream",
     "text": [
      "Start fitting Lvl_1_Pipe_1_Mod_0_LightGBM ...\n",
      "\n",
      "===== Start working with fold 0 for Lvl_1_Pipe_1_Mod_0_LightGBM =====\n",
      "\n",
      "Training until validation scores don't improve for 200 rounds\n",
      "[100]\tvalid's l2: 88.9834\n",
      "[200]\tvalid's l2: 80.0609\n",
      "[300]\tvalid's l2: 78.8782\n",
      "[400]\tvalid's l2: 78.1862\n",
      "[500]\tvalid's l2: 77.8201\n",
      "[600]\tvalid's l2: 77.8824\n",
      "[700]\tvalid's l2: 77.8647\n",
      "Early stopping, best iteration is:\n",
      "[546]\tvalid's l2: 77.7502\n",
      "Lvl_1_Pipe_1_Mod_0_LightGBM fitting and predicting completed\n"
     ]
    },
    {
     "name": "stderr",
     "output_type": "stream",
     "text": [
      "Trial 1 finished with value: -77.75017399810498 and parameters: {'feature_fraction': 0.8659969709057025, 'num_leaves': 159}. Best is trial 1 with value: -77.75017399810498.\n"
     ]
    },
    {
     "name": "stdout",
     "output_type": "stream",
     "text": [
      "Start fitting Lvl_1_Pipe_1_Mod_0_LightGBM ...\n",
      "\n",
      "===== Start working with fold 0 for Lvl_1_Pipe_1_Mod_0_LightGBM =====\n",
      "\n",
      "Training until validation scores don't improve for 200 rounds\n",
      "[100]\tvalid's l2: 89.9002\n",
      "[200]\tvalid's l2: 80.6277\n",
      "[300]\tvalid's l2: 79.4208\n",
      "[400]\tvalid's l2: 78.7183\n",
      "[500]\tvalid's l2: 78.6488\n",
      "[600]\tvalid's l2: 78.6542\n",
      "[700]\tvalid's l2: 78.677\n",
      "Early stopping, best iteration is:\n",
      "[579]\tvalid's l2: 78.5691\n",
      "Lvl_1_Pipe_1_Mod_0_LightGBM fitting and predicting completed\n"
     ]
    },
    {
     "name": "stderr",
     "output_type": "stream",
     "text": [
      "Trial 2 finished with value: -78.56914597801108 and parameters: {'feature_fraction': 0.5780093202212182, 'num_leaves': 53}. Best is trial 1 with value: -77.75017399810498.\n"
     ]
    },
    {
     "name": "stdout",
     "output_type": "stream",
     "text": [
      "Start fitting Lvl_1_Pipe_1_Mod_0_LightGBM ...\n",
      "\n",
      "===== Start working with fold 0 for Lvl_1_Pipe_1_Mod_0_LightGBM =====\n",
      "\n",
      "Training until validation scores don't improve for 200 rounds\n",
      "[100]\tvalid's l2: 89.9842\n",
      "[200]\tvalid's l2: 80.4714\n",
      "[300]\tvalid's l2: 79.1655\n",
      "[400]\tvalid's l2: 78.4301\n",
      "[500]\tvalid's l2: 78.3184\n",
      "[600]\tvalid's l2: 78.2642\n",
      "[700]\tvalid's l2: 78.2751\n",
      "Early stopping, best iteration is:\n",
      "[581]\tvalid's l2: 78.1907\n",
      "Lvl_1_Pipe_1_Mod_0_LightGBM fitting and predicting completed\n"
     ]
    },
    {
     "name": "stderr",
     "output_type": "stream",
     "text": [
      "Trial 3 finished with value: -78.19067816960373 and parameters: {'feature_fraction': 0.5290418060840998, 'num_leaves': 223}. Best is trial 1 with value: -77.75017399810498.\n"
     ]
    },
    {
     "name": "stdout",
     "output_type": "stream",
     "text": [
      "Start fitting Lvl_1_Pipe_1_Mod_0_LightGBM ...\n",
      "\n",
      "===== Start working with fold 0 for Lvl_1_Pipe_1_Mod_0_LightGBM =====\n",
      "\n",
      "Training until validation scores don't improve for 200 rounds\n",
      "[100]\tvalid's l2: 88.7578\n",
      "[200]\tvalid's l2: 79.5884\n",
      "[300]\tvalid's l2: 78.5355\n",
      "[400]\tvalid's l2: 77.8624\n",
      "[500]\tvalid's l2: 77.5664\n",
      "[600]\tvalid's l2: 77.6918\n",
      "[700]\tvalid's l2: 77.9082\n",
      "Early stopping, best iteration is:\n",
      "[528]\tvalid's l2: 77.5225\n",
      "Lvl_1_Pipe_1_Mod_0_LightGBM fitting and predicting completed\n"
     ]
    },
    {
     "name": "stderr",
     "output_type": "stream",
     "text": [
      "Trial 4 finished with value: -77.52250128613453 and parameters: {'feature_fraction': 0.8005575058716043, 'num_leaves': 185}. Best is trial 4 with value: -77.52250128613453.\n"
     ]
    },
    {
     "name": "stdout",
     "output_type": "stream",
     "text": [
      "Start fitting Lvl_1_Pipe_1_Mod_0_LightGBM ...\n",
      "\n",
      "===== Start working with fold 0 for Lvl_1_Pipe_1_Mod_0_LightGBM =====\n",
      "\n",
      "Training until validation scores don't improve for 100 rounds\n",
      "[100]\tvalid's l2: 78.9078\n",
      "[200]\tvalid's l2: 78.7634\n",
      "Early stopping, best iteration is:\n",
      "[165]\tvalid's l2: 78.3359\n",
      "\n",
      "===== Start working with fold 1 for Lvl_1_Pipe_1_Mod_0_LightGBM =====\n",
      "\n",
      "Training until validation scores don't improve for 100 rounds\n",
      "[100]\tvalid's l2: 57.599\n",
      "Early stopping, best iteration is:\n",
      "[88]\tvalid's l2: 57.323\n",
      "\n",
      "===== Start working with fold 2 for Lvl_1_Pipe_1_Mod_0_LightGBM =====\n",
      "\n",
      "Training until validation scores don't improve for 100 rounds\n",
      "[100]\tvalid's l2: 103.204\n",
      "Early stopping, best iteration is:\n",
      "[90]\tvalid's l2: 102.944\n",
      "\n",
      "===== Start working with fold 3 for Lvl_1_Pipe_1_Mod_0_LightGBM =====\n",
      "\n",
      "Training until validation scores don't improve for 100 rounds\n",
      "[100]\tvalid's l2: 53.5342\n",
      "Early stopping, best iteration is:\n",
      "[56]\tvalid's l2: 51.8913\n",
      "\n",
      "===== Start working with fold 4 for Lvl_1_Pipe_1_Mod_0_LightGBM =====\n",
      "\n",
      "Training until validation scores don't improve for 100 rounds\n",
      "[100]\tvalid's l2: 62.5298\n",
      "[200]\tvalid's l2: 63.1527\n",
      "Early stopping, best iteration is:\n",
      "[102]\tvalid's l2: 62.3378\n",
      "Lvl_1_Pipe_1_Mod_0_LightGBM fitting and predicting completed\n",
      "Time left 181.61080241203308\n",
      "Blending: Optimization starts with equal weights and score -65.44029951055612\n",
      "Blending, iter 0: score = -65.25192735549842, weights = [0.6159357  0.38406432]\n",
      "Blending, iter 1: score = -65.25192735549842, weights = [0.6159357  0.38406432]\n",
      "No score update. Terminated\n",
      "\n",
      "Automl preset training completed in 118.41 seconds.\n"
     ]
    },
    {
     "data": {
      "text/plain": [
       "array([[117.86851 ],\n",
       "       [ 96.76283 ],\n",
       "       [ 96.45785 ],\n",
       "       ...,\n",
       "       [ 92.007996],\n",
       "       [ 94.88602 ],\n",
       "       [ 95.24202 ]], dtype=float32)"
      ]
     },
     "execution_count": 83,
     "metadata": {},
     "output_type": "execute_result"
    }
   ],
   "source": [
    "automl.fit_predict(pd.concat([X_train, y_train],1), roles = roles)"
   ]
  },
  {
   "cell_type": "code",
   "execution_count": 84,
   "id": "95a27f41-0d02-4d2e-8f9a-5cf3e3bdf5e9",
   "metadata": {},
   "outputs": [],
   "source": [
    "preds = automl.predict(X_test)"
   ]
  },
  {
   "cell_type": "code",
   "execution_count": 85,
   "id": "589d08af-9a42-40c9-b8a0-ef8044c728ad",
   "metadata": {
    "tags": []
   },
   "outputs": [
    {
     "data": {
      "text/plain": [
       "0.5507655491033524"
      ]
     },
     "execution_count": 85,
     "metadata": {},
     "output_type": "execute_result"
    }
   ],
   "source": [
    "r2_score(y_test, preds.data)"
   ]
  },
  {
   "cell_type": "code",
   "execution_count": null,
   "id": "3d580715-f8c9-408c-9399-8f9757f3a9fe",
   "metadata": {},
   "outputs": [],
   "source": []
  },
  {
   "cell_type": "markdown",
   "id": "f62ec5ee-3d9a-4cb3-b8ff-5a00d31db250",
   "metadata": {},
   "source": [
    "# Итог:\n",
    "1. Auto Gluon (0.566)\n",
    "2. CatBoost + Optuna + tricks (0.565)\n",
    "3. LAMA (0.551)"
   ]
  }
 ],
 "metadata": {
  "kernelspec": {
   "display_name": "Python 3",
   "language": "python",
   "name": "python3"
  },
  "language_info": {
   "codemirror_mode": {
    "name": "ipython",
    "version": 3
   },
   "file_extension": ".py",
   "mimetype": "text/x-python",
   "name": "python",
   "nbconvert_exporter": "python",
   "pygments_lexer": "ipython3",
   "version": "3.6.9"
  }
 },
 "nbformat": 4,
 "nbformat_minor": 5
}
